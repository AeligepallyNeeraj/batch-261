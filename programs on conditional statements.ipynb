{
 "cells": [
  {
   "cell_type": "markdown",
   "id": "238b9e04",
   "metadata": {},
   "source": [
    "# 1.Write a Python program that asks the user for their age and prints \"You are an adult\" if the age is 18 or older, otherwise prints \"You are a minor'.\n"
   ]
  },
  {
   "cell_type": "code",
   "execution_count": 5,
   "id": "f114be8c",
   "metadata": {},
   "outputs": [
    {
     "name": "stdout",
     "output_type": "stream",
     "text": [
      "enter their age:19\n",
      "You are an adult\n"
     ]
    }
   ],
   "source": [
    "age=int(input('enter their age:'))#suing if and else condition statement\n",
    "if age>=18:\n",
    "    print(\"You are an adult\")\n",
    "else:\n",
    "    print(\"You are a minor\")"
   ]
  },
  {
   "cell_type": "markdown",
   "id": "4e180ebf",
   "metadata": {},
   "source": [
    "# 2.Write a program that takes a numerical grade (out of 100) as input and prints the corresponding letter grade according to the following scale:\n",
    " 90-100: A\n",
    " 80-89: B\n",
    " 70-79: C\n",
    " 60-69: D\n",
    " Below 60: F\n"
   ]
  },
  {
   "cell_type": "code",
   "execution_count": 9,
   "id": "015bd68a",
   "metadata": {},
   "outputs": [
    {
     "name": "stdout",
     "output_type": "stream",
     "text": [
      "enter the marks:59\n",
      "F\n"
     ]
    }
   ],
   "source": [
    "marks=float(input('enter the marks:'))\n",
    "if 90<marks>100:\n",
    "    print('A')\n",
    "elif 80<marks>89:\n",
    "    print('B')\n",
    "elif 70<marks>79:\n",
    "    print('C')\n",
    "elif 60<marks>69:\n",
    "    print('D')\n",
    "else:\n",
    "    print('F')"
   ]
  },
  {
   "cell_type": "code",
   "execution_count": 11,
   "id": "98dd65cf",
   "metadata": {},
   "outputs": [
    {
     "name": "stdout",
     "output_type": "stream",
     "text": [
      "enter the marks:79\n",
      "D\n"
     ]
    }
   ],
   "source": [
    "marks=float(input('enter the marks:'))# using the codition of if elif and else statement\n",
    "if 90<marks>100:\n",
    "    print('A')\n",
    "elif 80<marks>89:\n",
    "    print('B')\n",
    "elif 70<marks>79:\n",
    "    print('C')\n",
    "elif 60<marks>69:\n",
    "    print('D')\n",
    "else:\n",
    "    print('F')"
   ]
  },
  {
   "cell_type": "markdown",
   "id": "272ed5f4",
   "metadata": {},
   "source": [
    "# 3.Write a program that calculates the Body Mass Index (BMI) of a person. The user should input their weight in kilograms and height in meters. The program should then print whether the person is underweight, normal weight, overweight, or obese"
   ]
  },
  {
   "cell_type": "code",
   "execution_count": 12,
   "id": "622ac059",
   "metadata": {},
   "outputs": [
    {
     "name": "stdout",
     "output_type": "stream",
     "text": [
      "enter their weight:85\n",
      "enter theit height:5.7\n",
      "under weight\n"
     ]
    }
   ],
   "source": [
    "weight=float(input('enter their weight:'))##using the two inputs we does conditional statements\n",
    "height=float(input('enter theit height:'))\n",
    "if 60<weight>70 and 5<height>6:\n",
    "    print('normal weight')\n",
    "elif 80<weight>90 and 5.5<height>6.5:\n",
    "    print('over weight')\n",
    "elif 90<weight>120 and 5<height>5.5:\n",
    "    print('obese')\n",
    "else:\n",
    "    print('under weight')"
   ]
  },
  {
   "cell_type": "markdown",
   "id": "bec99d9c",
   "metadata": {},
   "source": [
    "# 3.Write a program that asks the user for three numbers and prints the maximum of the three.\n"
   ]
  },
  {
   "cell_type": "code",
   "execution_count": 20,
   "id": "02f04de7",
   "metadata": {},
   "outputs": [
    {
     "name": "stdout",
     "output_type": "stream",
     "text": [
      "enter a number:2\n",
      "maximum\n",
      "maximum\n"
     ]
    }
   ],
   "source": [
    "num=int(input('enter a number:'))#using nested if\n",
    "if num<4:\n",
    "    print('maximum')\n",
    "    if num<15:\n",
    "        print('maximum')\n",
    "    else:\n",
    "        print('maximum of three')"
   ]
  },
  {
   "cell_type": "markdown",
   "id": "27c163c5",
   "metadata": {},
   "source": [
    "# 4.Write a program that asks the user for a number and prints \"In range\" if the number is between 10 and 20 (inclusive), and \"Out of range\" otherwise.\n"
   ]
  },
  {
   "cell_type": "code",
   "execution_count": 21,
   "id": "b3980e0b",
   "metadata": {},
   "outputs": [
    {
     "name": "stdout",
     "output_type": "stream",
     "text": [
      "enter a number:17\n",
      "out of range\n"
     ]
    }
   ],
   "source": [
    "num=int(input('enter a number:'))#using the range method in conditional statement\n",
    "if num in range(1-10):\n",
    "    print('inclusive')\n",
    "else:\n",
    "    print('out of range')"
   ]
  },
  {
   "cell_type": "markdown",
   "id": "6c786f88",
   "metadata": {},
   "source": [
    "# 5.Write a program that asks the user for an integer and prints whether it's even or odd.\n",
    "\n"
   ]
  },
  {
   "cell_type": "code",
   "execution_count": 22,
   "id": "033b6cc4",
   "metadata": {},
   "outputs": [
    {
     "name": "stdout",
     "output_type": "stream",
     "text": [
      "enter an integer:5\n",
      "its an odd number\n"
     ]
    }
   ],
   "source": [
    "num=int(input('enter an integer:'))#using the divisiblility of 2.\n",
    "if num%2==0:\n",
    "    print('its even number')\n",
    "else:\n",
    "    print('its an odd number')"
   ]
  },
  {
   "cell_type": "code",
   "execution_count": 23,
   "id": "77cfa425",
   "metadata": {},
   "outputs": [
    {
     "name": "stdout",
     "output_type": "stream",
     "text": [
      "enter an integer:6\n",
      "its even number\n"
     ]
    }
   ],
   "source": [
    "num=int(input('enter an integer:'))#using the divisiblility of 2.\n",
    "if num%2==0:\n",
    "    print('its even number')\n",
    "else:\n",
    "    print('its an odd number')"
   ]
  },
  {
   "cell_type": "markdown",
   "id": "af79625d",
   "metadata": {},
   "source": [
    "# Write a program that asks the user for a temperature (in Celsius) and prints \"It's freezing\" if the temperature is below 0, \"It's cool\" if it's between 0 and 10, \"It's warm\" if it's between 10 and 20, and \"It's hot\" if it's above 20\n"
   ]
  },
  {
   "cell_type": "code",
   "execution_count": 24,
   "id": "49bc20dc",
   "metadata": {},
   "outputs": [
    {
     "name": "stdout",
     "output_type": "stream",
     "text": [
      "enter the temperature :-3\n",
      "its freezing\n"
     ]
    }
   ],
   "source": [
    "temp=int(input('enter the temperature :'))\n",
    "if temp<0:\n",
    "    print('its freezing')\n",
    "elif temp in range(0 and 10):\n",
    "    print('cool')\n",
    "elif temp in range(10 and 20):\n",
    "    print('Its warm')\n",
    "else:\n",
    "    print('Its hot')"
   ]
  },
  {
   "cell_type": "code",
   "execution_count": null,
   "id": "5baa884e",
   "metadata": {},
   "outputs": [],
   "source": []
  },
  {
   "cell_type": "code",
   "execution_count": null,
   "id": "4b862e38",
   "metadata": {},
   "outputs": [],
   "source": []
  }
 ],
 "metadata": {
  "kernelspec": {
   "display_name": "Python 3 (ipykernel)",
   "language": "python",
   "name": "python3"
  },
  "language_info": {
   "codemirror_mode": {
    "name": "ipython",
    "version": 3
   },
   "file_extension": ".py",
   "mimetype": "text/x-python",
   "name": "python",
   "nbconvert_exporter": "python",
   "pygments_lexer": "ipython3",
   "version": "3.11.5"
  }
 },
 "nbformat": 4,
 "nbformat_minor": 5
}
