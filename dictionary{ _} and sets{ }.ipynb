{
 "cells": [
  {
   "cell_type": "markdown",
   "id": "6ba05928",
   "metadata": {},
   "source": [
    "# Sets"
   ]
  },
  {
   "cell_type": "markdown",
   "id": "0fb779c3",
   "metadata": {},
   "source": [
    "* set is a cluster\n",
    "* It is an unordered \n",
    "* It is immutable\n",
    "* heterogenous\n",
    "* It has unique values but not the duplicates\n",
    "* we declare the sets by using {}\n",
    "* Sets have methods that are unique to sets like union,intersection etc\n",
    "* An empty set gives an empty dictionary\n"
   ]
  },
  {
   "cell_type": "markdown",
   "id": "8b61e931",
   "metadata": {},
   "source": [
    "## creating an empty set"
   ]
  },
  {
   "cell_type": "code",
   "execution_count": 1,
   "id": "8d9d1364",
   "metadata": {},
   "outputs": [
    {
     "data": {
      "text/plain": [
       "set()"
      ]
     },
     "execution_count": 1,
     "metadata": {},
     "output_type": "execute_result"
    }
   ],
   "source": [
    "x=set()\n",
    "x"
   ]
  },
  {
   "cell_type": "code",
   "execution_count": 2,
   "id": "707c753b",
   "metadata": {},
   "outputs": [
    {
     "data": {
      "text/plain": [
       "{}"
      ]
     },
     "execution_count": 2,
     "metadata": {},
     "output_type": "execute_result"
    }
   ],
   "source": [
    "x={}\n",
    "x"
   ]
  },
  {
   "cell_type": "code",
   "execution_count": 3,
   "id": "aecb9276",
   "metadata": {},
   "outputs": [
    {
     "name": "stdout",
     "output_type": "stream",
     "text": [
      "{}\n",
      "<class 'dict'>\n",
      "0\n"
     ]
    }
   ],
   "source": [
    "print(x,type(x),len(x),sep='\\n')"
   ]
  },
  {
   "cell_type": "code",
   "execution_count": 7,
   "id": "2c5e83a3",
   "metadata": {},
   "outputs": [
    {
     "name": "stdout",
     "output_type": "stream",
     "text": [
      "{1, 2.2, <built-in function print>, (3+3j), <class 'range'>, 'four'}\n",
      "<class 'set'>\n",
      "6\n",
      "0x2045c49e880\n"
     ]
    }
   ],
   "source": [
    "x={1,2.2,3+3j,'four',print,range,True}\n",
    "print(x,type(x),len(x),hex(id(x)),sep='\\n')\n",
    "\n"
   ]
  },
  {
   "cell_type": "code",
   "execution_count": 8,
   "id": "643e9cb0",
   "metadata": {},
   "outputs": [
    {
     "name": "stdout",
     "output_type": "stream",
     "text": [
      "{'prani', 5, 6, 5j}\n",
      "<class 'set'>\n",
      "4\n",
      "0x2045c49edc0\n"
     ]
    }
   ],
   "source": [
    "y={5,6,5j,'prani'}\n",
    "print(y,type(y),len(y),hex(id(y)),sep='\\n')\n"
   ]
  },
  {
   "cell_type": "code",
   "execution_count": 9,
   "id": "2d07db69",
   "metadata": {},
   "outputs": [
    {
     "data": {
      "text/plain": [
       "['__and__',\n",
       " '__class__',\n",
       " '__class_getitem__',\n",
       " '__contains__',\n",
       " '__delattr__',\n",
       " '__dir__',\n",
       " '__doc__',\n",
       " '__eq__',\n",
       " '__format__',\n",
       " '__ge__',\n",
       " '__getattribute__',\n",
       " '__getstate__',\n",
       " '__gt__',\n",
       " '__hash__',\n",
       " '__iand__',\n",
       " '__init__',\n",
       " '__init_subclass__',\n",
       " '__ior__',\n",
       " '__isub__',\n",
       " '__iter__',\n",
       " '__ixor__',\n",
       " '__le__',\n",
       " '__len__',\n",
       " '__lt__',\n",
       " '__ne__',\n",
       " '__new__',\n",
       " '__or__',\n",
       " '__rand__',\n",
       " '__reduce__',\n",
       " '__reduce_ex__',\n",
       " '__repr__',\n",
       " '__ror__',\n",
       " '__rsub__',\n",
       " '__rxor__',\n",
       " '__setattr__',\n",
       " '__sizeof__',\n",
       " '__str__',\n",
       " '__sub__',\n",
       " '__subclasshook__',\n",
       " '__xor__',\n",
       " 'add',\n",
       " 'clear',\n",
       " 'copy',\n",
       " 'difference',\n",
       " 'difference_update',\n",
       " 'discard',\n",
       " 'intersection',\n",
       " 'intersection_update',\n",
       " 'isdisjoint',\n",
       " 'issubset',\n",
       " 'issuperset',\n",
       " 'pop',\n",
       " 'remove',\n",
       " 'symmetric_difference',\n",
       " 'symmetric_difference_update',\n",
       " 'union',\n",
       " 'update']"
      ]
     },
     "execution_count": 9,
     "metadata": {},
     "output_type": "execute_result"
    }
   ],
   "source": [
    "dir(set)"
   ]
  },
  {
   "cell_type": "code",
   "execution_count": 10,
   "id": "156582d2",
   "metadata": {},
   "outputs": [
    {
     "name": "stdout",
     "output_type": "stream",
     "text": [
      "Help on class set in module builtins:\n",
      "\n",
      "class set(object)\n",
      " |  set() -> new empty set object\n",
      " |  set(iterable) -> new set object\n",
      " |  \n",
      " |  Build an unordered collection of unique elements.\n",
      " |  \n",
      " |  Methods defined here:\n",
      " |  \n",
      " |  __and__(self, value, /)\n",
      " |      Return self&value.\n",
      " |  \n",
      " |  __contains__(...)\n",
      " |      x.__contains__(y) <==> y in x.\n",
      " |  \n",
      " |  __eq__(self, value, /)\n",
      " |      Return self==value.\n",
      " |  \n",
      " |  __ge__(self, value, /)\n",
      " |      Return self>=value.\n",
      " |  \n",
      " |  __getattribute__(self, name, /)\n",
      " |      Return getattr(self, name).\n",
      " |  \n",
      " |  __gt__(self, value, /)\n",
      " |      Return self>value.\n",
      " |  \n",
      " |  __iand__(self, value, /)\n",
      " |      Return self&=value.\n",
      " |  \n",
      " |  __init__(self, /, *args, **kwargs)\n",
      " |      Initialize self.  See help(type(self)) for accurate signature.\n",
      " |  \n",
      " |  __ior__(self, value, /)\n",
      " |      Return self|=value.\n",
      " |  \n",
      " |  __isub__(self, value, /)\n",
      " |      Return self-=value.\n",
      " |  \n",
      " |  __iter__(self, /)\n",
      " |      Implement iter(self).\n",
      " |  \n",
      " |  __ixor__(self, value, /)\n",
      " |      Return self^=value.\n",
      " |  \n",
      " |  __le__(self, value, /)\n",
      " |      Return self<=value.\n",
      " |  \n",
      " |  __len__(self, /)\n",
      " |      Return len(self).\n",
      " |  \n",
      " |  __lt__(self, value, /)\n",
      " |      Return self<value.\n",
      " |  \n",
      " |  __ne__(self, value, /)\n",
      " |      Return self!=value.\n",
      " |  \n",
      " |  __or__(self, value, /)\n",
      " |      Return self|value.\n",
      " |  \n",
      " |  __rand__(self, value, /)\n",
      " |      Return value&self.\n",
      " |  \n",
      " |  __reduce__(...)\n",
      " |      Return state information for pickling.\n",
      " |  \n",
      " |  __repr__(self, /)\n",
      " |      Return repr(self).\n",
      " |  \n",
      " |  __ror__(self, value, /)\n",
      " |      Return value|self.\n",
      " |  \n",
      " |  __rsub__(self, value, /)\n",
      " |      Return value-self.\n",
      " |  \n",
      " |  __rxor__(self, value, /)\n",
      " |      Return value^self.\n",
      " |  \n",
      " |  __sizeof__(...)\n",
      " |      S.__sizeof__() -> size of S in memory, in bytes\n",
      " |  \n",
      " |  __sub__(self, value, /)\n",
      " |      Return self-value.\n",
      " |  \n",
      " |  __xor__(self, value, /)\n",
      " |      Return self^value.\n",
      " |  \n",
      " |  add(...)\n",
      " |      Add an element to a set.\n",
      " |      \n",
      " |      This has no effect if the element is already present.\n",
      " |  \n",
      " |  clear(...)\n",
      " |      Remove all elements from this set.\n",
      " |  \n",
      " |  copy(...)\n",
      " |      Return a shallow copy of a set.\n",
      " |  \n",
      " |  difference(...)\n",
      " |      Return the difference of two or more sets as a new set.\n",
      " |      \n",
      " |      (i.e. all elements that are in this set but not the others.)\n",
      " |  \n",
      " |  difference_update(...)\n",
      " |      Remove all elements of another set from this set.\n",
      " |  \n",
      " |  discard(...)\n",
      " |      Remove an element from a set if it is a member.\n",
      " |      \n",
      " |      Unlike set.remove(), the discard() method does not raise\n",
      " |      an exception when an element is missing from the set.\n",
      " |  \n",
      " |  intersection(...)\n",
      " |      Return the intersection of two sets as a new set.\n",
      " |      \n",
      " |      (i.e. all elements that are in both sets.)\n",
      " |  \n",
      " |  intersection_update(...)\n",
      " |      Update a set with the intersection of itself and another.\n",
      " |  \n",
      " |  isdisjoint(...)\n",
      " |      Return True if two sets have a null intersection.\n",
      " |  \n",
      " |  issubset(...)\n",
      " |      Report whether another set contains this set.\n",
      " |  \n",
      " |  issuperset(...)\n",
      " |      Report whether this set contains another set.\n",
      " |  \n",
      " |  pop(...)\n",
      " |      Remove and return an arbitrary set element.\n",
      " |      Raises KeyError if the set is empty.\n",
      " |  \n",
      " |  remove(...)\n",
      " |      Remove an element from a set; it must be a member.\n",
      " |      \n",
      " |      If the element is not a member, raise a KeyError.\n",
      " |  \n",
      " |  symmetric_difference(...)\n",
      " |      Return the symmetric difference of two sets as a new set.\n",
      " |      \n",
      " |      (i.e. all elements that are in exactly one of the sets.)\n",
      " |  \n",
      " |  symmetric_difference_update(...)\n",
      " |      Update a set with the symmetric difference of itself and another.\n",
      " |  \n",
      " |  union(...)\n",
      " |      Return the union of sets as a new set.\n",
      " |      \n",
      " |      (i.e. all elements that are in either set.)\n",
      " |  \n",
      " |  update(...)\n",
      " |      Update a set with the union of itself and others.\n",
      " |  \n",
      " |  ----------------------------------------------------------------------\n",
      " |  Class methods defined here:\n",
      " |  \n",
      " |  __class_getitem__(...) from builtins.type\n",
      " |      See PEP 585\n",
      " |  \n",
      " |  ----------------------------------------------------------------------\n",
      " |  Static methods defined here:\n",
      " |  \n",
      " |  __new__(*args, **kwargs) from builtins.type\n",
      " |      Create and return a new object.  See help(type) for accurate signature.\n",
      " |  \n",
      " |  ----------------------------------------------------------------------\n",
      " |  Data and other attributes defined here:\n",
      " |  \n",
      " |  __hash__ = None\n",
      "\n"
     ]
    }
   ],
   "source": [
    "help(set)"
   ]
  },
  {
   "cell_type": "markdown",
   "id": "997f8e4e",
   "metadata": {},
   "source": [
    "### remove()\n",
    "* This method removes the element in a set\n",
    "* The syntax is `set.remove()`"
   ]
  },
  {
   "cell_type": "code",
   "execution_count": 12,
   "id": "3c298b4e",
   "metadata": {},
   "outputs": [
    {
     "data": {
      "text/plain": [
       "{5, 12}"
      ]
     },
     "execution_count": 12,
     "metadata": {},
     "output_type": "execute_result"
    }
   ],
   "source": [
    "x={5,0,12}#accesing the remove method by removing 0\n",
    "x.remove(0)\n",
    "x"
   ]
  },
  {
   "cell_type": "code",
   "execution_count": 20,
   "id": "9878bd36",
   "metadata": {},
   "outputs": [
    {
     "data": {
      "text/plain": [
       "{12}"
      ]
     },
     "execution_count": 20,
     "metadata": {},
     "output_type": "execute_result"
    }
   ],
   "source": [
    "x={5,12}\n",
    "x.remove(5)\n",
    "x"
   ]
  },
  {
   "cell_type": "markdown",
   "id": "7a071682",
   "metadata": {},
   "source": [
    "* the remove method and the discard removes the elementi.e., both does the same work\n",
    "* In remove method it shows an error if the element is not in the set"
   ]
  },
  {
   "cell_type": "code",
   "execution_count": 21,
   "id": "c5426649",
   "metadata": {},
   "outputs": [
    {
     "ename": "KeyError",
     "evalue": "5",
     "output_type": "error",
     "traceback": [
      "\u001b[1;31m---------------------------------------------------------------------------\u001b[0m",
      "\u001b[1;31mKeyError\u001b[0m                                  Traceback (most recent call last)",
      "Cell \u001b[1;32mIn[21], line 2\u001b[0m\n\u001b[0;32m      1\u001b[0m x\u001b[38;5;241m=\u001b[39m{\u001b[38;5;241m1\u001b[39m,\u001b[38;5;241m2\u001b[39m,\u001b[38;5;241m3\u001b[39m}\n\u001b[1;32m----> 2\u001b[0m x\u001b[38;5;241m.\u001b[39mremove(\u001b[38;5;241m5\u001b[39m)\n\u001b[0;32m      3\u001b[0m x\n",
      "\u001b[1;31mKeyError\u001b[0m: 5"
     ]
    }
   ],
   "source": [
    "x={1,2,3}\n",
    "x.remove(5)\n",
    "x"
   ]
  },
  {
   "cell_type": "markdown",
   "id": "25c3797b",
   "metadata": {},
   "source": [
    "### discard()"
   ]
  },
  {
   "cell_type": "markdown",
   "id": "21806b4d",
   "metadata": {},
   "source": [
    "* It removes the element from a set\n",
    "* the syntax is`set.discard()`"
   ]
  },
  {
   "cell_type": "code",
   "execution_count": 23,
   "id": "797bc393",
   "metadata": {},
   "outputs": [
    {
     "data": {
      "text/plain": [
       "{5, 6, 8}"
      ]
     },
     "execution_count": 23,
     "metadata": {},
     "output_type": "execute_result"
    }
   ],
   "source": [
    "x={5,6,7,8}# discarding the element froma set\n",
    "x.discard(7)\n",
    "x"
   ]
  },
  {
   "cell_type": "markdown",
   "id": "3d3becd5",
   "metadata": {},
   "source": [
    "* the only difference between the remove and discard is                                                                                       \n",
    "1.remove shows an error                                                                                                                   \n",
    "2.discard does not shows an error "
   ]
  },
  {
   "cell_type": "code",
   "execution_count": 24,
   "id": "d3acc2b0",
   "metadata": {},
   "outputs": [
    {
     "data": {
      "text/plain": [
       "{5, 6, 7, 8}"
      ]
     },
     "execution_count": 24,
     "metadata": {},
     "output_type": "execute_result"
    }
   ],
   "source": [
    "x={5,6,7,8}\n",
    "x.discard(9)\n",
    "x"
   ]
  },
  {
   "cell_type": "markdown",
   "id": "c4167fe2",
   "metadata": {},
   "source": [
    "### pop() method"
   ]
  },
  {
   "cell_type": "markdown",
   "id": "ccb0541b",
   "metadata": {},
   "source": [
    "* This method removes the first element in sets\n",
    "* Generally,it pops the random value from a set\n",
    "* The general syntax is`set.pop()`"
   ]
  },
  {
   "cell_type": "code",
   "execution_count": 31,
   "id": "e5327aec",
   "metadata": {},
   "outputs": [
    {
     "data": {
      "text/plain": [
       "(1, {4, 6, 9})"
      ]
     },
     "execution_count": 31,
     "metadata": {},
     "output_type": "execute_result"
    }
   ],
   "source": [
    "p={1,4,6,9}\n",
    "y=p.pop()\n",
    "\n",
    "y,p"
   ]
  },
  {
   "cell_type": "markdown",
   "id": "54dcf469",
   "metadata": {},
   "source": [
    "### clear()\n",
    "* This method clears all the entire set and returns an empty set\n",
    "* the syntax is `set.clear()`"
   ]
  },
  {
   "cell_type": "code",
   "execution_count": 32,
   "id": "af253d4e",
   "metadata": {},
   "outputs": [
    {
     "data": {
      "text/plain": [
       "set()"
      ]
     },
     "execution_count": 32,
     "metadata": {},
     "output_type": "execute_result"
    }
   ],
   "source": [
    "x={3,4,5}\n",
    "x.clear()\n",
    "x"
   ]
  },
  {
   "cell_type": "code",
   "execution_count": 38,
   "id": "bca0331b",
   "metadata": {},
   "outputs": [
    {
     "name": "stdout",
     "output_type": "stream",
     "text": [
      "Help on method_descriptor:\n",
      "\n",
      "clear(...)\n",
      "    Remove all elements from this set.\n",
      "\n"
     ]
    }
   ],
   "source": [
    "help(set.clear)"
   ]
  },
  {
   "cell_type": "markdown",
   "id": "e1a3adce",
   "metadata": {},
   "source": [
    "### isdisjoint()\n",
    "* This checks whether the sets are disjoint or not\n",
    "* The syntax is `set.isdisjoint()`"
   ]
  },
  {
   "cell_type": "code",
   "execution_count": 41,
   "id": "6ad0324b",
   "metadata": {},
   "outputs": [
    {
     "name": "stdout",
     "output_type": "stream",
     "text": [
      "{3, 4, 5, 6}\n",
      "{8, 5, 6, 7}\n",
      "{1, 2, 3, 4, 5, 6, 7}\n",
      "{'a', 'c', 'd', 'b'}\n"
     ]
    }
   ],
   "source": [
    "a={6,5,4,3}\n",
    "b={5,6,7,8}\n",
    "c=set(range(1,8))\n",
    "d={'a','b','c','d'}\n",
    "\n",
    "print(a,b,c,d,sep='\\n')"
   ]
  },
  {
   "cell_type": "code",
   "execution_count": 43,
   "id": "63bf6f56",
   "metadata": {},
   "outputs": [
    {
     "data": {
      "text/plain": [
       "False"
      ]
     },
     "execution_count": 43,
     "metadata": {},
     "output_type": "execute_result"
    }
   ],
   "source": [
    "a.isdisjoint(b)#the two sets are joint sets\n"
   ]
  },
  {
   "cell_type": "code",
   "execution_count": 44,
   "id": "25c89cd8",
   "metadata": {},
   "outputs": [
    {
     "data": {
      "text/plain": [
       "True"
      ]
     },
     "execution_count": 44,
     "metadata": {},
     "output_type": "execute_result"
    }
   ],
   "source": [
    "c.isdisjoint(d)# these sets are disjoint sets"
   ]
  },
  {
   "cell_type": "code",
   "execution_count": 46,
   "id": "d32d8f1a",
   "metadata": {},
   "outputs": [
    {
     "name": "stdout",
     "output_type": "stream",
     "text": [
      "Help on method_descriptor:\n",
      "\n",
      "isdisjoint(...)\n",
      "    Return True if two sets have a null intersection.\n",
      "\n"
     ]
    }
   ],
   "source": [
    "help(set.isdisjoint)"
   ]
  },
  {
   "cell_type": "markdown",
   "id": "09657047",
   "metadata": {},
   "source": [
    "### difference ()\n",
    "* It remoes the common elements of which we are calling on\n",
    "* The general syntax is `set.difference()`"
   ]
  },
  {
   "cell_type": "code",
   "execution_count": 47,
   "id": "a34cedc3",
   "metadata": {},
   "outputs": [
    {
     "data": {
      "text/plain": [
       "{1, 2, 3}"
      ]
     },
     "execution_count": 47,
     "metadata": {},
     "output_type": "execute_result"
    }
   ],
   "source": [
    "a={1,2,3,4,5}\n",
    "b={4,5,6,7,8}\n",
    "a.difference(b)"
   ]
  },
  {
   "cell_type": "code",
   "execution_count": 48,
   "id": "945f139b",
   "metadata": {},
   "outputs": [
    {
     "data": {
      "text/plain": [
       "{6, 7, 8}"
      ]
     },
     "execution_count": 48,
     "metadata": {},
     "output_type": "execute_result"
    }
   ],
   "source": [
    "b.difference(a)"
   ]
  },
  {
   "cell_type": "markdown",
   "id": "c5841933",
   "metadata": {},
   "source": [
    "### add()\n",
    "* This method is similar to append in list\n",
    "* This adds the element to a set\n",
    "* The syntax is `set.add()`"
   ]
  },
  {
   "cell_type": "code",
   "execution_count": 50,
   "id": "5e604aa0",
   "metadata": {},
   "outputs": [
    {
     "data": {
      "text/plain": [
       "{1, 2, 3, 5}"
      ]
     },
     "execution_count": 50,
     "metadata": {},
     "output_type": "execute_result"
    }
   ],
   "source": [
    "x={1,2,3}\n",
    "x.add(5)\n",
    "x"
   ]
  },
  {
   "cell_type": "code",
   "execution_count": 51,
   "id": "972bb875",
   "metadata": {},
   "outputs": [
    {
     "data": {
      "text/plain": [
       "{3, 'neeraj'}"
      ]
     },
     "execution_count": 51,
     "metadata": {},
     "output_type": "execute_result"
    }
   ],
   "source": [
    "x={'neeraj'}\n",
    "x.add(3)\n",
    "x"
   ]
  },
  {
   "cell_type": "markdown",
   "id": "e4b24648",
   "metadata": {},
   "source": [
    "### update()\n",
    "* This method is similar to extend method in list\n",
    "* The syntax is `set.update()`"
   ]
  },
  {
   "cell_type": "code",
   "execution_count": 54,
   "id": "56d0450b",
   "metadata": {},
   "outputs": [
    {
     "data": {
      "text/plain": [
       "{3, 4, 7}"
      ]
     },
     "execution_count": 54,
     "metadata": {},
     "output_type": "execute_result"
    }
   ],
   "source": [
    "x={7}#update method using for integers\n",
    "x.update((3,4))\n",
    "x\n"
   ]
  },
  {
   "cell_type": "code",
   "execution_count": 55,
   "id": "525df7ad",
   "metadata": {},
   "outputs": [
    {
     "data": {
      "text/plain": [
       "{'a', 'e', 'j', 'n', 'prani', 'r'}"
      ]
     },
     "execution_count": 55,
     "metadata": {},
     "output_type": "execute_result"
    }
   ],
   "source": [
    "x={'prani'}#update method using for strings\n",
    "x.update('neeraj')\n",
    "x"
   ]
  },
  {
   "cell_type": "markdown",
   "id": "045ffa96",
   "metadata": {},
   "source": [
    "### union ()\n",
    "* This joins the sets without repeating the common elements\n",
    "* The syntax is `set.union()`\n"
   ]
  },
  {
   "cell_type": "code",
   "execution_count": 57,
   "id": "600d7807",
   "metadata": {},
   "outputs": [
    {
     "data": {
      "text/plain": [
       "{1, 2, 3, 4, 5, 6, 7, 8}"
      ]
     },
     "execution_count": 57,
     "metadata": {},
     "output_type": "execute_result"
    }
   ],
   "source": [
    "x={1,2,3,4,5}\n",
    "y={4,5,6,7,8}\n",
    "x.union(y)"
   ]
  },
  {
   "cell_type": "code",
   "execution_count": 58,
   "id": "eb4dda4b",
   "metadata": {},
   "outputs": [
    {
     "data": {
      "text/plain": [
       "{1, 2, 3, 4, 5, 6, 7, 8}"
      ]
     },
     "execution_count": 58,
     "metadata": {},
     "output_type": "execute_result"
    }
   ],
   "source": [
    "y.union(x)"
   ]
  },
  {
   "cell_type": "markdown",
   "id": "cd649f48",
   "metadata": {},
   "source": [
    "### intersection ()\n",
    "* This reuturns the common elements only..\n",
    "* The syntax is`set.intesection()`"
   ]
  },
  {
   "cell_type": "code",
   "execution_count": 59,
   "id": "702eabf0",
   "metadata": {},
   "outputs": [
    {
     "data": {
      "text/plain": [
       "{4, 5}"
      ]
     },
     "execution_count": 59,
     "metadata": {},
     "output_type": "execute_result"
    }
   ],
   "source": [
    "x.intersection(y)"
   ]
  },
  {
   "cell_type": "code",
   "execution_count": 60,
   "id": "3ca23fbe",
   "metadata": {},
   "outputs": [
    {
     "data": {
      "text/plain": [
       "set()"
      ]
     },
     "execution_count": 60,
     "metadata": {},
     "output_type": "execute_result"
    }
   ],
   "source": [
    "x={'prani'}\n",
    "y={'neeraj'}\n",
    "x.intersection(y)"
   ]
  },
  {
   "cell_type": "markdown",
   "id": "6d1d80f2",
   "metadata": {},
   "source": [
    "### issuperset(), issubset()\n",
    "* this methods returns the output as a true or false\n",
    "* the syntax is `set.issuperset()`,`set.issubset()`"
   ]
  },
  {
   "cell_type": "code",
   "execution_count": 61,
   "id": "77b7ca12",
   "metadata": {},
   "outputs": [
    {
     "data": {
      "text/plain": [
       "False"
      ]
     },
     "execution_count": 61,
     "metadata": {},
     "output_type": "execute_result"
    }
   ],
   "source": [
    "x={range(15)}\n",
    "y={5,6,7,9,0}\n",
    "x.issuperset(y)"
   ]
  },
  {
   "cell_type": "code",
   "execution_count": 66,
   "id": "31df864c",
   "metadata": {},
   "outputs": [
    {
     "data": {
      "text/plain": [
       "False"
      ]
     },
     "execution_count": 66,
     "metadata": {},
     "output_type": "execute_result"
    }
   ],
   "source": [
    "x={range(15)}\n",
    "y={5,6,7,9,0}\n",
    "x.issubset(y)"
   ]
  },
  {
   "cell_type": "code",
   "execution_count": 67,
   "id": "5431f6c2",
   "metadata": {},
   "outputs": [
    {
     "data": {
      "text/plain": [
       "False"
      ]
     },
     "execution_count": 67,
     "metadata": {},
     "output_type": "execute_result"
    }
   ],
   "source": [
    "y.issubset(x)"
   ]
  },
  {
   "cell_type": "code",
   "execution_count": 68,
   "id": "c85ff947",
   "metadata": {},
   "outputs": [
    {
     "data": {
      "text/plain": [
       "False"
      ]
     },
     "execution_count": 68,
     "metadata": {},
     "output_type": "execute_result"
    }
   ],
   "source": [
    "y.issuperset(x)"
   ]
  },
  {
   "cell_type": "code",
   "execution_count": 70,
   "id": "fcd6bca6",
   "metadata": {},
   "outputs": [
    {
     "data": {
      "text/plain": [
       "True"
      ]
     },
     "execution_count": 70,
     "metadata": {},
     "output_type": "execute_result"
    }
   ],
   "source": [
    "x={1,2,3,4}\n",
    "y={1,2,3,4,5,6,7,8,9,}\n",
    "x.issubset(y)"
   ]
  },
  {
   "cell_type": "code",
   "execution_count": 71,
   "id": "93e867df",
   "metadata": {},
   "outputs": [
    {
     "data": {
      "text/plain": [
       "False"
      ]
     },
     "execution_count": 71,
     "metadata": {},
     "output_type": "execute_result"
    }
   ],
   "source": [
    "x.issuperset(y)#x is not superset of y"
   ]
  },
  {
   "cell_type": "code",
   "execution_count": 72,
   "id": "eeef410d",
   "metadata": {},
   "outputs": [
    {
     "data": {
      "text/plain": [
       "True"
      ]
     },
     "execution_count": 72,
     "metadata": {},
     "output_type": "execute_result"
    }
   ],
   "source": [
    "y.issuperset(x)# y is superset of x"
   ]
  },
  {
   "cell_type": "markdown",
   "id": "b5e55987",
   "metadata": {},
   "source": [
    "### symmetric_difference()\n",
    "* This method removes the common elements from sets and combines the sets\n",
    "* The syntax is `set.symmetric_difference()`"
   ]
  },
  {
   "cell_type": "code",
   "execution_count": 75,
   "id": "ee101a07",
   "metadata": {},
   "outputs": [
    {
     "data": {
      "text/plain": [
       "{1, 2, 3, 4, 6, 7, 8, 9}"
      ]
     },
     "execution_count": 75,
     "metadata": {},
     "output_type": "execute_result"
    }
   ],
   "source": [
    "x={1,2,3,4,5}\n",
    "y={5,6,7,8,9}\n",
    "x.symmetric_difference(y)"
   ]
  },
  {
   "cell_type": "markdown",
   "id": "df07cd70",
   "metadata": {},
   "source": [
    "### intersection_update()\n",
    "* This is similar to intersection and update method it combines both the intersection and update sets\n",
    "* The syntax is`set.intersection_update()`"
   ]
  },
  {
   "cell_type": "code",
   "execution_count": 77,
   "id": "4866bdb9",
   "metadata": {},
   "outputs": [
    {
     "data": {
      "text/plain": [
       "{5}"
      ]
     },
     "execution_count": 77,
     "metadata": {},
     "output_type": "execute_result"
    }
   ],
   "source": [
    "x={1,2,3,4,5}\n",
    "y={5,6,7,8,9}\n",
    "x.intersection_update(y)\n",
    "x"
   ]
  },
  {
   "cell_type": "code",
   "execution_count": 79,
   "id": "4d643701",
   "metadata": {},
   "outputs": [
    {
     "data": {
      "text/plain": [
       "set()"
      ]
     },
     "execution_count": 79,
     "metadata": {},
     "output_type": "execute_result"
    }
   ],
   "source": [
    "x={'prani'}\n",
    "y={'neeraj'}\n",
    "x.intersection_update(y)\n",
    "x"
   ]
  },
  {
   "cell_type": "markdown",
   "id": "e91127d2",
   "metadata": {},
   "source": [
    "### Symmetric_difference_update()\n",
    "* This removes the common elements from the sets and then update the sets\n",
    "* The syntax is`set.symmetric_differnce_update()`"
   ]
  },
  {
   "cell_type": "code",
   "execution_count": 82,
   "id": "c83ecf9f",
   "metadata": {},
   "outputs": [
    {
     "data": {
      "text/plain": [
       "{4, 6, 54}"
      ]
     },
     "execution_count": 82,
     "metadata": {},
     "output_type": "execute_result"
    }
   ],
   "source": [
    "x={2,3,54}\n",
    "y={3,2,4,6}\n",
    "x.symmetric_difference_update(y)\n",
    "x"
   ]
  },
  {
   "cell_type": "markdown",
   "id": "fd62dd57",
   "metadata": {},
   "source": [
    "# Dictionary \n",
    "* Dictionaries are key and value pairs always enclosed in flower braces{ } and seperated by a colon:\n",
    "* keys are mapped to their values\n",
    "* It is unordered and mutable\n",
    "* <u>There may be similar values but not the similar keys<\\u>\n",
    "* { } is an empty dictionary\n",
    "    * dict is class of dictionary\n",
    "    * The geneal syntax is `{key:value}`\n",
    "    * The keys are always immtable and the values may be mutable or immutable"
   ]
  },
  {
   "cell_type": "code",
   "execution_count": 83,
   "id": "0893da21",
   "metadata": {},
   "outputs": [
    {
     "data": {
      "text/plain": [
       "{1: [1, 2, 3], 'hello': (4, 5, 6)}"
      ]
     },
     "execution_count": 83,
     "metadata": {},
     "output_type": "execute_result"
    }
   ],
   "source": [
    "x={1:[1,2,3],'hello':(4,5,6),}\n",
    "x\n"
   ]
  },
  {
   "cell_type": "code",
   "execution_count": 84,
   "id": "f92f5325",
   "metadata": {},
   "outputs": [
    {
     "data": {
      "text/plain": [
       "{1: [1, 2, 3], 'hello': ['hii']}"
      ]
     },
     "execution_count": 84,
     "metadata": {},
     "output_type": "execute_result"
    }
   ],
   "source": [
    "x={1:[1,2,3],'hello':(4,5,6),'hello':['hii'],}#last key whuch is of same key will be updated or override\n",
    "x"
   ]
  },
  {
   "cell_type": "code",
   "execution_count": 85,
   "id": "b1ee9a69",
   "metadata": {},
   "outputs": [
    {
     "data": {
      "text/plain": [
       "['hii']"
      ]
     },
     "execution_count": 85,
     "metadata": {},
     "output_type": "execute_result"
    }
   ],
   "source": [
    "x={1:[1,2,3],'hello':['hii'],}\n",
    "x['hello']\n"
   ]
  },
  {
   "cell_type": "code",
   "execution_count": 86,
   "id": "45283120",
   "metadata": {},
   "outputs": [
    {
     "data": {
      "text/plain": [
       "3"
      ]
     },
     "execution_count": 86,
     "metadata": {},
     "output_type": "execute_result"
    }
   ],
   "source": [
    "x[1][2]"
   ]
  },
  {
   "cell_type": "code",
   "execution_count": 88,
   "id": "1c87e5bc",
   "metadata": {},
   "outputs": [
    {
     "data": {
      "text/plain": [
       "3"
      ]
     },
     "execution_count": 88,
     "metadata": {},
     "output_type": "execute_result"
    }
   ],
   "source": [
    "x[1][-1]"
   ]
  },
  {
   "cell_type": "code",
   "execution_count": 91,
   "id": "dcb67d4f",
   "metadata": {},
   "outputs": [
    {
     "data": {
      "text/plain": [
       "'hii'"
      ]
     },
     "execution_count": 91,
     "metadata": {},
     "output_type": "execute_result"
    }
   ],
   "source": [
    "x['hello'][-1]# we are moving from right to left"
   ]
  },
  {
   "cell_type": "code",
   "execution_count": 96,
   "id": "2c1d9dd8",
   "metadata": {},
   "outputs": [
    {
     "data": {
      "text/plain": [
       "['__class__',\n",
       " '__class_getitem__',\n",
       " '__contains__',\n",
       " '__delattr__',\n",
       " '__delitem__',\n",
       " '__dir__',\n",
       " '__doc__',\n",
       " '__eq__',\n",
       " '__format__',\n",
       " '__ge__',\n",
       " '__getattribute__',\n",
       " '__getitem__',\n",
       " '__getstate__',\n",
       " '__gt__',\n",
       " '__hash__',\n",
       " '__init__',\n",
       " '__init_subclass__',\n",
       " '__ior__',\n",
       " '__iter__',\n",
       " '__le__',\n",
       " '__len__',\n",
       " '__lt__',\n",
       " '__ne__',\n",
       " '__new__',\n",
       " '__or__',\n",
       " '__reduce__',\n",
       " '__reduce_ex__',\n",
       " '__repr__',\n",
       " '__reversed__',\n",
       " '__ror__',\n",
       " '__setattr__',\n",
       " '__setitem__',\n",
       " '__sizeof__',\n",
       " '__str__',\n",
       " '__subclasshook__',\n",
       " 'clear',\n",
       " 'copy',\n",
       " 'fromkeys',\n",
       " 'get',\n",
       " 'items',\n",
       " 'keys',\n",
       " 'pop',\n",
       " 'popitem',\n",
       " 'setdefault',\n",
       " 'update',\n",
       " 'values']"
      ]
     },
     "execution_count": 96,
     "metadata": {},
     "output_type": "execute_result"
    }
   ],
   "source": [
    "dir(dict)"
   ]
  },
  {
   "cell_type": "code",
   "execution_count": null,
   "id": "64bc05c6",
   "metadata": {},
   "outputs": [],
   "source": []
  }
 ],
 "metadata": {
  "kernelspec": {
   "display_name": "Python 3 (ipykernel)",
   "language": "python",
   "name": "python3"
  },
  "language_info": {
   "codemirror_mode": {
    "name": "ipython",
    "version": 3
   },
   "file_extension": ".py",
   "mimetype": "text/x-python",
   "name": "python",
   "nbconvert_exporter": "python",
   "pygments_lexer": "ipython3",
   "version": "3.11.5"
  }
 },
 "nbformat": 4,
 "nbformat_minor": 5
}
