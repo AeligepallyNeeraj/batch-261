{
 "cells": [
  {
   "cell_type": "code",
   "execution_count": 9,
   "id": "86b87b9d",
   "metadata": {},
   "outputs": [],
   "source": [
    "import pandas as pd\n",
    "import matplotlib as plt\n",
    "import seaborn as sns,sklearn"
   ]
  },
  {
   "cell_type": "code",
   "execution_count": 78,
   "id": "f62169d0",
   "metadata": {},
   "outputs": [
    {
     "data": {
      "text/html": [
       "<div>\n",
       "<style scoped>\n",
       "    .dataframe tbody tr th:only-of-type {\n",
       "        vertical-align: middle;\n",
       "    }\n",
       "\n",
       "    .dataframe tbody tr th {\n",
       "        vertical-align: top;\n",
       "    }\n",
       "\n",
       "    .dataframe thead th {\n",
       "        text-align: right;\n",
       "    }\n",
       "</style>\n",
       "<table border=\"1\" class=\"dataframe\">\n",
       "  <thead>\n",
       "    <tr style=\"text-align: right;\">\n",
       "      <th></th>\n",
       "      <th>Unnamed: 0</th>\n",
       "      <th>Date</th>\n",
       "      <th>Product</th>\n",
       "      <th>Revenue</th>\n",
       "      <th>Quantity</th>\n",
       "    </tr>\n",
       "  </thead>\n",
       "  <tbody>\n",
       "    <tr>\n",
       "      <th>0</th>\n",
       "      <td>0</td>\n",
       "      <td>2023-01-01</td>\n",
       "      <td>A</td>\n",
       "      <td>221</td>\n",
       "      <td>3</td>\n",
       "    </tr>\n",
       "    <tr>\n",
       "      <th>1</th>\n",
       "      <td>1</td>\n",
       "      <td>2023-01-01</td>\n",
       "      <td>B</td>\n",
       "      <td>111</td>\n",
       "      <td>8</td>\n",
       "    </tr>\n",
       "    <tr>\n",
       "      <th>2</th>\n",
       "      <td>2</td>\n",
       "      <td>2023-01-02</td>\n",
       "      <td>B</td>\n",
       "      <td>171</td>\n",
       "      <td>11</td>\n",
       "    </tr>\n",
       "    <tr>\n",
       "      <th>3</th>\n",
       "      <td>3</td>\n",
       "      <td>2023-01-02</td>\n",
       "      <td>A</td>\n",
       "      <td>141</td>\n",
       "      <td>15</td>\n",
       "    </tr>\n",
       "    <tr>\n",
       "      <th>4</th>\n",
       "      <td>4</td>\n",
       "      <td>2023-02-01</td>\n",
       "      <td>A</td>\n",
       "      <td>75</td>\n",
       "      <td>4</td>\n",
       "    </tr>\n",
       "    <tr>\n",
       "      <th>5</th>\n",
       "      <td>5</td>\n",
       "      <td>2023-02-01</td>\n",
       "      <td>B</td>\n",
       "      <td>90</td>\n",
       "      <td>12</td>\n",
       "    </tr>\n",
       "    <tr>\n",
       "      <th>6</th>\n",
       "      <td>6</td>\n",
       "      <td>2023-02-02</td>\n",
       "      <td>A</td>\n",
       "      <td>96</td>\n",
       "      <td>17</td>\n",
       "    </tr>\n",
       "    <tr>\n",
       "      <th>7</th>\n",
       "      <td>7</td>\n",
       "      <td>2023-02-02</td>\n",
       "      <td>B</td>\n",
       "      <td>170</td>\n",
       "      <td>10</td>\n",
       "    </tr>\n",
       "    <tr>\n",
       "      <th>8</th>\n",
       "      <td>8</td>\n",
       "      <td>2023-03-01</td>\n",
       "      <td>B</td>\n",
       "      <td>200</td>\n",
       "      <td>19</td>\n",
       "    </tr>\n",
       "    <tr>\n",
       "      <th>9</th>\n",
       "      <td>9</td>\n",
       "      <td>2023-03-01</td>\n",
       "      <td>A</td>\n",
       "      <td>120</td>\n",
       "      <td>10</td>\n",
       "    </tr>\n",
       "    <tr>\n",
       "      <th>10</th>\n",
       "      <td>10</td>\n",
       "      <td>2023-03-02</td>\n",
       "      <td>A</td>\n",
       "      <td>121</td>\n",
       "      <td>12</td>\n",
       "    </tr>\n",
       "    <tr>\n",
       "      <th>11</th>\n",
       "      <td>11</td>\n",
       "      <td>2023-03-02</td>\n",
       "      <td>B</td>\n",
       "      <td>150</td>\n",
       "      <td>5</td>\n",
       "    </tr>\n",
       "  </tbody>\n",
       "</table>\n",
       "</div>"
      ],
      "text/plain": [
       "    Unnamed: 0        Date Product  Revenue  Quantity\n",
       "0            0  2023-01-01       A      221         3\n",
       "1            1  2023-01-01       B      111         8\n",
       "2            2  2023-01-02       B      171        11\n",
       "3            3  2023-01-02       A      141        15\n",
       "4            4  2023-02-01       A       75         4\n",
       "5            5  2023-02-01       B       90        12\n",
       "6            6  2023-02-02       A       96        17\n",
       "7            7  2023-02-02       B      170        10\n",
       "8            8  2023-03-01       B      200        19\n",
       "9            9  2023-03-01       A      120        10\n",
       "10          10  2023-03-02       A      121        12\n",
       "11          11  2023-03-02       B      150         5"
      ]
     },
     "execution_count": 78,
     "metadata": {},
     "output_type": "execute_result"
    }
   ],
   "source": [
    "df=pd.read_csv(r\"C:\\Users\\yuvin\\Downloads\\groupbyExcercise - groupbyExcercise (1).csv\")\n",
    "df"
   ]
  },
  {
   "cell_type": "code",
   "execution_count": 79,
   "id": "627993d5",
   "metadata": {},
   "outputs": [
    {
     "name": "stdout",
     "output_type": "stream",
     "text": [
      "<class 'pandas.core.frame.DataFrame'>\n",
      "RangeIndex: 12 entries, 0 to 11\n",
      "Data columns (total 5 columns):\n",
      " #   Column      Non-Null Count  Dtype \n",
      "---  ------      --------------  ----- \n",
      " 0   Unnamed: 0  12 non-null     int64 \n",
      " 1   Date        12 non-null     object\n",
      " 2   Product     12 non-null     object\n",
      " 3   Revenue     12 non-null     int64 \n",
      " 4   Quantity    12 non-null     int64 \n",
      "dtypes: int64(3), object(2)\n",
      "memory usage: 612.0+ bytes\n"
     ]
    }
   ],
   "source": [
    "df.info()"
   ]
  },
  {
   "cell_type": "markdown",
   "id": "ac702e23",
   "metadata": {},
   "source": [
    "# 1.Arrange DataFrame df, focusing on distinct product categories. Explore the data to reveal:\n",
    "* Overall revenue insights\n",
    "* Average revenue patterns\n",
    "* Peak quantity sold observations\n",
    "* Minimum quantity sold occurrences\n",
    "\n"
   ]
  },
  {
   "cell_type": "code",
   "execution_count": 3,
   "id": "02b4edbe",
   "metadata": {},
   "outputs": [],
   "source": [
    "# overall revenue insights"
   ]
  },
  {
   "cell_type": "code",
   "execution_count": 15,
   "id": "4591cdf6",
   "metadata": {
    "scrolled": true
   },
   "outputs": [
    {
     "data": {
      "text/plain": [
       "Product\n",
       "A    774\n",
       "B    892\n",
       "Name: Revenue, dtype: int64"
      ]
     },
     "execution_count": 15,
     "metadata": {},
     "output_type": "execute_result"
    }
   ],
   "source": [
    "df.groupby(['Product'])['Revenue'].sum()\n"
   ]
  },
  {
   "cell_type": "code",
   "execution_count": 47,
   "id": "ca3a7e7b",
   "metadata": {},
   "outputs": [
    {
     "data": {
      "text/plain": [
       "0     221\n",
       "1     111\n",
       "2     171\n",
       "3     141\n",
       "4      75\n",
       "5      90\n",
       "6      96\n",
       "7     170\n",
       "8     200\n",
       "9     120\n",
       "10    121\n",
       "11    150\n",
       "Name: Revenue, dtype: int64"
      ]
     },
     "execution_count": 47,
     "metadata": {},
     "output_type": "execute_result"
    }
   ],
   "source": [
    "df['Revenue']"
   ]
  },
  {
   "cell_type": "code",
   "execution_count": 48,
   "id": "24ff33a3",
   "metadata": {},
   "outputs": [
    {
     "data": {
      "text/plain": [
       "1666"
      ]
     },
     "execution_count": 48,
     "metadata": {},
     "output_type": "execute_result"
    }
   ],
   "source": [
    "df['Revenue'].sum()# overall insights"
   ]
  },
  {
   "cell_type": "code",
   "execution_count": 6,
   "id": "bc24120f",
   "metadata": {},
   "outputs": [],
   "source": [
    "#Average revenue patterns"
   ]
  },
  {
   "cell_type": "code",
   "execution_count": 18,
   "id": "e2e9c089",
   "metadata": {},
   "outputs": [
    {
     "data": {
      "text/plain": [
       "Product\n",
       "A    129.000000\n",
       "B    148.666667\n",
       "Name: Revenue, dtype: float64"
      ]
     },
     "execution_count": 18,
     "metadata": {},
     "output_type": "execute_result"
    }
   ],
   "source": [
    "df.groupby(['Product'])['Revenue'].mean()"
   ]
  },
  {
   "cell_type": "code",
   "execution_count": 9,
   "id": "3f9dd11f",
   "metadata": {},
   "outputs": [],
   "source": [
    "#peak quantity sold observations"
   ]
  },
  {
   "cell_type": "code",
   "execution_count": 19,
   "id": "722bb090",
   "metadata": {},
   "outputs": [
    {
     "data": {
      "text/plain": [
       "Product\n",
       "A    17\n",
       "B    19\n",
       "Name: Quantity, dtype: int64"
      ]
     },
     "execution_count": 19,
     "metadata": {},
     "output_type": "execute_result"
    }
   ],
   "source": [
    "df.groupby(['Product'])['Quantity'].max()"
   ]
  },
  {
   "cell_type": "code",
   "execution_count": 14,
   "id": "70d878dd",
   "metadata": {},
   "outputs": [],
   "source": [
    "#minimum quantity sold ocuurances"
   ]
  },
  {
   "cell_type": "code",
   "execution_count": 21,
   "id": "253412f8",
   "metadata": {},
   "outputs": [
    {
     "data": {
      "text/plain": [
       "Product\n",
       "A    3\n",
       "B    5\n",
       "Name: Quantity, dtype: int64"
      ]
     },
     "execution_count": 21,
     "metadata": {},
     "output_type": "execute_result"
    }
   ],
   "source": [
    "df.groupby(['Product'])['Quantity'].min()"
   ]
  },
  {
   "cell_type": "markdown",
   "id": "77aad32b",
   "metadata": {},
   "source": [
    "# 2.Aggregate DataFrame df by extracting the month and year from the 'Date' column. Calculate the collective revenue for each unique combination of month and year.\n",
    "\n"
   ]
  },
  {
   "cell_type": "code",
   "execution_count": 23,
   "id": "e94dbbd0",
   "metadata": {},
   "outputs": [
    {
     "data": {
      "text/html": [
       "<div>\n",
       "<style scoped>\n",
       "    .dataframe tbody tr th:only-of-type {\n",
       "        vertical-align: middle;\n",
       "    }\n",
       "\n",
       "    .dataframe tbody tr th {\n",
       "        vertical-align: top;\n",
       "    }\n",
       "\n",
       "    .dataframe thead th {\n",
       "        text-align: right;\n",
       "    }\n",
       "</style>\n",
       "<table border=\"1\" class=\"dataframe\">\n",
       "  <thead>\n",
       "    <tr style=\"text-align: right;\">\n",
       "      <th></th>\n",
       "      <th>Unnamed: 0</th>\n",
       "      <th>Date</th>\n",
       "      <th>Product</th>\n",
       "      <th>Revenue</th>\n",
       "      <th>Quantity</th>\n",
       "    </tr>\n",
       "  </thead>\n",
       "  <tbody>\n",
       "    <tr>\n",
       "      <th>0</th>\n",
       "      <td>0</td>\n",
       "      <td>2023-01-01</td>\n",
       "      <td>A</td>\n",
       "      <td>221</td>\n",
       "      <td>3</td>\n",
       "    </tr>\n",
       "    <tr>\n",
       "      <th>1</th>\n",
       "      <td>1</td>\n",
       "      <td>2023-01-01</td>\n",
       "      <td>B</td>\n",
       "      <td>111</td>\n",
       "      <td>8</td>\n",
       "    </tr>\n",
       "    <tr>\n",
       "      <th>2</th>\n",
       "      <td>2</td>\n",
       "      <td>2023-01-02</td>\n",
       "      <td>B</td>\n",
       "      <td>171</td>\n",
       "      <td>11</td>\n",
       "    </tr>\n",
       "    <tr>\n",
       "      <th>3</th>\n",
       "      <td>3</td>\n",
       "      <td>2023-01-02</td>\n",
       "      <td>A</td>\n",
       "      <td>141</td>\n",
       "      <td>15</td>\n",
       "    </tr>\n",
       "    <tr>\n",
       "      <th>4</th>\n",
       "      <td>4</td>\n",
       "      <td>2023-02-01</td>\n",
       "      <td>A</td>\n",
       "      <td>75</td>\n",
       "      <td>4</td>\n",
       "    </tr>\n",
       "    <tr>\n",
       "      <th>5</th>\n",
       "      <td>5</td>\n",
       "      <td>2023-02-01</td>\n",
       "      <td>B</td>\n",
       "      <td>90</td>\n",
       "      <td>12</td>\n",
       "    </tr>\n",
       "    <tr>\n",
       "      <th>6</th>\n",
       "      <td>6</td>\n",
       "      <td>2023-02-02</td>\n",
       "      <td>A</td>\n",
       "      <td>96</td>\n",
       "      <td>17</td>\n",
       "    </tr>\n",
       "    <tr>\n",
       "      <th>7</th>\n",
       "      <td>7</td>\n",
       "      <td>2023-02-02</td>\n",
       "      <td>B</td>\n",
       "      <td>170</td>\n",
       "      <td>10</td>\n",
       "    </tr>\n",
       "    <tr>\n",
       "      <th>8</th>\n",
       "      <td>8</td>\n",
       "      <td>2023-03-01</td>\n",
       "      <td>B</td>\n",
       "      <td>200</td>\n",
       "      <td>19</td>\n",
       "    </tr>\n",
       "    <tr>\n",
       "      <th>9</th>\n",
       "      <td>9</td>\n",
       "      <td>2023-03-01</td>\n",
       "      <td>A</td>\n",
       "      <td>120</td>\n",
       "      <td>10</td>\n",
       "    </tr>\n",
       "    <tr>\n",
       "      <th>10</th>\n",
       "      <td>10</td>\n",
       "      <td>2023-03-02</td>\n",
       "      <td>A</td>\n",
       "      <td>121</td>\n",
       "      <td>12</td>\n",
       "    </tr>\n",
       "    <tr>\n",
       "      <th>11</th>\n",
       "      <td>11</td>\n",
       "      <td>2023-03-02</td>\n",
       "      <td>B</td>\n",
       "      <td>150</td>\n",
       "      <td>5</td>\n",
       "    </tr>\n",
       "  </tbody>\n",
       "</table>\n",
       "</div>"
      ],
      "text/plain": [
       "    Unnamed: 0        Date Product  Revenue  Quantity\n",
       "0            0  2023-01-01       A      221         3\n",
       "1            1  2023-01-01       B      111         8\n",
       "2            2  2023-01-02       B      171        11\n",
       "3            3  2023-01-02       A      141        15\n",
       "4            4  2023-02-01       A       75         4\n",
       "5            5  2023-02-01       B       90        12\n",
       "6            6  2023-02-02       A       96        17\n",
       "7            7  2023-02-02       B      170        10\n",
       "8            8  2023-03-01       B      200        19\n",
       "9            9  2023-03-01       A      120        10\n",
       "10          10  2023-03-02       A      121        12\n",
       "11          11  2023-03-02       B      150         5"
      ]
     },
     "execution_count": 23,
     "metadata": {},
     "output_type": "execute_result"
    }
   ],
   "source": [
    "df"
   ]
  },
  {
   "cell_type": "code",
   "execution_count": 29,
   "id": "b53dd18e",
   "metadata": {},
   "outputs": [
    {
     "data": {
      "text/plain": [
       "0     2023-01-01\n",
       "1     2023-01-01\n",
       "2     2023-01-02\n",
       "3     2023-01-02\n",
       "4     2023-02-01\n",
       "5     2023-02-01\n",
       "6     2023-02-02\n",
       "7     2023-02-02\n",
       "8     2023-03-01\n",
       "9     2023-03-01\n",
       "10    2023-03-02\n",
       "11    2023-03-02\n",
       "Name: Date, dtype: object"
      ]
     },
     "execution_count": 29,
     "metadata": {},
     "output_type": "execute_result"
    }
   ],
   "source": [
    "df['Date']"
   ]
  },
  {
   "cell_type": "markdown",
   "id": "32144835",
   "metadata": {},
   "source": [
    "### `to_datetime()` - convert a series or column to a datetime datatype. This allows you to access useful datetime attributes like .day, .month etc."
   ]
  },
  {
   "cell_type": "code",
   "execution_count": 31,
   "id": "7557947e",
   "metadata": {},
   "outputs": [
    {
     "data": {
      "text/plain": [
       "0    2023-01-01\n",
       "1    2023-01-01\n",
       "2    2023-01-02\n",
       "3    2023-01-02\n",
       "4    2023-02-01\n",
       "5    2023-02-01\n",
       "6    2023-02-02\n",
       "7    2023-02-02\n",
       "8    2023-03-01\n",
       "9    2023-03-01\n",
       "10   2023-03-02\n",
       "11   2023-03-02\n",
       "Name: Date, dtype: datetime64[ns]"
      ]
     },
     "execution_count": 31,
     "metadata": {},
     "output_type": "execute_result"
    }
   ],
   "source": [
    "pd.to_datetime(df['Date'])"
   ]
  },
  {
   "cell_type": "markdown",
   "id": "a946d8fd",
   "metadata": {},
   "source": [
    "### To add a new column with the month extracted from a date column in Pandas, you can use the `dt.month` or dt.`to_period()` datetime accessor."
   ]
  },
  {
   "cell_type": "code",
   "execution_count": 43,
   "id": "5dcd6fb7",
   "metadata": {},
   "outputs": [
    {
     "data": {
      "text/plain": [
       "0     1\n",
       "1     1\n",
       "2     1\n",
       "3     1\n",
       "4     2\n",
       "5     2\n",
       "6     2\n",
       "7     2\n",
       "8     3\n",
       "9     3\n",
       "10    3\n",
       "11    3\n",
       "Name: Month, dtype: int32"
      ]
     },
     "execution_count": 43,
     "metadata": {},
     "output_type": "execute_result"
    }
   ],
   "source": [
    "df['Month'] = df['Date'].dt.month\n",
    "df['Month']"
   ]
  },
  {
   "cell_type": "code",
   "execution_count": 45,
   "id": "3ec15918",
   "metadata": {},
   "outputs": [
    {
     "data": {
      "text/plain": [
       "0     2023\n",
       "1     2023\n",
       "2     2023\n",
       "3     2023\n",
       "4     2023\n",
       "5     2023\n",
       "6     2023\n",
       "7     2023\n",
       "8     2023\n",
       "9     2023\n",
       "10    2023\n",
       "11    2023\n",
       "Name: Year, dtype: int32"
      ]
     },
     "execution_count": 45,
     "metadata": {},
     "output_type": "execute_result"
    }
   ],
   "source": [
    "\n",
    "df['Year']=df['Date'].dt.year\n",
    "df['Year']"
   ]
  },
  {
   "cell_type": "code",
   "execution_count": 57,
   "id": "c7b0dd97",
   "metadata": {},
   "outputs": [
    {
     "data": {
      "text/html": [
       "<div>\n",
       "<style scoped>\n",
       "    .dataframe tbody tr th:only-of-type {\n",
       "        vertical-align: middle;\n",
       "    }\n",
       "\n",
       "    .dataframe tbody tr th {\n",
       "        vertical-align: top;\n",
       "    }\n",
       "\n",
       "    .dataframe thead th {\n",
       "        text-align: right;\n",
       "    }\n",
       "</style>\n",
       "<table border=\"1\" class=\"dataframe\">\n",
       "  <thead>\n",
       "    <tr style=\"text-align: right;\">\n",
       "      <th></th>\n",
       "      <th>Unnamed: 0</th>\n",
       "      <th>Date</th>\n",
       "      <th>Product</th>\n",
       "      <th>Revenue</th>\n",
       "      <th>Quantity</th>\n",
       "      <th>Month</th>\n",
       "      <th>Year</th>\n",
       "    </tr>\n",
       "  </thead>\n",
       "  <tbody>\n",
       "    <tr>\n",
       "      <th>0</th>\n",
       "      <td>0</td>\n",
       "      <td>2023-01-01</td>\n",
       "      <td>A</td>\n",
       "      <td>221</td>\n",
       "      <td>3</td>\n",
       "      <td>1</td>\n",
       "      <td>2023</td>\n",
       "    </tr>\n",
       "    <tr>\n",
       "      <th>1</th>\n",
       "      <td>1</td>\n",
       "      <td>2023-01-01</td>\n",
       "      <td>B</td>\n",
       "      <td>111</td>\n",
       "      <td>8</td>\n",
       "      <td>1</td>\n",
       "      <td>2023</td>\n",
       "    </tr>\n",
       "    <tr>\n",
       "      <th>2</th>\n",
       "      <td>2</td>\n",
       "      <td>2023-01-02</td>\n",
       "      <td>B</td>\n",
       "      <td>171</td>\n",
       "      <td>11</td>\n",
       "      <td>1</td>\n",
       "      <td>2023</td>\n",
       "    </tr>\n",
       "    <tr>\n",
       "      <th>3</th>\n",
       "      <td>3</td>\n",
       "      <td>2023-01-02</td>\n",
       "      <td>A</td>\n",
       "      <td>141</td>\n",
       "      <td>15</td>\n",
       "      <td>1</td>\n",
       "      <td>2023</td>\n",
       "    </tr>\n",
       "    <tr>\n",
       "      <th>4</th>\n",
       "      <td>4</td>\n",
       "      <td>2023-02-01</td>\n",
       "      <td>A</td>\n",
       "      <td>75</td>\n",
       "      <td>4</td>\n",
       "      <td>2</td>\n",
       "      <td>2023</td>\n",
       "    </tr>\n",
       "    <tr>\n",
       "      <th>5</th>\n",
       "      <td>5</td>\n",
       "      <td>2023-02-01</td>\n",
       "      <td>B</td>\n",
       "      <td>90</td>\n",
       "      <td>12</td>\n",
       "      <td>2</td>\n",
       "      <td>2023</td>\n",
       "    </tr>\n",
       "    <tr>\n",
       "      <th>6</th>\n",
       "      <td>6</td>\n",
       "      <td>2023-02-02</td>\n",
       "      <td>A</td>\n",
       "      <td>96</td>\n",
       "      <td>17</td>\n",
       "      <td>2</td>\n",
       "      <td>2023</td>\n",
       "    </tr>\n",
       "    <tr>\n",
       "      <th>7</th>\n",
       "      <td>7</td>\n",
       "      <td>2023-02-02</td>\n",
       "      <td>B</td>\n",
       "      <td>170</td>\n",
       "      <td>10</td>\n",
       "      <td>2</td>\n",
       "      <td>2023</td>\n",
       "    </tr>\n",
       "    <tr>\n",
       "      <th>8</th>\n",
       "      <td>8</td>\n",
       "      <td>2023-03-01</td>\n",
       "      <td>B</td>\n",
       "      <td>200</td>\n",
       "      <td>19</td>\n",
       "      <td>3</td>\n",
       "      <td>2023</td>\n",
       "    </tr>\n",
       "    <tr>\n",
       "      <th>9</th>\n",
       "      <td>9</td>\n",
       "      <td>2023-03-01</td>\n",
       "      <td>A</td>\n",
       "      <td>120</td>\n",
       "      <td>10</td>\n",
       "      <td>3</td>\n",
       "      <td>2023</td>\n",
       "    </tr>\n",
       "    <tr>\n",
       "      <th>10</th>\n",
       "      <td>10</td>\n",
       "      <td>2023-03-02</td>\n",
       "      <td>A</td>\n",
       "      <td>121</td>\n",
       "      <td>12</td>\n",
       "      <td>3</td>\n",
       "      <td>2023</td>\n",
       "    </tr>\n",
       "    <tr>\n",
       "      <th>11</th>\n",
       "      <td>11</td>\n",
       "      <td>2023-03-02</td>\n",
       "      <td>B</td>\n",
       "      <td>150</td>\n",
       "      <td>5</td>\n",
       "      <td>3</td>\n",
       "      <td>2023</td>\n",
       "    </tr>\n",
       "  </tbody>\n",
       "</table>\n",
       "</div>"
      ],
      "text/plain": [
       "    Unnamed: 0       Date Product  Revenue  Quantity  Month  Year\n",
       "0            0 2023-01-01       A      221         3      1  2023\n",
       "1            1 2023-01-01       B      111         8      1  2023\n",
       "2            2 2023-01-02       B      171        11      1  2023\n",
       "3            3 2023-01-02       A      141        15      1  2023\n",
       "4            4 2023-02-01       A       75         4      2  2023\n",
       "5            5 2023-02-01       B       90        12      2  2023\n",
       "6            6 2023-02-02       A       96        17      2  2023\n",
       "7            7 2023-02-02       B      170        10      2  2023\n",
       "8            8 2023-03-01       B      200        19      3  2023\n",
       "9            9 2023-03-01       A      120        10      3  2023\n",
       "10          10 2023-03-02       A      121        12      3  2023\n",
       "11          11 2023-03-02       B      150         5      3  2023"
      ]
     },
     "execution_count": 57,
     "metadata": {},
     "output_type": "execute_result"
    }
   ],
   "source": [
    "df"
   ]
  },
  {
   "cell_type": "code",
   "execution_count": 75,
   "id": "a4631e82",
   "metadata": {},
   "outputs": [
    {
     "data": {
      "text/html": [
       "<div>\n",
       "<style scoped>\n",
       "    .dataframe tbody tr th:only-of-type {\n",
       "        vertical-align: middle;\n",
       "    }\n",
       "\n",
       "    .dataframe tbody tr th {\n",
       "        vertical-align: top;\n",
       "    }\n",
       "\n",
       "    .dataframe thead th {\n",
       "        text-align: right;\n",
       "    }\n",
       "</style>\n",
       "<table border=\"1\" class=\"dataframe\">\n",
       "  <thead>\n",
       "    <tr style=\"text-align: right;\">\n",
       "      <th></th>\n",
       "      <th>count</th>\n",
       "      <th>mean</th>\n",
       "      <th>min</th>\n",
       "      <th>25%</th>\n",
       "      <th>50%</th>\n",
       "      <th>75%</th>\n",
       "      <th>max</th>\n",
       "      <th>std</th>\n",
       "    </tr>\n",
       "  </thead>\n",
       "  <tbody>\n",
       "    <tr>\n",
       "      <th>Unnamed: 0</th>\n",
       "      <td>12.0</td>\n",
       "      <td>5.5</td>\n",
       "      <td>0.0</td>\n",
       "      <td>2.75</td>\n",
       "      <td>5.5</td>\n",
       "      <td>8.25</td>\n",
       "      <td>11.0</td>\n",
       "      <td>3.605551</td>\n",
       "    </tr>\n",
       "    <tr>\n",
       "      <th>Date</th>\n",
       "      <td>12</td>\n",
       "      <td>2023-01-31 12:00:00</td>\n",
       "      <td>2023-01-01 00:00:00</td>\n",
       "      <td>2023-01-02 00:00:00</td>\n",
       "      <td>2023-02-01 12:00:00</td>\n",
       "      <td>2023-03-01 00:00:00</td>\n",
       "      <td>2023-03-02 00:00:00</td>\n",
       "      <td>NaN</td>\n",
       "    </tr>\n",
       "    <tr>\n",
       "      <th>Revenue</th>\n",
       "      <td>12.0</td>\n",
       "      <td>138.833333</td>\n",
       "      <td>75.0</td>\n",
       "      <td>107.25</td>\n",
       "      <td>131.0</td>\n",
       "      <td>170.25</td>\n",
       "      <td>221.0</td>\n",
       "      <td>45.095522</td>\n",
       "    </tr>\n",
       "    <tr>\n",
       "      <th>Quantity</th>\n",
       "      <td>12.0</td>\n",
       "      <td>10.5</td>\n",
       "      <td>3.0</td>\n",
       "      <td>7.25</td>\n",
       "      <td>10.5</td>\n",
       "      <td>12.75</td>\n",
       "      <td>19.0</td>\n",
       "      <td>5.0</td>\n",
       "    </tr>\n",
       "    <tr>\n",
       "      <th>Month</th>\n",
       "      <td>12.0</td>\n",
       "      <td>2.0</td>\n",
       "      <td>1.0</td>\n",
       "      <td>1.0</td>\n",
       "      <td>2.0</td>\n",
       "      <td>3.0</td>\n",
       "      <td>3.0</td>\n",
       "      <td>0.852803</td>\n",
       "    </tr>\n",
       "    <tr>\n",
       "      <th>Year</th>\n",
       "      <td>12.0</td>\n",
       "      <td>2023.0</td>\n",
       "      <td>2023.0</td>\n",
       "      <td>2023.0</td>\n",
       "      <td>2023.0</td>\n",
       "      <td>2023.0</td>\n",
       "      <td>2023.0</td>\n",
       "      <td>0.0</td>\n",
       "    </tr>\n",
       "  </tbody>\n",
       "</table>\n",
       "</div>"
      ],
      "text/plain": [
       "           count                 mean                  min  \\\n",
       "Unnamed: 0  12.0                  5.5                  0.0   \n",
       "Date          12  2023-01-31 12:00:00  2023-01-01 00:00:00   \n",
       "Revenue     12.0           138.833333                 75.0   \n",
       "Quantity    12.0                 10.5                  3.0   \n",
       "Month       12.0                  2.0                  1.0   \n",
       "Year        12.0               2023.0               2023.0   \n",
       "\n",
       "                            25%                  50%                  75%  \\\n",
       "Unnamed: 0                 2.75                  5.5                 8.25   \n",
       "Date        2023-01-02 00:00:00  2023-02-01 12:00:00  2023-03-01 00:00:00   \n",
       "Revenue                  107.25                131.0               170.25   \n",
       "Quantity                   7.25                 10.5                12.75   \n",
       "Month                       1.0                  2.0                  3.0   \n",
       "Year                     2023.0               2023.0               2023.0   \n",
       "\n",
       "                            max        std  \n",
       "Unnamed: 0                 11.0   3.605551  \n",
       "Date        2023-03-02 00:00:00        NaN  \n",
       "Revenue                   221.0  45.095522  \n",
       "Quantity                   19.0        5.0  \n",
       "Month                       3.0   0.852803  \n",
       "Year                     2023.0        0.0  "
      ]
     },
     "execution_count": 75,
     "metadata": {},
     "output_type": "execute_result"
    }
   ],
   "source": [
    "df.describe().T"
   ]
  },
  {
   "cell_type": "markdown",
   "id": "0aed16d2",
   "metadata": {},
   "source": [
    "## Calculate the collective revenue for each unique combination of month and year.\n",
    "\n"
   ]
  },
  {
   "cell_type": "code",
   "execution_count": 54,
   "id": "91b23e77",
   "metadata": {},
   "outputs": [
    {
     "data": {
      "text/plain": [
       "Month  Year\n",
       "1      2023    [221, 111, 171, 141]\n",
       "2      2023       [75, 90, 96, 170]\n",
       "3      2023    [200, 120, 121, 150]\n",
       "Name: Revenue, dtype: object"
      ]
     },
     "execution_count": 54,
     "metadata": {},
     "output_type": "execute_result"
    }
   ],
   "source": [
    "df.groupby(['Month','Year'])['Revenue'].unique()"
   ]
  },
  {
   "cell_type": "code",
   "execution_count": 55,
   "id": "9cd3751f",
   "metadata": {},
   "outputs": [
    {
     "data": {
      "text/plain": [
       "Month  Year\n",
       "1      2023    4\n",
       "2      2023    4\n",
       "3      2023    4\n",
       "Name: Revenue, dtype: int64"
      ]
     },
     "execution_count": 55,
     "metadata": {},
     "output_type": "execute_result"
    }
   ],
   "source": [
    "df.groupby(['Month','Year'])['Revenue'].nunique()"
   ]
  },
  {
   "cell_type": "code",
   "execution_count": 56,
   "id": "9d71723f",
   "metadata": {},
   "outputs": [
    {
     "data": {
      "text/plain": [
       "Month  Year\n",
       "1      2023    644\n",
       "2      2023    431\n",
       "3      2023    591\n",
       "Name: Revenue, dtype: int64"
      ]
     },
     "execution_count": 56,
     "metadata": {},
     "output_type": "execute_result"
    }
   ],
   "source": [
    "df.groupby(['Month','Year'])['Revenue'].sum()"
   ]
  },
  {
   "cell_type": "markdown",
   "id": "e9c0ef08",
   "metadata": {},
   "source": [
    "# 3.Group the DataFrame df by the 'Date' column and find the date with the highest total revenue and the date with the highest total quantity sold.\n"
   ]
  },
  {
   "cell_type": "code",
   "execution_count": 65,
   "id": "d28acd41",
   "metadata": {},
   "outputs": [
    {
     "data": {
      "text/plain": [
       "Date\n",
       "2023-01-01    332\n",
       "2023-01-02    312\n",
       "2023-02-01    165\n",
       "2023-02-02    266\n",
       "2023-03-01    320\n",
       "2023-03-02    271\n",
       "Name: Revenue, dtype: int64"
      ]
     },
     "execution_count": 65,
     "metadata": {},
     "output_type": "execute_result"
    }
   ],
   "source": [
    "x=df.groupby(['Date'])['Revenue'].sum()\n",
    "x"
   ]
  },
  {
   "cell_type": "code",
   "execution_count": 64,
   "id": "a53aa8f4",
   "metadata": {},
   "outputs": [
    {
     "data": {
      "text/plain": [
       "Date\n",
       "2023-01-01    11\n",
       "2023-01-02    26\n",
       "2023-02-01    16\n",
       "2023-02-02    27\n",
       "2023-03-01    29\n",
       "2023-03-02    17\n",
       "Name: Quantity, dtype: int64"
      ]
     },
     "execution_count": 64,
     "metadata": {},
     "output_type": "execute_result"
    }
   ],
   "source": [
    "y=df.groupby(['Date'])['Quantity'].sum()\n",
    "y"
   ]
  },
  {
   "cell_type": "markdown",
   "id": "2512f817",
   "metadata": {},
   "source": [
    "### ` idxmax()` to get the index (date) corresponding to the maximum value in each column"
   ]
  },
  {
   "cell_type": "code",
   "execution_count": 68,
   "id": "d4abe2de",
   "metadata": {},
   "outputs": [
    {
     "data": {
      "text/plain": [
       "Timestamp('2023-01-01 00:00:00')"
      ]
     },
     "execution_count": 68,
     "metadata": {},
     "output_type": "execute_result"
    }
   ],
   "source": [
    "x.idxmax()#date with the highest total revenue.."
   ]
  },
  {
   "cell_type": "code",
   "execution_count": 69,
   "id": "339fb858",
   "metadata": {},
   "outputs": [
    {
     "data": {
      "text/plain": [
       "Timestamp('2023-03-01 00:00:00')"
      ]
     },
     "execution_count": 69,
     "metadata": {},
     "output_type": "execute_result"
    }
   ],
   "source": [
    "y.idxmax()#date with the highest total quantity sold."
   ]
  },
  {
   "cell_type": "markdown",
   "id": "d1a29d5a",
   "metadata": {},
   "source": [
    "# 4. Group the DataFrame df by the Date and find products that have a total quantity sold greater than 10 and less than 15 .\n",
    "\n"
   ]
  },
  {
   "cell_type": "code",
   "execution_count": 87,
   "id": "3c7fc2cf",
   "metadata": {},
   "outputs": [
    {
     "data": {
      "text/plain": [
       "Date        Product\n",
       "2023-01-01  A           3\n",
       "            B           8\n",
       "2023-01-02  A          15\n",
       "            B          11\n",
       "2023-02-01  A           4\n",
       "            B          12\n",
       "2023-02-02  A          17\n",
       "            B          10\n",
       "2023-03-01  A          10\n",
       "            B          19\n",
       "2023-03-02  A          12\n",
       "            B           5\n",
       "Name: Quantity, dtype: int64"
      ]
     },
     "execution_count": 87,
     "metadata": {},
     "output_type": "execute_result"
    }
   ],
   "source": [
    "x=df.groupby(['Date','Product'])['Quantity'].sum()\n",
    "x"
   ]
  },
  {
   "cell_type": "markdown",
   "id": "97211e71",
   "metadata": {},
   "source": [
    "### `The .get_level_values()` method is used on a pandas MultiIndex to extract the values from a specific index level."
   ]
  },
  {
   "cell_type": "code",
   "execution_count": 88,
   "id": "304efa3d",
   "metadata": {},
   "outputs": [
    {
     "data": {
      "text/plain": [
       "Date        Product\n",
       "2023-01-02  B          11\n",
       "2023-02-01  B          12\n",
       "2023-03-02  A          12\n",
       "Name: Quantity, dtype: int64"
      ]
     },
     "execution_count": 88,
     "metadata": {},
     "output_type": "execute_result"
    }
   ],
   "source": [
    "x[(x>10) & (x<15)]# we get the highest quantity products in every month."
   ]
  },
  {
   "cell_type": "code",
   "execution_count": 94,
   "id": "6216f39b",
   "metadata": {},
   "outputs": [],
   "source": [
    "y = x[(x>10) & (x<15)].index.get_level_values(1)"
   ]
  },
  {
   "cell_type": "code",
   "execution_count": 95,
   "id": "97c21824",
   "metadata": {},
   "outputs": [
    {
     "data": {
      "text/plain": [
       "Index(['B', 'B', 'A'], dtype='object', name='Product')"
      ]
     },
     "execution_count": 95,
     "metadata": {},
     "output_type": "execute_result"
    }
   ],
   "source": [
    "y#In the jan month we get productB  highest quantity ,feb-B,mar-A"
   ]
  },
  {
   "cell_type": "markdown",
   "id": "2b046e17",
   "metadata": {},
   "source": [
    "# 5.Group the DataFrame df by the 'Product' column and add a new column 'Revenue Percentage' that shows the percentage of each product's revenue relative to the total revenue for that product.\n",
    "\n"
   ]
  },
  {
   "cell_type": "code",
   "execution_count": 99,
   "id": "0732f2fc",
   "metadata": {},
   "outputs": [
    {
     "data": {
      "text/plain": [
       "Product\n",
       "A    774\n",
       "B    892\n",
       "Name: Revenue, dtype: int64"
      ]
     },
     "execution_count": 99,
     "metadata": {},
     "output_type": "execute_result"
    }
   ],
   "source": [
    "x = df.groupby('Product')['Revenue'].sum()\n",
    "x"
   ]
  },
  {
   "cell_type": "code",
   "execution_count": 103,
   "id": "b656ed4e",
   "metadata": {},
   "outputs": [],
   "source": [
    "percentage = x / x.sum() * 100"
   ]
  },
  {
   "cell_type": "markdown",
   "id": "a8842f2b",
   "metadata": {},
   "source": [
    "### The `map()` method in pandas allows you to transform a pandas Series or column in a DataFrame by mapping the values to new values based on a mapping function or dict."
   ]
  },
  {
   "cell_type": "code",
   "execution_count": 105,
   "id": "c6181d8a",
   "metadata": {},
   "outputs": [
    {
     "data": {
      "text/html": [
       "<div>\n",
       "<style scoped>\n",
       "    .dataframe tbody tr th:only-of-type {\n",
       "        vertical-align: middle;\n",
       "    }\n",
       "\n",
       "    .dataframe tbody tr th {\n",
       "        vertical-align: top;\n",
       "    }\n",
       "\n",
       "    .dataframe thead th {\n",
       "        text-align: right;\n",
       "    }\n",
       "</style>\n",
       "<table border=\"1\" class=\"dataframe\">\n",
       "  <thead>\n",
       "    <tr style=\"text-align: right;\">\n",
       "      <th></th>\n",
       "      <th>Unnamed: 0</th>\n",
       "      <th>Date</th>\n",
       "      <th>Product</th>\n",
       "      <th>Revenue</th>\n",
       "      <th>Quantity</th>\n",
       "      <th>Revenue Percentage</th>\n",
       "    </tr>\n",
       "  </thead>\n",
       "  <tbody>\n",
       "    <tr>\n",
       "      <th>0</th>\n",
       "      <td>0</td>\n",
       "      <td>2023-01-01</td>\n",
       "      <td>A</td>\n",
       "      <td>221</td>\n",
       "      <td>3</td>\n",
       "      <td>46.458583</td>\n",
       "    </tr>\n",
       "    <tr>\n",
       "      <th>1</th>\n",
       "      <td>1</td>\n",
       "      <td>2023-01-01</td>\n",
       "      <td>B</td>\n",
       "      <td>111</td>\n",
       "      <td>8</td>\n",
       "      <td>53.541417</td>\n",
       "    </tr>\n",
       "    <tr>\n",
       "      <th>2</th>\n",
       "      <td>2</td>\n",
       "      <td>2023-01-02</td>\n",
       "      <td>B</td>\n",
       "      <td>171</td>\n",
       "      <td>11</td>\n",
       "      <td>53.541417</td>\n",
       "    </tr>\n",
       "    <tr>\n",
       "      <th>3</th>\n",
       "      <td>3</td>\n",
       "      <td>2023-01-02</td>\n",
       "      <td>A</td>\n",
       "      <td>141</td>\n",
       "      <td>15</td>\n",
       "      <td>46.458583</td>\n",
       "    </tr>\n",
       "    <tr>\n",
       "      <th>4</th>\n",
       "      <td>4</td>\n",
       "      <td>2023-02-01</td>\n",
       "      <td>A</td>\n",
       "      <td>75</td>\n",
       "      <td>4</td>\n",
       "      <td>46.458583</td>\n",
       "    </tr>\n",
       "    <tr>\n",
       "      <th>5</th>\n",
       "      <td>5</td>\n",
       "      <td>2023-02-01</td>\n",
       "      <td>B</td>\n",
       "      <td>90</td>\n",
       "      <td>12</td>\n",
       "      <td>53.541417</td>\n",
       "    </tr>\n",
       "    <tr>\n",
       "      <th>6</th>\n",
       "      <td>6</td>\n",
       "      <td>2023-02-02</td>\n",
       "      <td>A</td>\n",
       "      <td>96</td>\n",
       "      <td>17</td>\n",
       "      <td>46.458583</td>\n",
       "    </tr>\n",
       "    <tr>\n",
       "      <th>7</th>\n",
       "      <td>7</td>\n",
       "      <td>2023-02-02</td>\n",
       "      <td>B</td>\n",
       "      <td>170</td>\n",
       "      <td>10</td>\n",
       "      <td>53.541417</td>\n",
       "    </tr>\n",
       "    <tr>\n",
       "      <th>8</th>\n",
       "      <td>8</td>\n",
       "      <td>2023-03-01</td>\n",
       "      <td>B</td>\n",
       "      <td>200</td>\n",
       "      <td>19</td>\n",
       "      <td>53.541417</td>\n",
       "    </tr>\n",
       "    <tr>\n",
       "      <th>9</th>\n",
       "      <td>9</td>\n",
       "      <td>2023-03-01</td>\n",
       "      <td>A</td>\n",
       "      <td>120</td>\n",
       "      <td>10</td>\n",
       "      <td>46.458583</td>\n",
       "    </tr>\n",
       "    <tr>\n",
       "      <th>10</th>\n",
       "      <td>10</td>\n",
       "      <td>2023-03-02</td>\n",
       "      <td>A</td>\n",
       "      <td>121</td>\n",
       "      <td>12</td>\n",
       "      <td>46.458583</td>\n",
       "    </tr>\n",
       "    <tr>\n",
       "      <th>11</th>\n",
       "      <td>11</td>\n",
       "      <td>2023-03-02</td>\n",
       "      <td>B</td>\n",
       "      <td>150</td>\n",
       "      <td>5</td>\n",
       "      <td>53.541417</td>\n",
       "    </tr>\n",
       "  </tbody>\n",
       "</table>\n",
       "</div>"
      ],
      "text/plain": [
       "    Unnamed: 0        Date Product  Revenue  Quantity  Revenue Percentage\n",
       "0            0  2023-01-01       A      221         3           46.458583\n",
       "1            1  2023-01-01       B      111         8           53.541417\n",
       "2            2  2023-01-02       B      171        11           53.541417\n",
       "3            3  2023-01-02       A      141        15           46.458583\n",
       "4            4  2023-02-01       A       75         4           46.458583\n",
       "5            5  2023-02-01       B       90        12           53.541417\n",
       "6            6  2023-02-02       A       96        17           46.458583\n",
       "7            7  2023-02-02       B      170        10           53.541417\n",
       "8            8  2023-03-01       B      200        19           53.541417\n",
       "9            9  2023-03-01       A      120        10           46.458583\n",
       "10          10  2023-03-02       A      121        12           46.458583\n",
       "11          11  2023-03-02       B      150         5           53.541417"
      ]
     },
     "execution_count": 105,
     "metadata": {},
     "output_type": "execute_result"
    }
   ],
   "source": [
    "df['Revenue Percentage'] = df['Product'].map(percentage)\n",
    "df"
   ]
  },
  {
   "cell_type": "code",
   "execution_count": null,
   "id": "9c20ddc6",
   "metadata": {},
   "outputs": [],
   "source": []
  }
 ],
 "metadata": {
  "kernelspec": {
   "display_name": "Python 3 (ipykernel)",
   "language": "python",
   "name": "python3"
  },
  "language_info": {
   "codemirror_mode": {
    "name": "ipython",
    "version": 3
   },
   "file_extension": ".py",
   "mimetype": "text/x-python",
   "name": "python",
   "nbconvert_exporter": "python",
   "pygments_lexer": "ipython3",
   "version": "3.11.5"
  }
 },
 "nbformat": 4,
 "nbformat_minor": 5
}
