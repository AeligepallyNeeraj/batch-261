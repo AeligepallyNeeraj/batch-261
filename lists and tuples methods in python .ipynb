{
 "cells": [
  {
   "cell_type": "markdown",
   "id": "6c2f2184",
   "metadata": {},
   "source": [
    "# list \n",
    "## methods of list\n",
    "Sort \n",
    "* The sort function can be used to sort the list in ascending or descending order.                                                                                                                                                                                * It can be used to sort the lists of integers,float values,but not the complex values\n",
    "* The general syntax is `list-name.sort(key=...,reverse=....)`\n"
   ]
  },
  {
   "cell_type": "code",
   "execution_count": 3,
   "id": "4d648a21",
   "metadata": {},
   "outputs": [
    {
     "data": {
      "text/plain": [
       "[1, -5, 10, 14, 100, 89, 'a', 'ani', 'b', 'z', 'jolly']"
      ]
     },
     "execution_count": 3,
     "metadata": {},
     "output_type": "execute_result"
    }
   ],
   "source": [
    "x,y=[1,-5,10,14,100,89],['a','ani','b','z','jolly']#adding of lists\n",
    "z=x+y\n",
    "z"
   ]
  },
  {
   "cell_type": "code",
   "execution_count": 10,
   "id": "2f6c1bc1",
   "metadata": {},
   "outputs": [
    {
     "data": {
      "text/plain": [
       "['AAA', 'a.prasanna', 'aaa', 'abhi', 'arun', 'ayesha']"
      ]
     },
     "execution_count": 10,
     "metadata": {},
     "output_type": "execute_result"
    }
   ],
   "source": [
    "x=['ayesha','arun','a.prasanna','abhi','aaa','AAA']\n",
    "x.sort()\n",
    "x"
   ]
  },
  {
   "cell_type": "code",
   "execution_count": 12,
   "id": "c5b5bb01",
   "metadata": {},
   "outputs": [
    {
     "data": {
      "text/plain": [
       "['__call__',\n",
       " '__class__',\n",
       " '__delattr__',\n",
       " '__dir__',\n",
       " '__doc__',\n",
       " '__eq__',\n",
       " '__format__',\n",
       " '__ge__',\n",
       " '__getattribute__',\n",
       " '__getstate__',\n",
       " '__gt__',\n",
       " '__hash__',\n",
       " '__init__',\n",
       " '__init_subclass__',\n",
       " '__le__',\n",
       " '__lt__',\n",
       " '__module__',\n",
       " '__name__',\n",
       " '__ne__',\n",
       " '__new__',\n",
       " '__qualname__',\n",
       " '__reduce__',\n",
       " '__reduce_ex__',\n",
       " '__repr__',\n",
       " '__self__',\n",
       " '__setattr__',\n",
       " '__sizeof__',\n",
       " '__str__',\n",
       " '__subclasshook__',\n",
       " '__text_signature__']"
      ]
     },
     "execution_count": 12,
     "metadata": {},
     "output_type": "execute_result"
    }
   ],
   "source": [
    "dir(x.sort)# the methods of sort"
   ]
  },
  {
   "cell_type": "code",
   "execution_count": 14,
   "id": "c899bf2a",
   "metadata": {},
   "outputs": [
    {
     "data": {
      "text/plain": [
       "[96, 10.1001, 1, -8]"
      ]
     },
     "execution_count": 14,
     "metadata": {},
     "output_type": "execute_result"
    }
   ],
   "source": [
    "aa=[1,-8,96,10.1001]\n",
    "aa.sort(reverse=True)\n",
    "aa"
   ]
  },
  {
   "cell_type": "code",
   "execution_count": 15,
   "id": "543538e3",
   "metadata": {},
   "outputs": [
    {
     "name": "stdout",
     "output_type": "stream",
     "text": [
      "Help on built-in function sort:\n",
      "\n",
      "sort(*, key=None, reverse=False) method of builtins.list instance\n",
      "    Sort the list in ascending order and return None.\n",
      "    \n",
      "    The sort is in-place (i.e. the list itself is modified) and stable (i.e. the\n",
      "    order of two equal elements is maintained).\n",
      "    \n",
      "    If a key function is given, apply it once to each list item and sort them,\n",
      "    ascending or descending, according to their function values.\n",
      "    \n",
      "    The reverse flag can be set to sort in descending order.\n",
      "\n"
     ]
    }
   ],
   "source": [
    "help(aa.sort)"
   ]
  },
  {
   "cell_type": "markdown",
   "id": "8c27060b",
   "metadata": {},
   "source": [
    "# index method\n",
    "* String index and list index is same\n"
   ]
  },
  {
   "cell_type": "code",
   "execution_count": 17,
   "id": "310fe3a8",
   "metadata": {},
   "outputs": [
    {
     "data": {
      "text/plain": [
       "6"
      ]
     },
     "execution_count": 17,
     "metadata": {},
     "output_type": "execute_result"
    }
   ],
   "source": [
    "x=[-5,1,10.1,14.05,89,100,'a','ani','b','z','jolly']#finding the index from left to right\n",
    "x.index('a')"
   ]
  },
  {
   "cell_type": "code",
   "execution_count": 21,
   "id": "6e9e0a29",
   "metadata": {},
   "outputs": [
    {
     "data": {
      "text/plain": [
       "4"
      ]
     },
     "execution_count": 21,
     "metadata": {},
     "output_type": "execute_result"
    }
   ],
   "source": [
    "x.index(89)"
   ]
  },
  {
   "cell_type": "code",
   "execution_count": 22,
   "id": "31ba48e7",
   "metadata": {},
   "outputs": [
    {
     "data": {
      "text/plain": [
       "['__call__',\n",
       " '__class__',\n",
       " '__delattr__',\n",
       " '__dir__',\n",
       " '__doc__',\n",
       " '__eq__',\n",
       " '__format__',\n",
       " '__ge__',\n",
       " '__getattribute__',\n",
       " '__getstate__',\n",
       " '__gt__',\n",
       " '__hash__',\n",
       " '__init__',\n",
       " '__init_subclass__',\n",
       " '__le__',\n",
       " '__lt__',\n",
       " '__module__',\n",
       " '__name__',\n",
       " '__ne__',\n",
       " '__new__',\n",
       " '__qualname__',\n",
       " '__reduce__',\n",
       " '__reduce_ex__',\n",
       " '__repr__',\n",
       " '__self__',\n",
       " '__setattr__',\n",
       " '__sizeof__',\n",
       " '__str__',\n",
       " '__subclasshook__',\n",
       " '__text_signature__']"
      ]
     },
     "execution_count": 22,
     "metadata": {},
     "output_type": "execute_result"
    }
   ],
   "source": [
    "dir(x.index)"
   ]
  },
  {
   "cell_type": "code",
   "execution_count": 23,
   "id": "e5d3e210",
   "metadata": {},
   "outputs": [
    {
     "name": "stdout",
     "output_type": "stream",
     "text": [
      "Help on built-in function index:\n",
      "\n",
      "index(value, start=0, stop=9223372036854775807, /) method of builtins.list instance\n",
      "    Return first index of value.\n",
      "    \n",
      "    Raises ValueError if the value is not present.\n",
      "\n"
     ]
    }
   ],
   "source": [
    "help(x.index)"
   ]
  },
  {
   "cell_type": "markdown",
   "id": "786bc719",
   "metadata": {},
   "source": [
    "# reverse\n",
    "* This merthod revreses the entire list elements\n",
    "* The general syntax is`list-namereverse()`\n"
   ]
  },
  {
   "cell_type": "code",
   "execution_count": 25,
   "id": "da3e610f",
   "metadata": {},
   "outputs": [
    {
     "data": {
      "text/plain": [
       "['jolly', 'z', 'b', 'ani', 'a', 100, 89, 14.05, 10.1, 1, -5]"
      ]
     },
     "execution_count": 25,
     "metadata": {},
     "output_type": "execute_result"
    }
   ],
   "source": [
    "x=[-5,1,10.1,14.05,89,100,'a','ani','b','z','jolly']\n",
    "x.reverse()\n",
    "x"
   ]
  },
  {
   "cell_type": "markdown",
   "id": "51deb509",
   "metadata": {},
   "source": [
    "# .clear()\n",
    "* it clears all the strings in a list and returens an empty list.\n",
    "* the syntax is`list-name.clear()`"
   ]
  },
  {
   "cell_type": "code",
   "execution_count": 27,
   "id": "f9f22e2b",
   "metadata": {},
   "outputs": [
    {
     "data": {
      "text/plain": [
       "[]"
      ]
     },
     "execution_count": 27,
     "metadata": {},
     "output_type": "execute_result"
    }
   ],
   "source": [
    "x=[-5,1,10.1,14.05,89,100,'a','ani','b','z','jolly']#clearing the string elements\n",
    "x.clear()\n",
    "x"
   ]
  },
  {
   "cell_type": "code",
   "execution_count": 36,
   "id": "7b1b33f2",
   "metadata": {},
   "outputs": [
    {
     "name": "stdout",
     "output_type": "stream",
     "text": [
      "Help on method_descriptor:\n",
      "\n",
      "clear(self, /)\n",
      "    Remove all items from list.\n",
      "\n"
     ]
    }
   ],
   "source": [
    "help(list.clear)"
   ]
  },
  {
   "cell_type": "code",
   "execution_count": 38,
   "id": "91470498",
   "metadata": {},
   "outputs": [
    {
     "data": {
      "text/plain": [
       "['__call__',\n",
       " '__class__',\n",
       " '__delattr__',\n",
       " '__dir__',\n",
       " '__doc__',\n",
       " '__eq__',\n",
       " '__format__',\n",
       " '__ge__',\n",
       " '__get__',\n",
       " '__getattribute__',\n",
       " '__getstate__',\n",
       " '__gt__',\n",
       " '__hash__',\n",
       " '__init__',\n",
       " '__init_subclass__',\n",
       " '__le__',\n",
       " '__lt__',\n",
       " '__name__',\n",
       " '__ne__',\n",
       " '__new__',\n",
       " '__objclass__',\n",
       " '__qualname__',\n",
       " '__reduce__',\n",
       " '__reduce_ex__',\n",
       " '__repr__',\n",
       " '__setattr__',\n",
       " '__sizeof__',\n",
       " '__str__',\n",
       " '__subclasshook__',\n",
       " '__text_signature__']"
      ]
     },
     "execution_count": 38,
     "metadata": {},
     "output_type": "execute_result"
    }
   ],
   "source": [
    "dir(list.clear)"
   ]
  },
  {
   "cell_type": "markdown",
   "id": "ea594c9d",
   "metadata": {},
   "source": [
    "# .copy()\n",
    "* All the components of one string is taken/copied toan empty another string with different memory locations\n",
    "* but the memory location of the individual element in both the list is same\n",
    "* the syntax is `list-name.copy()`"
   ]
  },
  {
   "cell_type": "code",
   "execution_count": 37,
   "id": "62e9cf7f",
   "metadata": {},
   "outputs": [
    {
     "name": "stdout",
     "output_type": "stream",
     "text": [
      "Help on method_descriptor:\n",
      "\n",
      "copy(self, /)\n",
      "    Return a shallow copy of the list.\n",
      "\n"
     ]
    }
   ],
   "source": [
    "help(list.copy)"
   ]
  },
  {
   "cell_type": "code",
   "execution_count": 30,
   "id": "8d46d939",
   "metadata": {},
   "outputs": [
    {
     "data": {
      "text/plain": [
       "[1, 2, 3]"
      ]
     },
     "execution_count": 30,
     "metadata": {},
     "output_type": "execute_result"
    }
   ],
   "source": [
    "x=[1,2,3]#copying of string elemets from x to y\n",
    "y=x.copy()\n",
    "y"
   ]
  },
  {
   "cell_type": "markdown",
   "id": "e616da03",
   "metadata": {},
   "source": [
    "* .copy fails in the nested list,so we use deepcopy"
   ]
  },
  {
   "cell_type": "code",
   "execution_count": 2,
   "id": "c6317105",
   "metadata": {},
   "outputs": [
    {
     "data": {
      "text/plain": [
       "[1, 2, 3]"
      ]
     },
     "execution_count": 2,
     "metadata": {},
     "output_type": "execute_result"
    }
   ],
   "source": [
    "x=[1,2,3]\n",
    "y=x.copy()\n",
    "y"
   ]
  },
  {
   "cell_type": "code",
   "execution_count": 4,
   "id": "ea2105a1",
   "metadata": {},
   "outputs": [
    {
     "data": {
      "text/plain": [
       "(2199216570176, 2199216594368)"
      ]
     },
     "execution_count": 4,
     "metadata": {},
     "output_type": "execute_result"
    }
   ],
   "source": [
    "id(x),id(y)# both the list has different memory location\n"
   ]
  },
  {
   "cell_type": "code",
   "execution_count": 7,
   "id": "40592f69",
   "metadata": {},
   "outputs": [
    {
     "data": {
      "text/plain": [
       "(140713617363784, 140713617363784)"
      ]
     },
     "execution_count": 7,
     "metadata": {},
     "output_type": "execute_result"
    }
   ],
   "source": [
    "id(x[1]),id(y[1])# the memory location of the elements in both the list is same"
   ]
  },
  {
   "cell_type": "code",
   "execution_count": 9,
   "id": "1333936d",
   "metadata": {},
   "outputs": [
    {
     "data": {
      "text/plain": [
       "[1, 2, 3, [4, 5, 6]]"
      ]
     },
     "execution_count": 9,
     "metadata": {},
     "output_type": "execute_result"
    }
   ],
   "source": [
    "x=[1,2,3,[4,5,6]]\n",
    "y=x.copy()\n",
    "y"
   ]
  },
  {
   "cell_type": "code",
   "execution_count": 11,
   "id": "03b959c1",
   "metadata": {},
   "outputs": [
    {
     "data": {
      "text/plain": [
       "(2199216522432, 2199216522432)"
      ]
     },
     "execution_count": 11,
     "metadata": {},
     "output_type": "execute_result"
    }
   ],
   "source": [
    "id(x[3]),id(y[3])"
   ]
  },
  {
   "cell_type": "code",
   "execution_count": 16,
   "id": "6081d07d",
   "metadata": {},
   "outputs": [],
   "source": [
    "import copy\n",
    "from copy import deepcopy"
   ]
  },
  {
   "cell_type": "code",
   "execution_count": 18,
   "id": "2be34e8c",
   "metadata": {},
   "outputs": [
    {
     "data": {
      "text/plain": [
       "[1, 2, 3, [4, 5]]"
      ]
     },
     "execution_count": 18,
     "metadata": {},
     "output_type": "execute_result"
    }
   ],
   "source": [
    "a=[1,2,3,[4,5]]\n",
    "b=deepcopy(a)\n",
    "b"
   ]
  },
  {
   "cell_type": "code",
   "execution_count": null,
   "id": "fce6a417",
   "metadata": {},
   "outputs": [],
   "source": [
    "print(a,id(a), hex(id(a[3])))"
   ]
  },
  {
   "cell_type": "code",
   "execution_count": 21,
   "id": "6f1a07b1",
   "metadata": {},
   "outputs": [
    {
     "name": "stdout",
     "output_type": "stream",
     "text": [
      "[1, 2, 3, [4, 5]] 2199229902016 0x2000b7b9780\n"
     ]
    }
   ],
   "source": [
    "print(b,id(b), hex(id(b[3])))"
   ]
  },
  {
   "cell_type": "markdown",
   "id": "d1e69c7a",
   "metadata": {},
   "source": [
    "# tuples in python\n",
    "* Tuples are heterogeneous.\n",
    "* tuples are defined in paranthesis()\n",
    "* it is immutable\n",
    "* tuples are static.\n",
    "\n"
   ]
  },
  {
   "cell_type": "code",
   "execution_count": 23,
   "id": "651ac7b9",
   "metadata": {},
   "outputs": [
    {
     "data": {
      "text/plain": [
       "'Pranii'"
      ]
     },
     "execution_count": 23,
     "metadata": {},
     "output_type": "execute_result"
    }
   ],
   "source": [
    "a=('Pranii')\n",
    "a"
   ]
  },
  {
   "cell_type": "code",
   "execution_count": 26,
   "id": "0af72fdd",
   "metadata": {},
   "outputs": [
    {
     "data": {
      "text/plain": [
       "(0,)"
      ]
     },
     "execution_count": 26,
     "metadata": {},
     "output_type": "execute_result"
    }
   ],
   "source": [
    "a=tuple(range(1))# the default for length of 1\n",
    "a"
   ]
  },
  {
   "cell_type": "markdown",
   "id": "571e01a0",
   "metadata": {},
   "source": [
    "* <b>empty tuple()</b>\n",
    "* A tuple in whuch we doest not have any elemnts\n"
   ]
  },
  {
   "cell_type": "code",
   "execution_count": 28,
   "id": "c24277b0",
   "metadata": {},
   "outputs": [
    {
     "data": {
      "text/plain": [
       "()"
      ]
     },
     "execution_count": 28,
     "metadata": {},
     "output_type": "execute_result"
    }
   ],
   "source": [
    "b=( )\n",
    "b\n"
   ]
  },
  {
   "cell_type": "code",
   "execution_count": 29,
   "id": "c14ded99",
   "metadata": {},
   "outputs": [
    {
     "data": {
      "text/plain": [
       "((), 0, tuple)"
      ]
     },
     "execution_count": 29,
     "metadata": {},
     "output_type": "execute_result"
    }
   ],
   "source": [
    "b,len(b),type(b)"
   ]
  },
  {
   "cell_type": "code",
   "execution_count": 31,
   "id": "0c771268",
   "metadata": {},
   "outputs": [
    {
     "data": {
      "text/plain": [
       "('p', 'r', 'a', 'n', 'i')"
      ]
     },
     "execution_count": 31,
     "metadata": {},
     "output_type": "execute_result"
    }
   ],
   "source": [
    "c=tuple('prani')\n",
    "c"
   ]
  },
  {
   "cell_type": "code",
   "execution_count": null,
   "id": "2453216e",
   "metadata": {},
   "outputs": [],
   "source": []
  }
 ],
 "metadata": {
  "kernelspec": {
   "display_name": "Python 3 (ipykernel)",
   "language": "python",
   "name": "python3"
  },
  "language_info": {
   "codemirror_mode": {
    "name": "ipython",
    "version": 3
   },
   "file_extension": ".py",
   "mimetype": "text/x-python",
   "name": "python",
   "nbconvert_exporter": "python",
   "pygments_lexer": "ipython3",
   "version": "3.11.5"
  }
 },
 "nbformat": 4,
 "nbformat_minor": 5
}
