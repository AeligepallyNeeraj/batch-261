{
 "cells": [
  {
   "cell_type": "markdown",
   "id": "40082d27",
   "metadata": {},
   "source": [
    "# Polymorphism"
   ]
  },
  {
   "cell_type": "markdown",
   "id": "7933b07d",
   "metadata": {},
   "source": [
    "* The word \"polymorphism\" means \"many forms\", and in programming it refers to methods/functions/operators with the same name that can be executed on many objects or classes."
   ]
  },
  {
   "cell_type": "markdown",
   "id": "ca43009d",
   "metadata": {},
   "source": [
    "* Function Polymorphism                               \n",
    "An example of a Python function that can be used on different objects is the len() function.\n",
    "String\n",
    "For strings len() returns the number of characters:\n",
    "\n",
    "Example\n"
   ]
  },
  {
   "cell_type": "code",
   "execution_count": 1,
   "id": "9ff1d874",
   "metadata": {},
   "outputs": [
    {
     "name": "stdout",
     "output_type": "stream",
     "text": [
      "12\n"
     ]
    }
   ],
   "source": [
    "x = \"Hello World!\"\n",
    "\n",
    "print(len(x))\n"
   ]
  },
  {
   "cell_type": "markdown",
   "id": "6646f62a",
   "metadata": {},
   "source": [
    "Class Polymorphism\n",
    "Polymorphism is often used in Class methods, where we can have multiple classes with the same method name."
   ]
  },
  {
   "cell_type": "markdown",
   "id": "1f2adda9",
   "metadata": {},
   "source": [
    "# MethodOverriding \n",
    "* Method overriding is a feature of object-oriented programming languages that allows a subclass or child class to provide a specific implementation of a method that is already provided by one of its super-classes or parent classes.\n",
    "*  When a method in a subclass has the same name, same parameters or signature and same return type (or sub-type) as a method in its super-class, then the method in the subclass is said to override the method in the super-class\n",
    "* The overriding method allows a child class to provide a specific implementation of a method that is already provided by one of its parent classes.\n"
   ]
  },
  {
   "cell_type": "code",
   "execution_count": 6,
   "id": "41ae2ab4",
   "metadata": {},
   "outputs": [],
   "source": [
    "class FooClass:\n",
    "    def __init__(self,a,b):\n",
    "        self.a = a\n",
    "        self.b = b\n",
    "    def foo(self):\n",
    "        print('Hello')"
   ]
  },
  {
   "cell_type": "code",
   "execution_count": 7,
   "id": "80041466",
   "metadata": {},
   "outputs": [],
   "source": [
    "x = FooClass(5,10)"
   ]
  },
  {
   "cell_type": "code",
   "execution_count": 9,
   "id": "30d89806",
   "metadata": {},
   "outputs": [
    {
     "name": "stdout",
     "output_type": "stream",
     "text": [
      "Hello\n"
     ]
    }
   ],
   "source": [
    "x.foo()"
   ]
  },
  {
   "cell_type": "markdown",
   "id": "eb0bd04b",
   "metadata": {},
   "source": [
    "## constructor and method overriding"
   ]
  },
  {
   "cell_type": "code",
   "execution_count": 13,
   "id": "426885a3",
   "metadata": {},
   "outputs": [],
   "source": [
    "class FooClass:     #using constructor overriding and method\n",
    "    def __init__(self,a,b):\n",
    "        self.a = a\n",
    "        self.b = b\n",
    "    def foo(self):\n",
    "        print('Hello')\n",
    "        \n",
    "    def __init__(self,a,b,c,d):\n",
    "        self.m = a+b\n",
    "        self.n = c+d\n",
    "    def foo(self):\n",
    "        print('Hello')\n",
    "    def foo(self):\n",
    "        print('Good Morning')\n",
    "        "
   ]
  },
  {
   "cell_type": "code",
   "execution_count": 14,
   "id": "7aff4d82",
   "metadata": {},
   "outputs": [],
   "source": [
    "x = FooClass(5,10,10,5)"
   ]
  },
  {
   "cell_type": "code",
   "execution_count": 15,
   "id": "f0a5ff6f",
   "metadata": {},
   "outputs": [
    {
     "name": "stdout",
     "output_type": "stream",
     "text": [
      "Good Morning\n"
     ]
    }
   ],
   "source": [
    "x.foo()"
   ]
  },
  {
   "cell_type": "markdown",
   "id": "a58d3994",
   "metadata": {},
   "source": [
    "## constructor and method overriding using inheritance"
   ]
  },
  {
   "cell_type": "code",
   "execution_count": 16,
   "id": "ba1d29dc",
   "metadata": {},
   "outputs": [],
   "source": [
    "class Xclass(FooClass):#In this the constructor is being inherited so we need to give 4 arguments \n",
    "    def foo(self):\n",
    "        print('Bakki')"
   ]
  },
  {
   "cell_type": "code",
   "execution_count": 17,
   "id": "bb464f3b",
   "metadata": {},
   "outputs": [],
   "source": [
    "x=Xclass(10,5,10,9)"
   ]
  },
  {
   "cell_type": "code",
   "execution_count": 18,
   "id": "738af451",
   "metadata": {},
   "outputs": [
    {
     "name": "stdout",
     "output_type": "stream",
     "text": [
      "Bakki\n"
     ]
    }
   ],
   "source": [
    "x.foo()"
   ]
  },
  {
   "cell_type": "markdown",
   "id": "afe5aca7",
   "metadata": {},
   "source": [
    "\n",
    "# Operator overloading\n",
    "* Operator Overloading means giving extended meaning beyond their predefined operational meaning."
   ]
  },
  {
   "cell_type": "code",
   "execution_count": 19,
   "id": "f6072bf8",
   "metadata": {},
   "outputs": [
    {
     "data": {
      "text/plain": [
       "[1, 2, 3, 1, 2, 3]"
      ]
     },
     "execution_count": 19,
     "metadata": {},
     "output_type": "execute_result"
    }
   ],
   "source": [
    "[1,2,3]*2"
   ]
  },
  {
   "cell_type": "code",
   "execution_count": 21,
   "id": "fe135a0e",
   "metadata": {},
   "outputs": [
    {
     "ename": "TypeError",
     "evalue": "can't multiply sequence by non-int of type 'list'",
     "output_type": "error",
     "traceback": [
      "\u001b[1;31m---------------------------------------------------------------------------\u001b[0m",
      "\u001b[1;31mTypeError\u001b[0m                                 Traceback (most recent call last)",
      "Cell \u001b[1;32mIn[21], line 1\u001b[0m\n\u001b[1;32m----> 1\u001b[0m [\u001b[38;5;241m1\u001b[39m,\u001b[38;5;241m2\u001b[39m,\u001b[38;5;241m3\u001b[39m]\u001b[38;5;241m*\u001b[39m[\u001b[38;5;241m4\u001b[39m,\u001b[38;5;241m5\u001b[39m,\u001b[38;5;241m6\u001b[39m]\n",
      "\u001b[1;31mTypeError\u001b[0m: can't multiply sequence by non-int of type 'list'"
     ]
    }
   ],
   "source": [
    "[1,2,3]*[4,5,6]#for getting the output of this type we use operator overloading"
   ]
  },
  {
   "cell_type": "code",
   "execution_count": 22,
   "id": "251cc8fb",
   "metadata": {},
   "outputs": [],
   "source": [
    "class MyList:\n",
    "    def __init__(self,value):\n",
    "        self.val = value\n",
    "    def __mul__(self,OtherMyList):\n",
    "        return [i*j for i,j in zip(self.val,OtherMyList.val)]"
   ]
  },
  {
   "cell_type": "code",
   "execution_count": 25,
   "id": "f942dc54",
   "metadata": {},
   "outputs": [],
   "source": [
    "x,y = MyList([1,2,3]),MyList([4,5,6])"
   ]
  },
  {
   "cell_type": "code",
   "execution_count": 26,
   "id": "8ffc1478",
   "metadata": {},
   "outputs": [
    {
     "data": {
      "text/plain": [
       "[4, 10, 18]"
      ]
     },
     "execution_count": 26,
     "metadata": {},
     "output_type": "execute_result"
    }
   ],
   "source": [
    "x*y"
   ]
  },
  {
   "cell_type": "code",
   "execution_count": 27,
   "id": "81fe086f",
   "metadata": {},
   "outputs": [],
   "source": [
    "class MyList:\n",
    "    def __init__(self,value):\n",
    "        self.val = value\n",
    "    def __ge__(self,OtherMyList):\n",
    "        return [i>j for i,j in zip(self.val,OtherMyList.val)]"
   ]
  },
  {
   "cell_type": "code",
   "execution_count": 31,
   "id": "4eac949f",
   "metadata": {},
   "outputs": [],
   "source": [
    "x,y = 2,3"
   ]
  },
  {
   "cell_type": "code",
   "execution_count": 32,
   "id": "44fc1bcc",
   "metadata": {},
   "outputs": [
    {
     "data": {
      "text/plain": [
       "False"
      ]
     },
     "execution_count": 32,
     "metadata": {},
     "output_type": "execute_result"
    }
   ],
   "source": [
    "x>y"
   ]
  },
  {
   "cell_type": "markdown",
   "id": "f93b3340",
   "metadata": {},
   "source": [
    "# Method Overloading\n",
    "* Two or more methods have the same name but different numbers of parameters or different types of parameters, or both. These methods are called overloaded methods and this is called method overloading. "
   ]
  },
  {
   "cell_type": "code",
   "execution_count": 34,
   "id": "3805e1f4",
   "metadata": {},
   "outputs": [],
   "source": [
    "import multipledispatch\n",
    "from multipledispatch import dispatch\n"
   ]
  },
  {
   "cell_type": "code",
   "execution_count": 36,
   "id": "25d08bcb",
   "metadata": {},
   "outputs": [
    {
     "data": {
      "text/plain": [
       "(1, 2, 3, 4, 5, 6)"
      ]
     },
     "execution_count": 36,
     "metadata": {},
     "output_type": "execute_result"
    }
   ],
   "source": [
    "(1,2,3)+(4,5,6)"
   ]
  },
  {
   "cell_type": "code",
   "execution_count": 38,
   "id": "fa4264a1",
   "metadata": {},
   "outputs": [
    {
     "ename": "TypeError",
     "evalue": "unsupported operand type(s) for +: 'set' and 'set'",
     "output_type": "error",
     "traceback": [
      "\u001b[1;31m---------------------------------------------------------------------------\u001b[0m",
      "\u001b[1;31mTypeError\u001b[0m                                 Traceback (most recent call last)",
      "Cell \u001b[1;32mIn[38], line 1\u001b[0m\n\u001b[1;32m----> 1\u001b[0m {\u001b[38;5;241m1\u001b[39m,\u001b[38;5;241m2\u001b[39m,\u001b[38;5;241m3\u001b[39m}\u001b[38;5;241m+\u001b[39m{\u001b[38;5;241m4\u001b[39m,\u001b[38;5;241m5\u001b[39m,\u001b[38;5;241m6\u001b[39m}\n",
      "\u001b[1;31mTypeError\u001b[0m: unsupported operand type(s) for +: 'set' and 'set'"
     ]
    }
   ],
   "source": [
    "{1,2,3}+{4,5,6}# we can get output "
   ]
  },
  {
   "cell_type": "code",
   "execution_count": 39,
   "id": "7ad52a1e",
   "metadata": {},
   "outputs": [],
   "source": [
    "class MyClass:\n",
    "    def __init__(self,a,b):\n",
    "        self.a = a\n",
    "        self.b = b\n",
    "    @dispatch(int,int)\n",
    "    def foo(self,x,y):\n",
    "        return x + y\n",
    "    @dispatch(set,set)\n",
    "    def foo(self,m,n):\n",
    "        return m.union(n)\n",
    "    "
   ]
  },
  {
   "cell_type": "code",
   "execution_count": 40,
   "id": "da1c328f",
   "metadata": {},
   "outputs": [],
   "source": [
    "x = MyClass(5,10)"
   ]
  },
  {
   "cell_type": "code",
   "execution_count": 42,
   "id": "84255173",
   "metadata": {},
   "outputs": [
    {
     "data": {
      "text/plain": [
       "5"
      ]
     },
     "execution_count": 42,
     "metadata": {},
     "output_type": "execute_result"
    }
   ],
   "source": [
    "x.foo(2,3)"
   ]
  },
  {
   "cell_type": "code",
   "execution_count": 43,
   "id": "fafd7471",
   "metadata": {},
   "outputs": [
    {
     "data": {
      "text/plain": [
       "{1, 2, 3, 4, 5, 6}"
      ]
     },
     "execution_count": 43,
     "metadata": {},
     "output_type": "execute_result"
    }
   ],
   "source": [
    "x.foo({1,2,3},{4,5,6})"
   ]
  },
  {
   "cell_type": "code",
   "execution_count": 46,
   "id": "2afaa374",
   "metadata": {},
   "outputs": [],
   "source": [
    "class MyClass:\n",
    "    def __init__(self,a,b):\n",
    "        self.a = a\n",
    "        self.b = b\n",
    "    @dispatch(int,int)\n",
    "    def foo(self,x,y):\n",
    "        return x + y\n",
    "    @dispatch(set,set)\n",
    "    def foo(self,m,n):\n",
    "        return m.union(n)\n",
    "    @dispatch(str,str)\n",
    "    def foo(self,m,n):\n",
    "        return m+n\n",
    "    \n",
    "    "
   ]
  },
  {
   "cell_type": "code",
   "execution_count": 47,
   "id": "7a16431f",
   "metadata": {},
   "outputs": [],
   "source": [
    "x= MyClass(5,10)"
   ]
  },
  {
   "cell_type": "code",
   "execution_count": 48,
   "id": "45d2848f",
   "metadata": {},
   "outputs": [
    {
     "data": {
      "text/plain": [
       "5"
      ]
     },
     "execution_count": 48,
     "metadata": {},
     "output_type": "execute_result"
    }
   ],
   "source": [
    "x.foo(2,3)"
   ]
  },
  {
   "cell_type": "code",
   "execution_count": 49,
   "id": "18eb3c2c",
   "metadata": {},
   "outputs": [
    {
     "data": {
      "text/plain": [
       "'yuvineeraj'"
      ]
     },
     "execution_count": 49,
     "metadata": {},
     "output_type": "execute_result"
    }
   ],
   "source": [
    "x.foo('yuvi','neeraj')"
   ]
  },
  {
   "cell_type": "code",
   "execution_count": 57,
   "id": "d1b76a78",
   "metadata": {},
   "outputs": [],
   "source": [
    "class MyClass:\n",
    "    def __init__(self,a,b):# example for constructor overloading\n",
    "        self.a = a\n",
    "        self.b = b\n",
    "    @dispatch(int,int)\n",
    "    def foo(self,x,y):\n",
    "        return x + y\n",
    "    @dispatch(set,set)\n",
    "    def foo(self,m,n):\n",
    "        return m.union(n)\n",
    "    @dispatch(str,str)\n",
    "    def foo(self,m,n):\n",
    "        return m+n\n",
    "    @dispatch(int,int,int)\n",
    "    def foo(self,m,n,o):\n",
    "        return (m*n)-o\n",
    "    \n",
    "    "
   ]
  },
  {
   "cell_type": "code",
   "execution_count": 58,
   "id": "ad2b55ec",
   "metadata": {},
   "outputs": [],
   "source": [
    "x= MyClass(5,10)"
   ]
  },
  {
   "cell_type": "code",
   "execution_count": 59,
   "id": "754a6ca8",
   "metadata": {},
   "outputs": [
    {
     "data": {
      "text/plain": [
       "0"
      ]
     },
     "execution_count": 59,
     "metadata": {},
     "output_type": "execute_result"
    }
   ],
   "source": [
    "x.foo(2,15,30)"
   ]
  },
  {
   "cell_type": "code",
   "execution_count": 60,
   "id": "4bb689b8",
   "metadata": {},
   "outputs": [
    {
     "data": {
      "text/plain": [
       "{1, 2, 3, 4}"
      ]
     },
     "execution_count": 60,
     "metadata": {},
     "output_type": "execute_result"
    }
   ],
   "source": [
    "x.foo({1,2},{3,4})"
   ]
  },
  {
   "cell_type": "code",
   "execution_count": 75,
   "id": "ac98f823",
   "metadata": {},
   "outputs": [],
   "source": [
    "class MyClass:\n",
    "    def __init__(self,a,b):#using method overloading\n",
    "        self.a = a\n",
    "        self.b = b\n",
    "    @dispatch(int,int)\n",
    "    def foo(self,x,y):\n",
    "        return x + y\n",
    "    @dispatch(set,set)\n",
    "    def foo(self,m,n):\n",
    "        return m.union(n)\n",
    "    @dispatch(str,str)\n",
    "    def foo(self,m,n):\n",
    "        return m+n\n",
    "    @dispatch(int,int,int)\n",
    "    def foo(self,m,n,o):\n",
    "        return (m*n)-o\n",
    "    @dispatch(list,list)\n",
    "    def foo(self,m,n):\n",
    "        return [i*j for i,j in zip(m,n)]\n",
    "    "
   ]
  },
  {
   "cell_type": "code",
   "execution_count": 76,
   "id": "36947548",
   "metadata": {},
   "outputs": [],
   "source": [
    "x=MyClass(5,10)"
   ]
  },
  {
   "cell_type": "code",
   "execution_count": 77,
   "id": "daf8294b",
   "metadata": {},
   "outputs": [
    {
     "data": {
      "text/plain": [
       "[3, 8]"
      ]
     },
     "execution_count": 77,
     "metadata": {},
     "output_type": "execute_result"
    }
   ],
   "source": [
    "x.foo([1,2],[3,4])"
   ]
  },
  {
   "cell_type": "code",
   "execution_count": 89,
   "id": "7fd388ac",
   "metadata": {},
   "outputs": [],
   "source": [
    "class Parent:\n",
    "    @dispatch(int,int)\n",
    "    def foo(self,x,y):\n",
    "        self.x= x *y\n",
    "    @dispatch(str,str)\n",
    "    def __init__(self,fname,lname):\n",
    "        self.name = fname+' '+lname\n",
    "    @dispatch(int,int)\n",
    "    def foo(self,x,y):\n",
    "        return x + y\n",
    "    @dispatch(set,set)\n",
    "    def foo(self,m,n):\n",
    "        return m.union(n)\n",
    "    @dispatch(str,str)\n",
    "    def foo(self,m,n):\n",
    "        return m+n\n",
    "    @dispatch(int,int,int)\n",
    "    def foo(self,m,n,o):\n",
    "        return (m*n)-o\n",
    "    "
   ]
  },
  {
   "cell_type": "code",
   "execution_count": 96,
   "id": "416cda5b",
   "metadata": {},
   "outputs": [],
   "source": [
    "class Child(Parent):\n",
    "    pass# in heritance the child class also inherits all the method overloading and constructor overloading"
   ]
  },
  {
   "cell_type": "code",
   "execution_count": 97,
   "id": "4a2c012f",
   "metadata": {},
   "outputs": [],
   "source": [
    "x = Child('abc','str')"
   ]
  },
  {
   "cell_type": "code",
   "execution_count": 98,
   "id": "8fc5a2cf",
   "metadata": {},
   "outputs": [
    {
     "data": {
      "text/plain": [
       "'abc str'"
      ]
     },
     "execution_count": 98,
     "metadata": {},
     "output_type": "execute_result"
    }
   ],
   "source": [
    "x.name"
   ]
  },
  {
   "cell_type": "markdown",
   "id": "3fa673f2",
   "metadata": {},
   "source": [
    "# constructor overloading\n",
    "* Constructor overloading means more than one constructor in a class with the same name but a different argument (parameter). Python does not support Constructor overloading; it has no form of function."
   ]
  },
  {
   "cell_type": "code",
   "execution_count": 2,
   "id": "8abfc7a1",
   "metadata": {},
   "outputs": [],
   "source": [
    "class MyData:\n",
    "    def __init__(self, data):\n",
    "        self.data = data\n",
    "\n",
    "    @classmethod\n",
    "    def fromfilename(cls, filename):\n",
    "        data = open(filename).readlines()\n",
    "        return cls(data)\n",
    "\n",
    "    @classmethod\n",
    "    def fromdict(cls, datadict):\n",
    "        return cls(datadict.items())"
   ]
  },
  {
   "cell_type": "markdown",
   "id": "3dde857a",
   "metadata": {},
   "source": [
    "# Abstraction\n",
    "* An abstract class can be considered a blueprint for other classes. It allows you to create a set of methods that must be created within any child classes built from the abstract class. A class that contains one or more abstract methods is called an abstract class."
   ]
  },
  {
   "cell_type": "code",
   "execution_count": 99,
   "id": "bb767b56",
   "metadata": {},
   "outputs": [],
   "source": [
    "import abc\n",
    "from abc import abstractmethod,ABC"
   ]
  },
  {
   "cell_type": "code",
   "execution_count": 106,
   "id": "9cfaca1d",
   "metadata": {},
   "outputs": [],
   "source": [
    "class Ben10(ABC):#THIS PARENT CLASS IS AN ABSTRACT CLASS\n",
    "    @abstractclassmethod\n",
    "    def omniTransformation(self):\n",
    "        '''Yo Yo Honey Singh!'''\n",
    "        pass"
   ]
  },
  {
   "cell_type": "code",
   "execution_count": 107,
   "id": "b779eac9",
   "metadata": {},
   "outputs": [],
   "source": [
    "class DiamondHead(Ben10):\n",
    "    def omniTransformation(self):\n",
    "        '''DiamondHead'''\n",
    "        print('DiamondHead Transformation Done!')\n",
    "    "
   ]
  },
  {
   "cell_type": "code",
   "execution_count": 108,
   "id": "ecc803f8",
   "metadata": {},
   "outputs": [],
   "source": [
    "x = DiamondHead()"
   ]
  },
  {
   "cell_type": "code",
   "execution_count": 110,
   "id": "baa8d262",
   "metadata": {},
   "outputs": [
    {
     "name": "stdout",
     "output_type": "stream",
     "text": [
      "DiamondHead Transformation Done!\n"
     ]
    }
   ],
   "source": [
    "x.omniTransformation()"
   ]
  },
  {
   "cell_type": "code",
   "execution_count": 113,
   "id": "1ac2e452",
   "metadata": {},
   "outputs": [],
   "source": [
    "def foo(x:str,y:str):# here the opertion should be error but if the property add is present as one of the __add__ then it however executes\n",
    "    return x+y"
   ]
  },
  {
   "cell_type": "code",
   "execution_count": 114,
   "id": "9a90dc97",
   "metadata": {},
   "outputs": [
    {
     "data": {
      "text/plain": [
       "9"
      ]
     },
     "execution_count": 114,
     "metadata": {},
     "output_type": "execute_result"
    }
   ],
   "source": [
    "foo(4,5)"
   ]
  },
  {
   "cell_type": "markdown",
   "id": "a1280906",
   "metadata": {},
   "source": [
    "## Duck typing\n",
    "* The main reason for using duck typing is to provide support for dynamic typing in Python programming. In Python, we don't need to specify the variable's data type and we can reassign the different data type values to same variable in further code\n",
    "* If the method is present in other class also executes."
   ]
  },
  {
   "cell_type": "code",
   "execution_count": 6,
   "id": "2774a9f0",
   "metadata": {},
   "outputs": [],
   "source": [
    "class Duck:\n",
    "    def quack(self):\n",
    "        print('quaack!')\n",
    "    def fly(self):\n",
    "        print('Flap-Flap')\n",
    "class DogDuck:\n",
    "    def quack(self):\n",
    "        print('Bowacck!')\n",
    "    def fly(self):\n",
    "        print('zoommm')\n",
    "    "
   ]
  },
  {
   "cell_type": "code",
   "execution_count": 7,
   "id": "57fcce7a",
   "metadata": {},
   "outputs": [],
   "source": [
    "def foo(x:Duck):\n",
    "    x.quack()"
   ]
  },
  {
   "cell_type": "code",
   "execution_count": 8,
   "id": "28b0d66b",
   "metadata": {},
   "outputs": [],
   "source": [
    "a,b =Duck(), DogDuck()"
   ]
  },
  {
   "cell_type": "code",
   "execution_count": 9,
   "id": "9726bb52",
   "metadata": {},
   "outputs": [
    {
     "name": "stdout",
     "output_type": "stream",
     "text": [
      "quaack!\n"
     ]
    }
   ],
   "source": [
    "foo(a)"
   ]
  },
  {
   "cell_type": "code",
   "execution_count": 10,
   "id": "58bbaccf",
   "metadata": {},
   "outputs": [
    {
     "name": "stdout",
     "output_type": "stream",
     "text": [
      "Bowacck!\n"
     ]
    }
   ],
   "source": [
    "foo(b)"
   ]
  }
 ],
 "metadata": {
  "kernelspec": {
   "display_name": "Python 3 (ipykernel)",
   "language": "python",
   "name": "python3"
  },
  "language_info": {
   "codemirror_mode": {
    "name": "ipython",
    "version": 3
   },
   "file_extension": ".py",
   "mimetype": "text/x-python",
   "name": "python",
   "nbconvert_exporter": "python",
   "pygments_lexer": "ipython3",
   "version": "3.11.5"
  }
 },
 "nbformat": 4,
 "nbformat_minor": 5
}
