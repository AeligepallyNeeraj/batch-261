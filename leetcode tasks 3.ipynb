{
 "cells": [
  {
   "cell_type": "markdown",
   "id": "3455942e",
   "metadata": {},
   "source": [
    "# Write a function to report, How much cubic feet of volume does the inventory occupy in each warehouse.\n",
    "\n",
    "warehouse_name\n",
    "volume\n",
    "Return the result table in any order."
   ]
  },
  {
   "cell_type": "code",
   "execution_count": 18,
   "id": "ce74fbd5",
   "metadata": {},
   "outputs": [
    {
     "name": "stdout",
     "output_type": "stream",
     "text": [
      "Warehouse Name: Warehouse_A, Total Volume: 22 cubic feet\n",
      "Warehouse Name: Warehouse_B, Total Volume: 21 cubic feet\n",
      "Warehouse Name: Warehouse_C, Total Volume: 21 cubic feet\n"
     ]
    }
   ],
   "source": [
    "inventory_data = {\n",
    "    'Warehouse_A': [10, 5, 7],  # Volumes of items in Warehouse A\n",
    "    'Warehouse_B': [8, 3, 6, 4],  # Volumes of items in Warehouse B\n",
    "    'Warehouse_C': [12, 9]  # Volumes of items in Warehouse C\n",
    "}\n",
    "def calculate_total_volume(data):\n",
    "    result = {}\n",
    "    for warehouse, volumes in data.items():\n",
    "        total_volume = sum(volumes)\n",
    "        result[warehouse] = total_volume\n",
    "    return result\n",
    "for warehouse, total_volume in inventory_volume_per_warehouse.items():\n",
    "    print(f\"Warehouse Name: {warehouse}, Total Volume: {total_volume} cubic feet\")\n",
    "inventory_volume_per_warehouse = calculate_total_volume(inventory_data)\n"
   ]
  },
  {
   "cell_type": "markdown",
   "id": "c308d8fd",
   "metadata": {},
   "source": [
    "# Given a string s and an integer array indices of the same length.\n",
    "\n",
    "The string s will be shuffled such that the character at the ith position moves to indices[i] in the shuffled string.\n",
    "\n",
    "Return the shuffled string.\n",
    "\n",
    " \n",
    "\n",
    "Example 1:\n",
    "\n",
    "\n",
    "Input: s = \"codeleet\", indices = [4,5,6,7,0,2,1,3]\n",
    "Output: \"leetcode\"\n",
    "Explanation: As shown, \"codeleet\" becomes \"leetcode\" after shuffling."
   ]
  },
  {
   "cell_type": "code",
   "execution_count": 39,
   "id": "887e3166",
   "metadata": {},
   "outputs": [
    {
     "name": "stdout",
     "output_type": "stream",
     "text": [
      "l e e t c o d e\n"
     ]
    }
   ],
   "source": [
    "\n",
    "def restoreString(s,indices):\n",
    "    shuffled=[None] * len(s)\n",
    "    for i in range(len(s)):\n",
    "        shuffled [indices[i]] = s[i]\n",
    "    return ' '.join(shuffled)\n",
    "s = \"codeleet\"\n",
    "indices = [4,5,6,7,0,2,1,3]\n",
    "\n",
    "result = restoreString(s,indices)\n",
    "print(result)\n"
   ]
  },
  {
   "cell_type": "markdown",
   "id": "cbe3294c",
   "metadata": {},
   "source": [
    "# Write a solution to report the name and balance of users with a balance higher than 10000. The balance of an account is equal to the sum of the amounts of all transactions involving that account.\n",
    "\n",
    "Return the result table in any order.\n"
   ]
  },
  {
   "cell_type": "code",
   "execution_count": 7,
   "id": "44ee44ac",
   "metadata": {},
   "outputs": [
    {
     "name": "stdout",
     "output_type": "stream",
     "text": [
      "{3: 12000}\n"
     ]
    }
   ],
   "source": [
    "transactions=[(1,1000),(2,3000),(1,8000),(3,12000),(2,7000)]\n",
    "def high_balance_users(transactions):\n",
    "    user_balance={}\n",
    "    for user,amount in transactions:\n",
    "        if user in user_balance:\n",
    "            user_balance[user]+=amount\n",
    "        else:\n",
    "            user_balance[user]=amount\n",
    "  \n",
    "    high_balance_users={user:balance for user,balance  in user_balance.items()if balance >10000}\n",
    "    return high_balance_users\n",
    "result = high_balance_users(transactions)\n",
    "print(result)"
   ]
  },
  {
   "cell_type": "markdown",
   "id": "2dfcecda",
   "metadata": {},
   "source": [
    "# Given an array of integers nums, return the number of good pairs.\n",
    "\n",
    "A pair (i, j) is called good if nums[i] == nums[j] and i < j.\n",
    "\n",
    " \n",
    " "
   ]
  },
  {
   "cell_type": "code",
   "execution_count": 2,
   "id": "675ccb3c",
   "metadata": {},
   "outputs": [
    {
     "ename": "TypeError",
     "evalue": "numIdenticalPairs() missing 1 required positional argument: 'nums'",
     "output_type": "error",
     "traceback": [
      "\u001b[1;31m---------------------------------------------------------------------------\u001b[0m",
      "\u001b[1;31mTypeError\u001b[0m                                 Traceback (most recent call last)",
      "Cell \u001b[1;32mIn[2], line 9\u001b[0m\n\u001b[0;32m      7\u001b[0m                 result\u001b[38;5;241m+\u001b[39m\u001b[38;5;241m=\u001b[39m\u001b[38;5;241m1\u001b[39m\n\u001b[0;32m      8\u001b[0m     \u001b[38;5;28;01mreturn\u001b[39;00m result\n\u001b[1;32m----> 9\u001b[0m \u001b[38;5;28mprint\u001b[39m(numIdenticalPairs([\u001b[38;5;241m1\u001b[39m,\u001b[38;5;241m1\u001b[39m,\u001b[38;5;241m1\u001b[39m,\u001b[38;5;241m1\u001b[39m]))\n",
      "\u001b[1;31mTypeError\u001b[0m: numIdenticalPairs() missing 1 required positional argument: 'nums'"
     ]
    }
   ],
   "source": [
    "def numIdenticalPairs(self,nums):\n",
    "    result=0\n",
    "    l=len(nums)\n",
    "    for i in range(l):\n",
    "        for j in range(1,l):\n",
    "            if nums[i] == nums[j] and i<j:\n",
    "                result+=1\n",
    "    return result\n",
    "print(numIdenticalPairs([1,1,1,1]))"
   ]
  },
  {
   "cell_type": "code",
   "execution_count": 6,
   "id": "089cd728",
   "metadata": {},
   "outputs": [
    {
     "name": "stdout",
     "output_type": "stream",
     "text": [
      "number of good pairs: 1\n"
     ]
    }
   ],
   "source": [
    "def count_good_pairs(nums):\n",
    "    count=0\n",
    "    n=len(nums)\n",
    "    for i in range(n):\n",
    "        for j in range(i+1,n):\n",
    "            if nums[i]==nums[j]:\n",
    "                count+=1\n",
    "                return count\n",
    "nums=['1','2','3','1','1','2','2']\n",
    "result= count_good_pairs(nums)\n",
    "print('number of good pairs:',result)\n"
   ]
  },
  {
   "cell_type": "code",
   "execution_count": 7,
   "id": "9ccd06eb",
   "metadata": {},
   "outputs": [
    {
     "data": {
      "text/plain": [
       "1"
      ]
     },
     "execution_count": 7,
     "metadata": {},
     "output_type": "execute_result"
    }
   ],
   "source": [
    "count_good_pairs(['1','2','3','1','1','2','2'])"
   ]
  },
  {
   "cell_type": "code",
   "execution_count": null,
   "id": "c8677338",
   "metadata": {},
   "outputs": [],
   "source": []
  },
  {
   "cell_type": "markdown",
   "id": "705d03e4",
   "metadata": {},
   "source": [
    "# Given an integer x, return true if x is a \n",
    "palindrome\n",
    ", and false otherwise.\n",
    "\n",
    " "
   ]
  },
  {
   "cell_type": "code",
   "execution_count": 14,
   "id": "a9164600",
   "metadata": {},
   "outputs": [],
   "source": [
    "def is_palindrome(x):\n",
    "        return str(x)==str(x)[::-1]\n",
    "            \n",
    "    "
   ]
  },
  {
   "cell_type": "code",
   "execution_count": 15,
   "id": "ab7677fd",
   "metadata": {},
   "outputs": [
    {
     "data": {
      "text/plain": [
       "True"
      ]
     },
     "execution_count": 15,
     "metadata": {},
     "output_type": "execute_result"
    }
   ],
   "source": [
    "is_palindrome('malayalam')"
   ]
  },
  {
   "cell_type": "code",
   "execution_count": 16,
   "id": "53de7fd3",
   "metadata": {},
   "outputs": [
    {
     "data": {
      "text/plain": [
       "True"
      ]
     },
     "execution_count": 16,
     "metadata": {},
     "output_type": "execute_result"
    }
   ],
   "source": [
    "is_palindrome(12321)"
   ]
  },
  {
   "cell_type": "code",
   "execution_count": 17,
   "id": "9c9f1724",
   "metadata": {},
   "outputs": [
    {
     "data": {
      "text/plain": [
       "False"
      ]
     },
     "execution_count": 17,
     "metadata": {},
     "output_type": "execute_result"
    }
   ],
   "source": [
    "is_palindrome(123)"
   ]
  },
  {
   "cell_type": "code",
   "execution_count": null,
   "id": "56e8fc73",
   "metadata": {},
   "outputs": [],
   "source": []
  }
 ],
 "metadata": {
  "kernelspec": {
   "display_name": "Python 3 (ipykernel)",
   "language": "python",
   "name": "python3"
  },
  "language_info": {
   "codemirror_mode": {
    "name": "ipython",
    "version": 3
   },
   "file_extension": ".py",
   "mimetype": "text/x-python",
   "name": "python",
   "nbconvert_exporter": "python",
   "pygments_lexer": "ipython3",
   "version": "3.11.5"
  }
 },
 "nbformat": 4,
 "nbformat_minor": 5
}
