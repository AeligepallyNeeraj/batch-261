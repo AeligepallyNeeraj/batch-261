{
 "cells": [
  {
   "cell_type": "code",
   "execution_count": 3,
   "id": "bcb571bf",
   "metadata": {},
   "outputs": [],
   "source": [
    "import numpy as np"
   ]
  },
  {
   "cell_type": "code",
   "execution_count": 4,
   "id": "60c090ca",
   "metadata": {},
   "outputs": [
    {
     "data": {
      "text/plain": [
       "array([[ 0., 25., 40.],\n",
       "       [ 1., 30., 35.],\n",
       "       [ 2., 28., 38.],\n",
       "       [ 3., 32., 41.],\n",
       "       [ 4., 26., 37.],\n",
       "       [ 5., 29., 36.],\n",
       "       [ 6., 27., 39.],\n",
       "       [ 7., 33., 42.],\n",
       "       [ 8., 31., 38.],\n",
       "       [ 9., 28., 37.],\n",
       "       [10., 30., 40.],\n",
       "       [11., 29., 36.]])"
      ]
     },
     "execution_count": 4,
     "metadata": {},
     "output_type": "execute_result"
    }
   ],
   "source": [
    "x=np.genfromtxt(r\"C:\\Users\\yuvin\\Downloads\\Sample_data.csv\", delimiter=',' , skip_header=1)\n",
    "x"
   ]
  },
  {
   "cell_type": "markdown",
   "id": "6391fc2f",
   "metadata": {},
   "source": [
    "# Measures of Central Tendency:\n",
    "### 1.Calculate the mean sales for Product A and Product B. Compare the average monthly sales for the two products and discuss any observed trends.\n"
   ]
  },
  {
   "cell_type": "code",
   "execution_count": 7,
   "id": "df67b763",
   "metadata": {},
   "outputs": [
    {
     "data": {
      "text/plain": [
       "array([25., 30., 28., 32., 26., 29., 27., 33., 31., 28., 30., 29.])"
      ]
     },
     "execution_count": 7,
     "metadata": {},
     "output_type": "execute_result"
    }
   ],
   "source": [
    "product_A=x[:,1]\n",
    "product_A"
   ]
  },
  {
   "cell_type": "code",
   "execution_count": 8,
   "id": "464cbe26",
   "metadata": {},
   "outputs": [
    {
     "data": {
      "text/plain": [
       "array([40., 35., 38., 41., 37., 36., 39., 42., 38., 37., 40., 36.])"
      ]
     },
     "execution_count": 8,
     "metadata": {},
     "output_type": "execute_result"
    }
   ],
   "source": [
    "product_B=x[:,2]\n",
    "product_B"
   ]
  },
  {
   "cell_type": "code",
   "execution_count": 9,
   "id": "24401f36",
   "metadata": {},
   "outputs": [
    {
     "data": {
      "text/plain": [
       "29.0"
      ]
     },
     "execution_count": 9,
     "metadata": {},
     "output_type": "execute_result"
    }
   ],
   "source": [
    "np.mean(product_A)"
   ]
  },
  {
   "cell_type": "code",
   "execution_count": 10,
   "id": "0526572e",
   "metadata": {},
   "outputs": [
    {
     "data": {
      "text/plain": [
       "38.25"
      ]
     },
     "execution_count": 10,
     "metadata": {},
     "output_type": "execute_result"
    }
   ],
   "source": [
    "np.mean(product_B)"
   ]
  },
  {
   "cell_type": "markdown",
   "id": "efe663b9",
   "metadata": {},
   "source": [
    "#### avereage monthly sales for Product A and Product B is 29.0 and 38.25\n",
    "*  avereage monthly sales for Product A is greater than ProductB\n",
    "* sales of B is better than that of A"
   ]
  },
  {
   "cell_type": "markdown",
   "id": "0aa72363",
   "metadata": {},
   "source": [
    "# 2.Find the median sales for each product and discuss how it reflects the central tendency of the sales distribution."
   ]
  },
  {
   "cell_type": "code",
   "execution_count": 11,
   "id": "53fef4c0",
   "metadata": {},
   "outputs": [
    {
     "data": {
      "text/plain": [
       "29.0"
      ]
     },
     "execution_count": 11,
     "metadata": {},
     "output_type": "execute_result"
    }
   ],
   "source": [
    "np.median(product_A)"
   ]
  },
  {
   "cell_type": "code",
   "execution_count": 12,
   "id": "d69284cd",
   "metadata": {},
   "outputs": [
    {
     "data": {
      "text/plain": [
       "38.0"
      ]
     },
     "execution_count": 12,
     "metadata": {},
     "output_type": "execute_result"
    }
   ],
   "source": [
    "np.median(product_B)"
   ]
  },
  {
   "cell_type": "markdown",
   "id": "8d6a604a",
   "metadata": {},
   "source": [
    "* The median value is almost close to the mode\n",
    "* The median of productA is 29.0\n",
    "* The median of productB is 38.0"
   ]
  },
  {
   "cell_type": "markdown",
   "id": "873342a9",
   "metadata": {},
   "source": [
    "# 3.Identify the mode of the sales data for both Product A and Product B. Discuss the significance of the mode in the context of these products."
   ]
  },
  {
   "cell_type": "code",
   "execution_count": 14,
   "id": "11a6a17e",
   "metadata": {},
   "outputs": [
    {
     "name": "stdout",
     "output_type": "stream",
     "text": [
      "Mode sale for productA is: 30.0\n",
      "Mode sale for productB is: 40.0\n"
     ]
    }
   ],
   "source": [
    "import statistics\n",
    "\n",
    "Product_A = x[:,1]\n",
    "Product_B = x[:,2]\n",
    "\n",
    "a = statistics.mode(Product_A)\n",
    "b = statistics.mode(Product_B)\n",
    "print('Mode sale for productA is:',a)\n",
    "print('Mode sale for productB is:',b)\n"
   ]
  },
  {
   "cell_type": "markdown",
   "id": "6ab74814",
   "metadata": {},
   "source": [
    "* The mode represnets the most occuring values\n",
    "* The mode for productA is 30.0\n",
    "* The mode for productB is 40.0\n",
    "* The prouctA used to sell most times the 30.0 sales whereas productB used to sell 40.0 products in a month "
   ]
  },
  {
   "cell_type": "markdown",
   "id": "cb7d0bce",
   "metadata": {},
   "source": [
    "# 4.Calculate the weighted mean of the sales data, assuming each month has an equal weight. Discuss any implications of using weighted mean in this context.\n"
   ]
  },
  {
   "cell_type": "code",
   "execution_count": 15,
   "id": "33e786c0",
   "metadata": {},
   "outputs": [
    {
     "name": "stdout",
     "output_type": "stream",
     "text": [
      "Weighted mean of the sales data of Product A : 29.0\n",
      "Weighted mean of the sales data of Product B : 38.25\n"
     ]
    }
   ],
   "source": [
    "Product_A = x[:,1]\n",
    "Product_B = x[:,2]\n",
    "\n",
    "weight=np.ones(12)\n",
    "\n",
    "weighted_A = weight * Product_A\n",
    "a = np.mean(weighted_A)\n",
    "\n",
    "weighted_B = weight * Product_B\n",
    "b = np.mean(weighted_B)\n",
    "\n",
    "print('Weighted mean of the sales data of Product A :', a)\n",
    "print('Weighted mean of the sales data of Product B :', b)"
   ]
  },
  {
   "cell_type": "markdown",
   "id": "85eb558a",
   "metadata": {},
   "source": [
    "* We get the weighted mean of productA is the median of productA\n",
    "* The mean of ProductB is same as the weighted mean of product B"
   ]
  },
  {
   "cell_type": "markdown",
   "id": "381bcebc",
   "metadata": {},
   "source": [
    "# Measures of Dispersion:\n",
    "# 1.Compute the range of monthly sales for both Product A and Product B. Discuss how the range provides insights into the variability of sales.\n"
   ]
  },
  {
   "cell_type": "code",
   "execution_count": 20,
   "id": "6fa14ea4",
   "metadata": {},
   "outputs": [
    {
     "data": {
      "text/plain": [
       "33.0"
      ]
     },
     "execution_count": 20,
     "metadata": {},
     "output_type": "execute_result"
    }
   ],
   "source": [
    "max_product_A=np.max(x[:,1])\n",
    "max_product_A"
   ]
  },
  {
   "cell_type": "code",
   "execution_count": 21,
   "id": "e00bae05",
   "metadata": {},
   "outputs": [
    {
     "data": {
      "text/plain": [
       "25.0"
      ]
     },
     "execution_count": 21,
     "metadata": {},
     "output_type": "execute_result"
    }
   ],
   "source": [
    "min_product_A=np.min(x[:,1])\n",
    "min_product_A"
   ]
  },
  {
   "cell_type": "code",
   "execution_count": 31,
   "id": "e43e3bfe",
   "metadata": {},
   "outputs": [
    {
     "data": {
      "text/plain": [
       "42.0"
      ]
     },
     "execution_count": 31,
     "metadata": {},
     "output_type": "execute_result"
    }
   ],
   "source": [
    "max_product_B=np.max(x[:,2])\n",
    "max_product_B"
   ]
  },
  {
   "cell_type": "code",
   "execution_count": 32,
   "id": "d4a3da46",
   "metadata": {},
   "outputs": [
    {
     "data": {
      "text/plain": [
       "35.0"
      ]
     },
     "execution_count": 32,
     "metadata": {},
     "output_type": "execute_result"
    }
   ],
   "source": [
    "min_product_B=np.min(x[:,2])\n",
    "min_product_B"
   ]
  },
  {
   "cell_type": "code",
   "execution_count": 35,
   "id": "0cc04cda",
   "metadata": {},
   "outputs": [
    {
     "name": "stdout",
     "output_type": "stream",
     "text": [
      "The range for productA is: 8.0\n"
     ]
    }
   ],
   "source": [
    "range_A=max_product_A-min_product_A\n",
    "print('The range for productA is:',range_A)"
   ]
  },
  {
   "cell_type": "code",
   "execution_count": 36,
   "id": "ffb93955",
   "metadata": {},
   "outputs": [
    {
     "name": "stdout",
     "output_type": "stream",
     "text": [
      "The range for productA is: 7.0\n"
     ]
    }
   ],
   "source": [
    "range_B=max_product_B-min_product_B\n",
    "print('The range for productA is:',range_B)"
   ]
  },
  {
   "cell_type": "markdown",
   "id": "dcd42fb3",
   "metadata": {},
   "source": [
    "# 2.Calculate the variance of the sales data for both products. Discuss what the variance reveals about the spread of sales for each product.\n"
   ]
  },
  {
   "cell_type": "code",
   "execution_count": 37,
   "id": "dd81dc98",
   "metadata": {},
   "outputs": [
    {
     "name": "stdout",
     "output_type": "stream",
     "text": [
      "Variance of Sales for Product A: 5.166666666666667\n",
      "Variance of Sales for Product B: 4.354166666666667\n"
     ]
    }
   ],
   "source": [
    "Product_A = x[:,1]\n",
    "Product_B = x[:,2]\n",
    "\n",
    "\n",
    "a = np.mean(Product_A)\n",
    "variance_product_a = np.sum((Product_A - a)**2) / len(Product_A)\n",
    "\n",
    "b = np.mean(Product_B)\n",
    "variance_product_b = np.sum((Product_B - b)**2) / len(Product_B)\n",
    "\n",
    "print(\"Variance of Sales for Product A:\", variance_product_a)\n",
    "print(\"Variance of Sales for Product B:\", variance_product_b)"
   ]
  },
  {
   "cell_type": "markdown",
   "id": "2f303be1",
   "metadata": {},
   "source": [
    "* The variance of a is greater than that of b\n",
    "* The distance from the mean for a is greater ,It says that the product a has the least frequency so the sales of a is lesser than b"
   ]
  },
  {
   "cell_type": "markdown",
   "id": "45cd6418",
   "metadata": {},
   "source": [
    "# 3.Determine the standard deviation of the sales for Product A and Product B. Discuss the significance of standard deviation in understanding the variability in sales.\n",
    "\n"
   ]
  },
  {
   "cell_type": "code",
   "execution_count": 38,
   "id": "d146c42e",
   "metadata": {},
   "outputs": [
    {
     "name": "stdout",
     "output_type": "stream",
     "text": [
      "2.273030282830976\n",
      "2.0866640042581523\n"
     ]
    }
   ],
   "source": [
    "Product_A = x[:,1]\n",
    "Product_B = x[:,2]\n",
    "\n",
    "a = np.mean(Product_A)\n",
    "standard_deviation_product_a = np.sqrt(np.sum((Product_A - a)**2) / len(Product_A))# The squareroot is trmed as sqrt\n",
    "\n",
    "b = np.mean(Product_B)\n",
    "standard_deviation_product_b = np.sqrt(np.sum((Product_B - b)**2) / (len(Product_B)))\n",
    "\n",
    "print( standard_deviation_product_a)\n",
    "print( standard_deviation_product_b)"
   ]
  },
  {
   "cell_type": "markdown",
   "id": "90797b15",
   "metadata": {},
   "source": [
    "#  Relative Measures of Dispersion:\n",
    "## 1.Calculate the coefficient of variation for the sales data of Product A. Discuss how this relative measure of dispersion helps in comparing the variability of products with different average sales.\n"
   ]
  },
  {
   "cell_type": "code",
   "execution_count": 39,
   "id": "30759cc8",
   "metadata": {},
   "outputs": [
    {
     "name": "stdout",
     "output_type": "stream",
     "text": [
      "Coefficient of variation for the sales data of Product A : 7.838035458037848\n"
     ]
    }
   ],
   "source": [
    "\n",
    "Product_A = x[:,1]\n",
    "\n",
    "a = np.mean(Product_A)\n",
    "\n",
    "Std = np.std(Product_A)\n",
    "\n",
    "coeff=(Std/a)*100\n",
    "\n",
    "print('Coefficient of variation for the sales data of Product A :',coeff)"
   ]
  },
  {
   "cell_type": "markdown",
   "id": "df90aa56",
   "metadata": {},
   "source": [
    "# 2. Compute the relative range for Product B. Discuss how the relative range accounts for the scale of the sales data."
   ]
  },
  {
   "cell_type": "code",
   "execution_count": 40,
   "id": "9375ef8a",
   "metadata": {},
   "outputs": [
    {
     "name": "stdout",
     "output_type": "stream",
     "text": [
      "The relative range of B: 18.30065359477124\n"
     ]
    }
   ],
   "source": [
    "Product_B = x[:,2]\n",
    "\n",
    "B = np.max(Product_B) - np.min(Product_B)\n",
    "\n",
    "b = np.mean(Product_B)\n",
    "\n",
    "relative_range_B = (B/b)*100\n",
    "\n",
    "print('The relative range of B:',relative_range_B)"
   ]
  },
  {
   "cell_type": "markdown",
   "id": "9d8656a0",
   "metadata": {},
   "source": [
    "* The relative range is inversly  proportional to the mean of sales"
   ]
  },
  {
   "cell_type": "markdown",
   "id": "513f8598",
   "metadata": {},
   "source": [
    "# 3. Determine the relative standard deviation for Product A. Interpret the result and discuss its implications for understanding the variability relative to the mean."
   ]
  },
  {
   "cell_type": "code",
   "execution_count": 41,
   "id": "7132be50",
   "metadata": {},
   "outputs": [
    {
     "name": "stdout",
     "output_type": "stream",
     "text": [
      "relative standard deviation for Product A : 7.838035458037848\n"
     ]
    }
   ],
   "source": [
    "Product_A = x[:,1]\n",
    "\n",
    "a = np.mean(Product_A)\n",
    "\n",
    "Std = np.std(Product_A)\n",
    "\n",
    "rel_std = (Std / a)*100\n",
    "\n",
    "print('relative standard deviation for Product A :',rel_std)"
   ]
  },
  {
   "cell_type": "code",
   "execution_count": null,
   "id": "f1e0a641",
   "metadata": {},
   "outputs": [],
   "source": []
  }
 ],
 "metadata": {
  "kernelspec": {
   "display_name": "Python 3 (ipykernel)",
   "language": "python",
   "name": "python3"
  },
  "language_info": {
   "codemirror_mode": {
    "name": "ipython",
    "version": 3
   },
   "file_extension": ".py",
   "mimetype": "text/x-python",
   "name": "python",
   "nbconvert_exporter": "python",
   "pygments_lexer": "ipython3",
   "version": "3.11.5"
  }
 },
 "nbformat": 4,
 "nbformat_minor": 5
}
