{
 "cells": [
  {
   "cell_type": "markdown",
   "id": "f7b9f69e",
   "metadata": {},
   "source": [
    "# Dictionary\n",
    "* It is key and value pairs\n",
    "* It is mutable\n",
    "* It is unordered\n",
    "* Immutable values are used as keys \n",
    "* values can be mutable,immutable also\n",
    "* It is denoted as {:}\n"
   ]
  },
  {
   "cell_type": "markdown",
   "id": "769df5d0",
   "metadata": {},
   "source": [
    "## Creating of a dictionary\n",
    "* Dictionary is created by using a key and value \n",
    "* These key and values are separated by colon( : )\n"
   ]
  },
  {
   "cell_type": "code",
   "execution_count": 5,
   "id": "c4bd8545",
   "metadata": {},
   "outputs": [
    {
     "data": {
      "text/plain": [
       "{'k1': 1, 'k2': 2, 'k3': 3}"
      ]
     },
     "execution_count": 5,
     "metadata": {},
     "output_type": "execute_result"
    }
   ],
   "source": [
    "x={'k1':1,\n",
    "    'k2':2,\n",
    "     'k3':3}\n",
    "x"
   ]
  },
  {
   "cell_type": "markdown",
   "id": "fd8d087f",
   "metadata": {},
   "source": [
    "## Accesing items \n",
    "* To access any value we need to assign a key in the input\n"
   ]
  },
  {
   "cell_type": "code",
   "execution_count": 9,
   "id": "94a7413e",
   "metadata": {},
   "outputs": [
    {
     "name": "stdout",
     "output_type": "stream",
     "text": [
      "2\n"
     ]
    }
   ],
   "source": [
    "x={'k1':1,\n",
    "    'k2':2,\n",
    "     'k3':3}\n",
    "print(x['k2'])# accessing the values by using keys\n"
   ]
  },
  {
   "cell_type": "code",
   "execution_count": 10,
   "id": "e44e0043",
   "metadata": {},
   "outputs": [
    {
     "name": "stdout",
     "output_type": "stream",
     "text": [
      "(25, 35, 45)\n",
      "35\n",
      "prani\n",
      "i\n"
     ]
    }
   ],
   "source": [
    "x = {2:[11,2.3,44],\n",
    "    'hi':(25,35,45),\n",
    "    ('a','b'):5,\n",
    "    'name':'prani'}\n",
    "\n",
    "print(x['hi'])\n",
    "print(x['hi'][1])\n",
    "print(x['name'])\n",
    "print(x['name'][4])"
   ]
  },
  {
   "cell_type": "markdown",
   "id": "05037fea",
   "metadata": {},
   "source": [
    "## creating an empty dictionary\n",
    "* we can create an empty dictionary in two ways\n",
    "* by using { : ),and using dict_type() "
   ]
  },
  {
   "cell_type": "code",
   "execution_count": 12,
   "id": "0b3d9cf8",
   "metadata": {},
   "outputs": [
    {
     "data": {
      "text/plain": [
       "{}"
      ]
     },
     "execution_count": 12,
     "metadata": {},
     "output_type": "execute_result"
    }
   ],
   "source": [
    "x=dict()\n",
    "x"
   ]
  },
  {
   "cell_type": "code",
   "execution_count": 13,
   "id": "97ced068",
   "metadata": {},
   "outputs": [
    {
     "data": {
      "text/plain": [
       "0"
      ]
     },
     "execution_count": 13,
     "metadata": {},
     "output_type": "execute_result"
    }
   ],
   "source": [
    "len(x)# This is an empty dictionary"
   ]
  },
  {
   "cell_type": "markdown",
   "id": "af15e297",
   "metadata": {},
   "source": [
    "## nested dictionary\n",
    "* The dictionary inside a dictionary is known as a nested dictionary\n",
    "* the syntax is`{key1:{key2:{key3:4}`"
   ]
  },
  {
   "cell_type": "code",
   "execution_count": 16,
   "id": "09d700e2",
   "metadata": {},
   "outputs": [
    {
     "data": {
      "text/plain": [
       "{'oil': {'5': {'neeraj': 'prani'}}}"
      ]
     },
     "execution_count": 16,
     "metadata": {},
     "output_type": "execute_result"
    }
   ],
   "source": [
    "x={'oil':{'5':{'neeraj':'prani'}}}\n",
    "x\n"
   ]
  },
  {
   "cell_type": "markdown",
   "id": "0ca852e3",
   "metadata": {},
   "source": [
    "## length of a dictionary\n",
    "* The number of elements is present in a dictionary\n",
    "* The syntax is `len(variable)`"
   ]
  },
  {
   "cell_type": "code",
   "execution_count": 23,
   "id": "2754e188",
   "metadata": {},
   "outputs": [
    {
     "data": {
      "text/plain": [
       "1"
      ]
     },
     "execution_count": 23,
     "metadata": {},
     "output_type": "execute_result"
    }
   ],
   "source": [
    "x={'oil':{'5':{'neeraj':'prani'}}}\n",
    "x\n",
    "len(x)"
   ]
  },
  {
   "cell_type": "markdown",
   "id": "d810020a",
   "metadata": {},
   "source": [
    "# methods in a dictionary"
   ]
  },
  {
   "cell_type": "code",
   "execution_count": 18,
   "id": "884da4c8",
   "metadata": {},
   "outputs": [
    {
     "data": {
      "text/plain": [
       "['__class__',\n",
       " '__class_getitem__',\n",
       " '__contains__',\n",
       " '__delattr__',\n",
       " '__delitem__',\n",
       " '__dir__',\n",
       " '__doc__',\n",
       " '__eq__',\n",
       " '__format__',\n",
       " '__ge__',\n",
       " '__getattribute__',\n",
       " '__getitem__',\n",
       " '__getstate__',\n",
       " '__gt__',\n",
       " '__hash__',\n",
       " '__init__',\n",
       " '__init_subclass__',\n",
       " '__ior__',\n",
       " '__iter__',\n",
       " '__le__',\n",
       " '__len__',\n",
       " '__lt__',\n",
       " '__ne__',\n",
       " '__new__',\n",
       " '__or__',\n",
       " '__reduce__',\n",
       " '__reduce_ex__',\n",
       " '__repr__',\n",
       " '__reversed__',\n",
       " '__ror__',\n",
       " '__setattr__',\n",
       " '__setitem__',\n",
       " '__sizeof__',\n",
       " '__str__',\n",
       " '__subclasshook__',\n",
       " 'clear',\n",
       " 'copy',\n",
       " 'fromkeys',\n",
       " 'get',\n",
       " 'items',\n",
       " 'keys',\n",
       " 'pop',\n",
       " 'popitem',\n",
       " 'setdefault',\n",
       " 'update',\n",
       " 'values']"
      ]
     },
     "execution_count": 18,
     "metadata": {},
     "output_type": "execute_result"
    }
   ],
   "source": [
    "dir(dict)"
   ]
  },
  {
   "cell_type": "markdown",
   "id": "5964cea9",
   "metadata": {},
   "source": [
    "## clear() \n",
    "* This method removes all the elements from a dictionary\n",
    "* The syntax is `dict.clear()`"
   ]
  },
  {
   "cell_type": "code",
   "execution_count": 21,
   "id": "1921f125",
   "metadata": {},
   "outputs": [
    {
     "name": "stdout",
     "output_type": "stream",
     "text": [
      "None\n"
     ]
    }
   ],
   "source": [
    "x = {2:[11,2.3,44],\n",
    "    'hi':(25,35,45),\n",
    "    ('a','b'):5,\n",
    "    'name':'prani'}\n",
    "print(x.clear())"
   ]
  },
  {
   "cell_type": "markdown",
   "id": "bd8b0dce",
   "metadata": {},
   "source": [
    "### copy()\n",
    "* This copy the same dictionary anf forms another string\n",
    "* The syntax is `variable.copy()`"
   ]
  },
  {
   "cell_type": "code",
   "execution_count": 22,
   "id": "75eca321",
   "metadata": {},
   "outputs": [
    {
     "name": "stdout",
     "output_type": "stream",
     "text": [
      "{'brand': 'Ford', 'model': 'Mustang', 'year': 1964}\n"
     ]
    }
   ],
   "source": [
    "firstdict = {\n",
    "  \"brand\": \"Ford\",\n",
    "  \"model\": \"Mustang\",\n",
    "  \"year\": 1964\n",
    "}\n",
    "mydict = firstdict.copy()\n",
    "print(mydict)"
   ]
  },
  {
   "cell_type": "markdown",
   "id": "f5bb4205",
   "metadata": {},
   "source": [
    "### get()\n",
    "* This method returns the value with the specified key\n",
    "* The syntax is `variable.get()`"
   ]
  },
  {
   "cell_type": "code",
   "execution_count": 25,
   "id": "ba160bfa",
   "metadata": {},
   "outputs": [
    {
     "data": {
      "text/plain": [
       "1964"
      ]
     },
     "execution_count": 25,
     "metadata": {},
     "output_type": "execute_result"
    }
   ],
   "source": [
    "x = {\n",
    "  \"brand\": \"Ford\",\n",
    "  \"model\": \"Mustang\",\n",
    "  \"year\": 1964\n",
    "}\n",
    "x.get('year')# using the key to get the value"
   ]
  },
  {
   "cell_type": "markdown",
   "id": "ed079a14",
   "metadata": {},
   "source": [
    "### update()\n",
    "* Python Dictionary update() method updates the dictionary with the elements from another dictionary object or from an iterable of key/value pairs.\n",
    "* The syntax is `variable.update(key:value)`"
   ]
  },
  {
   "cell_type": "code",
   "execution_count": 31,
   "id": "25f33988",
   "metadata": {},
   "outputs": [
    {
     "data": {
      "text/plain": [
       "{'A': 'Geeks', 'B': 'Geeks'}"
      ]
     },
     "execution_count": 31,
     "metadata": {},
     "output_type": "execute_result"
    }
   ],
   "source": [
    "Dictionary1 = {'A': 'Geeks', 'B': 'For', }\n",
    "Dictionary1.update({'B': 'Geeks'})\n",
    "Dictionary1\n"
   ]
  },
  {
   "cell_type": "markdown",
   "id": "25b0b045",
   "metadata": {},
   "source": [
    "### keys()\n",
    "* This method returns all the keys present in a dictionary\n",
    "* the syntax is `variable.keys()`"
   ]
  },
  {
   "cell_type": "code",
   "execution_count": 32,
   "id": "84aecfb7",
   "metadata": {},
   "outputs": [
    {
     "data": {
      "text/plain": [
       "dict_keys(['brand', 'electric', 'year', 'colors'])"
      ]
     },
     "execution_count": 32,
     "metadata": {},
     "output_type": "execute_result"
    }
   ],
   "source": [
    "x={\"brand\": \"Ford\",\n",
    "  \"electric\": False,\n",
    "  \"year\": 1964,\n",
    "  \"colors\": [\"red\", \"white\", \"blue\"]\n",
    "}\n",
    "x.keys()"
   ]
  },
  {
   "cell_type": "markdown",
   "id": "936ced87",
   "metadata": {},
   "source": [
    "### values()\n",
    "* This method returns the object of all the values in a dictionary\n",
    "* The syntax is `variable.values()`"
   ]
  },
  {
   "cell_type": "code",
   "execution_count": 33,
   "id": "1c2f8854",
   "metadata": {},
   "outputs": [
    {
     "data": {
      "text/plain": [
       "dict_values(['Ford', False, 1964, ['red', 'white', 'blue']])"
      ]
     },
     "execution_count": 33,
     "metadata": {},
     "output_type": "execute_result"
    }
   ],
   "source": [
    "x={\"brand\": \"Ford\",\n",
    "  \"electric\": False,\n",
    "  \"year\": 1964,\n",
    "  \"colors\": [\"red\", \"white\", \"blue\"]# This gives the values in a dictionary\n",
    "}\n",
    "x.values()"
   ]
  },
  {
   "cell_type": "markdown",
   "id": "51360445",
   "metadata": {},
   "source": [
    "### items()\n",
    "* This returns the key and value pairs\n",
    "* The syntax is `variable.item()`"
   ]
  },
  {
   "cell_type": "code",
   "execution_count": 36,
   "id": "38c6549f",
   "metadata": {},
   "outputs": [
    {
     "data": {
      "text/plain": [
       "dict_items([('brand', 'Ford'), ('electric', False), ('year', 1964), ('colors', ['red', 'white', 'blue'])])"
      ]
     },
     "execution_count": 36,
     "metadata": {},
     "output_type": "execute_result"
    }
   ],
   "source": [
    "x={\"brand\": \"Ford\",\n",
    "  \"electric\": False,\n",
    "  \"year\": 1964,\n",
    "  \"colors\": [\"red\", \"white\", \"blue\"]# The key and value pairs\n",
    "}\n",
    "x.items()"
   ]
  },
  {
   "cell_type": "markdown",
   "id": "c2ce8455",
   "metadata": {},
   "source": [
    "### fromkeys()\n",
    "* This takes the keys from one dictionary and assign the value to thse keys\n",
    "* The syntax is `variable.fromkeys()`"
   ]
  },
  {
   "cell_type": "code",
   "execution_count": 38,
   "id": "08a61214",
   "metadata": {},
   "outputs": [
    {
     "data": {
      "text/plain": [
       "{'6': None}"
      ]
     },
     "execution_count": 38,
     "metadata": {},
     "output_type": "execute_result"
    }
   ],
   "source": [
    "x={\"brand\": \"Ford\",\n",
    "  \"electric\": False,\n",
    "  \"year\": 1964,\n",
    "  \"colors\": [\"red\", \"white\", \"blue\"]# The key and value pairs\n",
    "}\n",
    "x.fromkeys('6')"
   ]
  },
  {
   "cell_type": "code",
   "execution_count": 45,
   "id": "f271fae9",
   "metadata": {},
   "outputs": [
    {
     "data": {
      "text/plain": [
       "{'colors': 5, 'brand': 5, 'electric': 5, 'year': 5}"
      ]
     },
     "execution_count": 45,
     "metadata": {},
     "output_type": "execute_result"
    }
   ],
   "source": [
    "x={\"brand\",\n",
    "  \"electric\",\n",
    "  \"year\",\n",
    "  \"colors\"# The key and value pairs\n",
    "}\n",
    "y=5\n",
    "z=dict.fromkeys(x,y)\n",
    "z"
   ]
  },
  {
   "cell_type": "markdown",
   "id": "d84b12f4",
   "metadata": {},
   "source": [
    "x = ('key1', 'key2', 'key3')\n",
    "y = 0\n",
    "\n",
    "thisdict = dict.fromkeys(x, y)\n",
    "\n",
    "9\n",
    "print(thisdict)\n"
   ]
  },
  {
   "cell_type": "markdown",
   "id": "6e7f6fa8",
   "metadata": {},
   "source": [
    "### pop()\n",
    "* This removes the item from a dictionary\n",
    "* The syntax is `variable.pop()`"
   ]
  },
  {
   "cell_type": "code",
   "execution_count": 49,
   "id": "a05023f4",
   "metadata": {},
   "outputs": [
    {
     "data": {
      "text/plain": [
       "1964"
      ]
     },
     "execution_count": 49,
     "metadata": {},
     "output_type": "execute_result"
    }
   ],
   "source": [
    "x={\"brand\": \"Ford\",\n",
    "  \"electric\": False,\n",
    "  \"year\": 1964,\n",
    "  \"colors\": [\"red\", \"white\", \"blue\"]# The key and value pairs\n",
    "}\n",
    "x.pop(\"year\")\n"
   ]
  },
  {
   "cell_type": "code",
   "execution_count": 51,
   "id": "da6bacd3",
   "metadata": {},
   "outputs": [
    {
     "data": {
      "text/plain": [
       "{'brand': 'Ford', 'electric': False}"
      ]
     },
     "execution_count": 51,
     "metadata": {},
     "output_type": "execute_result"
    }
   ],
   "source": [
    "x.pop(\"colors\")\n",
    "x"
   ]
  },
  {
   "cell_type": "markdown",
   "id": "211b0ff2",
   "metadata": {},
   "source": [
    "### popitem()\n",
    "* This pops the last item from a dictionary\n",
    "* The syntax is`variable.popitem()`"
   ]
  },
  {
   "cell_type": "code",
   "execution_count": 52,
   "id": "30f298fa",
   "metadata": {},
   "outputs": [
    {
     "data": {
      "text/plain": [
       "{'brand': 'Ford', 'electric': False, 'year': 1964}"
      ]
     },
     "execution_count": 52,
     "metadata": {},
     "output_type": "execute_result"
    }
   ],
   "source": [
    "x={\"brand\": \"Ford\",\n",
    "  \"electric\": False,\n",
    "  \"year\": 1964,\n",
    "  \"colors\": [\"red\", \"white\", \"blue\"]# The key and value pairs\n",
    "}\n",
    "x.popitem()\n",
    "x"
   ]
  },
  {
   "cell_type": "markdown",
   "id": "4c2c31bc",
   "metadata": {},
   "source": [
    "# Today's mandatory task\n",
    "* makeTrans and translate methods in a string"
   ]
  },
  {
   "cell_type": "markdown",
   "id": "07eb58f9",
   "metadata": {},
   "source": [
    "### maketrans()\n",
    "* This method is used to replace a character with an another specified character\n",
    "* The syntax is `variable.maketrans('',\"\")`"
   ]
  },
  {
   "cell_type": "code",
   "execution_count": null,
   "id": "6b2eaa3f",
   "metadata": {},
   "outputs": [],
   "source": [
    "x=('hello ramante vachesindha cheli ni paina e prema')\n",
    "y=x.maketrans('e','i')\n",
    "\n"
   ]
  },
  {
   "cell_type": "markdown",
   "id": "56f16882",
   "metadata": {},
   "source": [
    "### translate()\n",
    "* This method translate the maketrans method.It replaces the new chacters in a string\n",
    "* The syntax is`variable.translate()`"
   ]
  },
  {
   "cell_type": "code",
   "execution_count": 57,
   "id": "f7a8726e",
   "metadata": {},
   "outputs": [
    {
     "data": {
      "text/plain": [
       "'hillo ramanti vachisindha chili ni paina i prima'"
      ]
     },
     "execution_count": 57,
     "metadata": {},
     "output_type": "execute_result"
    }
   ],
   "source": [
    "x=('hello ramante vachesindha cheli ni paina e prema')\n",
    "y=x.maketrans('e','i')\n",
    "x.translate(y )"
   ]
  },
  {
   "cell_type": "markdown",
   "id": "ab60a21e",
   "metadata": {},
   "source": [
    "# setdefalut()\n",
    "* This method returns the value of the item from which the key is specified \n",
    "* The syntax is`variable.setdefault()`"
   ]
  },
  {
   "cell_type": "code",
   "execution_count": 58,
   "id": "9e0d7215",
   "metadata": {},
   "outputs": [
    {
     "data": {
      "text/plain": [
       "False"
      ]
     },
     "execution_count": 58,
     "metadata": {},
     "output_type": "execute_result"
    }
   ],
   "source": [
    "x={\"brand\": \"Ford\",\n",
    "  \"electric\": False,\n",
    "  \"year\": 1964,\n",
    "  \"colors\": [\"red\", \"white\", \"blue\"]# The key and value pairs\n",
    "}\n",
    "x.setdefault(\"electric\")"
   ]
  },
  {
   "cell_type": "code",
   "execution_count": 60,
   "id": "7e191a39",
   "metadata": {},
   "outputs": [
    {
     "data": {
      "text/plain": [
       "['red', 'white', 'blue']"
      ]
     },
     "execution_count": 60,
     "metadata": {},
     "output_type": "execute_result"
    }
   ],
   "source": [
    "x.setdefault(\"colors\")"
   ]
  },
  {
   "cell_type": "markdown",
   "id": "b224f989",
   "metadata": {},
   "source": []
  },
  {
   "cell_type": "code",
   "execution_count": null,
   "id": "a15e220b",
   "metadata": {},
   "outputs": [],
   "source": []
  },
  {
   "cell_type": "code",
   "execution_count": null,
   "id": "5297bc47",
   "metadata": {},
   "outputs": [],
   "source": []
  }
 ],
 "metadata": {
  "kernelspec": {
   "display_name": "Python 3 (ipykernel)",
   "language": "python",
   "name": "python3"
  },
  "language_info": {
   "codemirror_mode": {
    "name": "ipython",
    "version": 3
   },
   "file_extension": ".py",
   "mimetype": "text/x-python",
   "name": "python",
   "nbconvert_exporter": "python",
   "pygments_lexer": "ipython3",
   "version": "3.11.5"
  }
 },
 "nbformat": 4,
 "nbformat_minor": 5
}
