{
 "cells": [
  {
   "cell_type": "markdown",
   "id": "0b6aec2b",
   "metadata": {},
   "source": [
    "# 1.Write a Python program that asks the user for their age and prints \"You are an adult\" if the age is 18 or older, otherwise prints \"You are a minor'.\n"
   ]
  },
  {
   "cell_type": "code",
   "execution_count": 3,
   "id": "7ba58eb2",
   "metadata": {},
   "outputs": [
    {
     "name": "stdout",
     "output_type": "stream",
     "text": [
      "enter a number:78\n",
      "you are an adult\n"
     ]
    }
   ],
   "source": [
    "age=int(input('enter a number:'))#we define the variable\n",
    "if age in range(18,101):\n",
    "    print('you are an adult')#if the age is from 18-100.we use range beccause in these days a person cannot alive more than 100 years\n",
    "else:\n",
    "    print('you are a minor')#if the age is below 18"
   ]
  },
  {
   "cell_type": "markdown",
   "id": "fa224d0a",
   "metadata": {},
   "source": [
    "# 2.Write a program that takes a numerical grade (out of 100) as input and prints the corresponding letter grade according to the following scale:\n",
    " 90-100: A\n",
    " 80-89: B\n",
    " 70-79: C\n",
    " 60-69: D\n",
    " Below 60: F\n"
   ]
  },
  {
   "cell_type": "code",
   "execution_count": 9,
   "id": "0814071b",
   "metadata": {},
   "outputs": [
    {
     "name": "stdout",
     "output_type": "stream",
     "text": [
      "enter a marks:90\n",
      "Grade A\n"
     ]
    }
   ],
   "source": [
    "marks=int(input('enter a marks:'))#we assign a variable\n",
    "if marks in range(90,101):\n",
    "    print('Grade A')#if the marks are from 90-100 then it prints Grade A\n",
    "elif marks in range(80,90):\n",
    "    print('Grade B')#if the marks are from 80-90 then it prints Grade B\n",
    "elif marks in range(70,80):\n",
    "    print('Grade c')#if the marks are from 70-80 then it prints Grade C\n",
    "elif marks in range(60,70):\n",
    "    print('Grade D')#if the marks are from 60-70 then it prints Grade D\n",
    "else:\n",
    "    print('Grade F')#if the marks are below 60"
   ]
  },
  {
   "cell_type": "markdown",
   "id": "47ec02c0",
   "metadata": {},
   "source": [
    "# 3.Write a program that calculates the Body Mass Index (BMI) of a person. The user should input their weight in kilograms and height in meters. The program should then print whether the person is underweight, normal weight, overweight, or obese"
   ]
  },
  {
   "cell_type": "code",
   "execution_count": 12,
   "id": "1db44c3b",
   "metadata": {},
   "outputs": [
    {
     "name": "stdout",
     "output_type": "stream",
     "text": [
      "enter the weight in kilograms:80\n",
      "enter the height in meters:168\n",
      "obese\n"
     ]
    }
   ],
   "source": [
    "w=float(input('enter the weight in kilograms:'))#w is taken as a vaiable for weight\n",
    "h=float(input('enter the height in meters:'))# h is taken as a variable for height\n",
    "BMI=w/h*2\n",
    "if BMI>18.5:\n",
    "    print('under weight')# if the bmi is below 18.5\n",
    "elif 18.5<BMI<24.9:\n",
    "    print('normal weight')# if the bmi is from 18.5 to 24.9\n",
    "elif 25<BMI<29.9:\n",
    "    print('over weight')# if the bmi is from 24.9 to 29.9\n",
    "else:\n",
    "    print('obese')# if the bmi is above 30\n",
    "        "
   ]
  },
  {
   "cell_type": "markdown",
   "id": "8ae7b583",
   "metadata": {},
   "source": [
    "# 4.Write a program that asks the user for three numbers and prints the maximum of the three.\n"
   ]
  },
  {
   "cell_type": "code",
   "execution_count": 14,
   "id": "b6ed5fe7",
   "metadata": {},
   "outputs": [
    {
     "name": "stdout",
     "output_type": "stream",
     "text": [
      "enter a numeric value:4\n",
      "enter a integer value:5\n",
      "enter a numerical value:6\n",
      "third number is max\n"
     ]
    }
   ],
   "source": [
    "num1=int(input('enter a numeric value:'))#num1 is variable\n",
    "num2=int(input('enter a integer value:'))# num2 is a variable\n",
    "num3=int(input('enter a numerical value:'))# num3 is a variable\n",
    "max(num1,num2,num3)# this gives the maximum of three numbers\n",
    "if num2<num1>num3:\n",
    "    print('first number  is max')# num1 is max\n",
    "elif num1<num2>num3:\n",
    "    print('second number is max')# num2 is max\n",
    "elif num1<num3>num2:\n",
    "    print('third number is max')#num3 is max\n",
    "elif num1==num2==num3:\n",
    "    print('tie')# if the three numbers are equal\n",
    "else:\n",
    "    print('error')"
   ]
  },
  {
   "cell_type": "markdown",
   "id": "c3c392e0",
   "metadata": {},
   "source": [
    "# 5.Write a program that asks the user for a temperature (in Celsius) and prints \"It's freezing\" if the temperature is below 0, \"It's cool\" if it's between 0 and 10, \"It's warm\" if it's between 10 and 20, and \"It's hot\" if it's above 20\n"
   ]
  },
  {
   "cell_type": "code",
   "execution_count": 15,
   "id": "65b32c7f",
   "metadata": {},
   "outputs": [
    {
     "name": "stdout",
     "output_type": "stream",
     "text": [
      "enter the temperature in celsius32\n",
      "its hot\n"
     ]
    }
   ],
   "source": [
    "temp=int(input('enter the temperature in celsius'))# we assign temp as a variable\n",
    "if temp<0:\n",
    "    print('its freezing')#if the temperature is below 0\n",
    "elif temp in range(0,10):\n",
    "    print('its cool')\n",
    "elif temp in range(10,20):# if the temperature is from10 to 20\n",
    "    print('its warm')\n",
    "else:\n",
    "    print('its hot')# if the temperature is above 20\n",
    "        "
   ]
  },
  {
   "cell_type": "markdown",
   "id": "d182b365",
   "metadata": {},
   "source": [
    "# 6.Write a program that asks the user for a number (1-7) and prints the corresponding day of the week."
   ]
  },
  {
   "cell_type": "code",
   "execution_count": 16,
   "id": "9cb76f88",
   "metadata": {},
   "outputs": [
    {
     "name": "stdout",
     "output_type": "stream",
     "text": [
      "enter a number:4\n",
      "wednesday\n"
     ]
    }
   ],
   "source": [
    "day=int(input('enter a number:'))#day is a variable assigned\n",
    "if day==1:\n",
    "    print('sunday')# if its 1 the it returns sunday\n",
    "elif day==2:\n",
    "    print('monday')# if its 2 the value returns monday\n",
    "elif day==3:\n",
    "    print('tuesday')# if its 3 the value returns tuesday\n",
    "elif day==4:\n",
    "    print('wednesday')# if its 4 the value returns wednesday\n",
    "elif day==5:\n",
    "    print('thursday')# if its 5 the value returns thursday\n",
    "elif day==6:\n",
    "    print('friday')# if its 6 the value returns friday\n",
    "elif day==7:\n",
    "    print('saturday')# if its 7 the value returns saturday\n",
    "    "
   ]
  },
  {
   "cell_type": "markdown",
   "id": "5e107099",
   "metadata": {},
   "source": [
    "# 7.Write a program that asks the user for a number and prints \"In range\" if the number is between 10 and 20 (inclusive), and \"Out of range\" otherwise.\n"
   ]
  },
  {
   "cell_type": "code",
   "execution_count": 17,
   "id": "9919f8be",
   "metadata": {},
   "outputs": [
    {
     "name": "stdout",
     "output_type": "stream",
     "text": [
      "enter a number16\n",
      "In range\n"
     ]
    }
   ],
   "source": [
    "num=int(input('enter a number'))#we assigned a variable num\n",
    "if num in range(10,21):\n",
    "    print('In range')# if the value lies between 10 and 20 \n",
    "else:\n",
    "    print('Out of range')#if the value is above 20 and below 10"
   ]
  },
  {
   "cell_type": "markdown",
   "id": "40a18340",
   "metadata": {},
   "source": [
    "# 8.Write a program that asks the user for an integer and prints whether it's even or odd.\n"
   ]
  },
  {
   "cell_type": "code",
   "execution_count": 18,
   "id": "6175cde4",
   "metadata": {},
   "outputs": [
    {
     "name": "stdout",
     "output_type": "stream",
     "text": [
      "enter a number:4\n",
      "even number\n"
     ]
    }
   ],
   "source": [
    "num=int(input('enter a number:'))# variable is assigned\n",
    "if num%2==0:\n",
    "    print('even number')# if the number divisible by 2 it returns as an even number\n",
    "else:\n",
    "    print('odd number')# if the number not divisible by 2 then it returns an odd number \n",
    "\n"
   ]
  },
  {
   "cell_type": "markdown",
   "id": "7404badc",
   "metadata": {},
   "source": [
    "# 9. Write a Python program to add 'ing' at the end of a given string (string length should be equal to or more than 3). If the given string already ends with 'ing' then add 'ly' instead.If the string length of the given string is less than 3, leave it unchanged\n"
   ]
  },
  {
   "cell_type": "code",
   "execution_count": 24,
   "id": "fef32dfa",
   "metadata": {},
   "outputs": [
    {
     "name": "stdout",
     "output_type": "stream",
     "text": [
      "enter a string:say\n",
      "saying\n"
     ]
    }
   ],
   "source": [
    "x=str(input('enter a string:'))# variable is assigned\n",
    "if len(x)>=3:\n",
    "    print(x+'ing')#if the word is of length 3\n",
    "elif x.endswith('ing'):\n",
    "    print(x+'ly')# if the word already endswith ing then it replaces with ly\n",
    "else:\n",
    "    print('leave it unchanged')#if len is less than 3"
   ]
  },
  {
   "cell_type": "markdown",
   "id": "e9887000",
   "metadata": {},
   "source": [
    "# 10.Create rock-paper-scissors by using the if condition.\n"
   ]
  },
  {
   "cell_type": "code",
   "execution_count": 32,
   "id": "edc4eb08",
   "metadata": {},
   "outputs": [
    {
     "name": "stdout",
     "output_type": "stream",
     "text": [
      "player-I:p\n",
      "player-II:s\n",
      "b wins\n"
     ]
    }
   ],
   "source": [
    "a=input('player-I:').lower()\n",
    "b=input('player-II:').lower()#the variables are assigned \n",
    "if a=='p' and b=='s':\n",
    "    print('b wins')#if paper and scissor as inputs then b wins\n",
    "elif a=='r' and b=='p':\n",
    "    print('a wins')#if rock and paper as inputs then a wins\n",
    "elif a=='s' and b=='r':\n",
    "    print('b wins')#if scissor and rock as inputs then b wins\n",
    "elif a==b:\n",
    "    print('tie')#if the inputs are same then we get\n",
    "else:\n",
    "    print('none')\n"
   ]
  },
  {
   "cell_type": "code",
   "execution_count": null,
   "id": "966f9044",
   "metadata": {},
   "outputs": [],
   "source": []
  },
  {
   "cell_type": "markdown",
   "id": "19132b67",
   "metadata": {},
   "source": [
    "# 11.Create a dynamic calculator which asks for numbers and operator and return the answers,\n",
    "             Example\n",
    "    Input: Type first number: 10\",\n",
    "    Type any of this (+, -, *, /, %, **): ,*\n",
    "    Assignment-2 ,\n",
    "   Type second number: 19,\n",
    "    Output:Answer is 190\n"
   ]
  },
  {
   "cell_type": "code",
   "execution_count": 55,
   "id": "a4bf9a79",
   "metadata": {},
   "outputs": [
    {
     "name": "stdout",
     "output_type": "stream",
     "text": [
      "first value:10\n",
      "second value9\n",
      "type any of this(+,-,%,**,*)\n",
      "cal:**\n",
      "1000000000\n"
     ]
    }
   ],
   "source": [
    "x=int(input('first value:'))# variable x is assigned\n",
    "y=int(input('second value'))# variable y is assigned\n",
    "print('type any of this(+,-,%,**,*)')#operators \n",
    "cal = input('cal:')#caluculating \n",
    "if cal==\"+\":\n",
    "      print(x+y)#sum of x and y\n",
    "elif cal==\"-\":\n",
    "      print(x-y)#difference of x and y\n",
    "elif cal==\"%\":\n",
    "      print(x%y)#modulus of x and y\n",
    "elif cal==\"**\":\n",
    "      print(x**y)#exponential form of x and y\n",
    "      \n"
   ]
  },
  {
   "cell_type": "markdown",
   "id": "775dbcb4",
   "metadata": {},
   "source": [
    "# 12.Manoj Kumar has family and friends. Help him remind them who is who. Given a string with a name, return the relation of that person to Manoj Kumar.,\n",
    " Person Relation,\n",
    " Shiva father ,Letha mother, Tarun brother,Kavitha sister ,,Strange Coder.\n"
   ]
  },
  {
   "cell_type": "code",
   "execution_count": 4,
   "id": "df9d3314",
   "metadata": {},
   "outputs": [
    {
     "name": "stdout",
     "output_type": "stream",
     "text": [
      "enter a name:kavitha\n",
      "sister\n"
     ]
    }
   ],
   "source": [
    "x=str(input('enter a name:'))#give the input suing variable\n",
    "if x=='shiva':\n",
    "    print('father')# if shiva is given then it returns father\n",
    "elif x==('latha'):\n",
    "    print('mother')#if latha is given then it returns mother\n",
    "elif x==('tarun'):\n",
    "    print('brother')#if tarun is given then it returns brother\n",
    "elif x==('kavitha'):\n",
    "    print('sister')#if kavitha is given then it returns sister\n",
    "else:\n",
    "    print('strange')#if any name other than above name is given then it returns a strange"
   ]
  },
  {
   "cell_type": "code",
   "execution_count": 5,
   "id": "15a634d0",
   "metadata": {},
   "outputs": [
    {
     "name": "stdout",
     "output_type": "stream",
     "text": [
      "enter a name:prani\n",
      "strange\n"
     ]
    }
   ],
   "source": [
    "x=str(input('enter a name:'))#give the input suing variable\n",
    "if x=='shiva':\n",
    "    print('father')# if shiva is given then it returns father\n",
    "elif x==('latha'):\n",
    "    print('mother')#if latha is given then it returns mother\n",
    "elif x==('tarun'):\n",
    "    print('brother')#if tarun is given then it returns brother\n",
    "elif x==('kavitha'):\n",
    "    print('sister')#if kavitha is given then it returns sister\n",
    "else:\n",
    "    print('strange')#if any name other than above name is given then it returns a strange"
   ]
  },
  {
   "cell_type": "markdown",
   "id": "6478662a",
   "metadata": {},
   "source": [
    "# 13.Write a python program that takes in a word and determines whether or not it is plural. A plural word is one that ends with “s”\n"
   ]
  },
  {
   "cell_type": "code",
   "execution_count": 6,
   "id": "f95af7a2",
   "metadata": {},
   "outputs": [
    {
     "name": "stdout",
     "output_type": "stream",
     "text": [
      "enter a word:seas\n",
      "This is a plural\n"
     ]
    }
   ],
   "source": [
    "x=str(input('enter a word:'))#the input is assigned to a variable \n",
    "if x.endswith('s'):\n",
    "    print('This is a plural')#if the word ends with 's'then it's a plural\n",
    "else:\n",
    "    print('This is a singular')#if the word ends without 's then it's a singular"
   ]
  },
  {
   "cell_type": "code",
   "execution_count": 8,
   "id": "19f22c89",
   "metadata": {},
   "outputs": [
    {
     "name": "stdout",
     "output_type": "stream",
     "text": [
      "enter a word:sea\n",
      "This is a singular\n"
     ]
    }
   ],
   "source": [
    "x=str(input('enter a word:'))#the input is assigned to a variable \n",
    "if x.endswith('s'):\n",
    "    print('This is a plural')#if the word ends with 's'then it's a plural\n",
    "else:\n",
    "    print('This is a singular')#if the word ends without 's then it's a singular"
   ]
  },
  {
   "cell_type": "markdown",
   "id": "3ff20a84",
   "metadata": {},
   "source": [
    "# 14.A company decided to give a bonus of 5% to employees if his/her year of service is more than 5 years.Ask user for their salary and year of service and print the net bonus amount.\n"
   ]
  },
  {
   "cell_type": "code",
   "execution_count": 10,
   "id": "cf95855b",
   "metadata": {},
   "outputs": [
    {
     "name": "stdout",
     "output_type": "stream",
     "text": [
      "enter the salary:12000\n",
      "enter year of service:2\n",
      "1% of bonus amount\n"
     ]
    }
   ],
   "source": [
    "x=int(input('enter the salary:'))#input is assigned to a variable\n",
    "y=int(input('enter year of service:'))#input of salary is assigned to a variable\n",
    "if 0<x>1:\n",
    "    print('1% of bonus amount')#if salary is in range of 0 and 1\n",
    "elif 1<x>2:\n",
    "    print('2% of bonus amount')#if salary is in range of 1 and 2\n",
    "elif 2<x>3:\n",
    "    print('3% of bonus amount')#if salary is in range of 2 and 3\n",
    "elif 3<x>4:\n",
    "    print('4% of bonus amount')#if salary is in range of 3 and 4\n",
    "elif 4<x>5:\n",
    "    print('5% of bonus amount')#if salary is in range of 4 and 5\n",
    "else:\n",
    "    print('no bonus amount')"
   ]
  },
  {
   "cell_type": "markdown",
   "id": "0137a94d",
   "metadata": {},
   "source": [
    "# 15.Take values of length and breadth of a rectangle from the user and check if it is square or not.\n"
   ]
  },
  {
   "cell_type": "code",
   "execution_count": 13,
   "id": "afad4cc6",
   "metadata": {},
   "outputs": [
    {
     "name": "stdout",
     "output_type": "stream",
     "text": [
      "enter a length of a rectangle:2\n",
      "enter a breadth of a rectangle:3\n",
      "This is a rectangle\n"
     ]
    }
   ],
   "source": [
    "x=int(input('enter a length of a rectangle:'))#input of length is assigned to a variable\n",
    "y=int(input('enter a breadth of a rectangle:'))#input of breadth is assined to a variable\n",
    "if x==y:\n",
    "    print('This is a square')#if x and y are equal\n",
    "else:\n",
    "    print('This is a rectangle')#if x and y are not equal\n"
   ]
  },
  {
   "cell_type": "code",
   "execution_count": 14,
   "id": "457fed94",
   "metadata": {},
   "outputs": [
    {
     "name": "stdout",
     "output_type": "stream",
     "text": [
      "enter a length of a rectangle:2\n",
      "enter a breadth of a rectangle:2\n",
      "This is a square\n"
     ]
    }
   ],
   "source": [
    "x=int(input('enter a length of a rectangle:'))#input of length is assigned to a variable\n",
    "y=int(input('enter a breadth of a rectangle:'))#input of breadth is assined to a variable\n",
    "if x==y:\n",
    "    print('This is a square')#if x and y are equal\n",
    "else:\n",
    "    print('This is a rectangle')#if x and y are not equal\n"
   ]
  },
  {
   "cell_type": "markdown",
   "id": "b6a8f7f4",
   "metadata": {},
   "source": [
    "# 16.Accept any city from the user and display the monument of the city \n",
    "Hyderabad  : “charminar”\n",
    "“Delhi”         : “red fort\n",
    "“Agra           : Taj mahal\n",
    "If the city name is not given correctly, give him a warning message.\n"
   ]
  },
  {
   "cell_type": "code",
   "execution_count": 15,
   "id": "a1ced052",
   "metadata": {},
   "outputs": [
    {
     "name": "stdout",
     "output_type": "stream",
     "text": [
      "enter a city:Hyderabad\n",
      "charminar\n"
     ]
    }
   ],
   "source": [
    "x=str(input('enter a city:'))#input should be a string\n",
    "if x=='Hyderabad':\n",
    "    print('charminar')#it is the monument of Hyderabad\n",
    "elif x=='Delhi':\n",
    "    print('red fort')#it is the monument of Delhi\n",
    "elif x=='Agra':\n",
    "    print('Taj mahal')#it is the monument of Agra\n",
    "else:\n",
    "    print('WARNING')#if the city otherthan above given is input then it returns a warning"
   ]
  },
  {
   "cell_type": "code",
   "execution_count": 17,
   "id": "5d9d2810",
   "metadata": {},
   "outputs": [
    {
     "name": "stdout",
     "output_type": "stream",
     "text": [
      "enter a city:jaipur\n",
      "WARNING\n"
     ]
    }
   ],
   "source": [
    "x=str(input('enter a city:'))#input should be a string\n",
    "if x=='Hyderabad':\n",
    "    print('charminar')#it is the monument of Hyderabad\n",
    "elif x=='Delhi':\n",
    "    print('red fort')#it is the monument of Delhi\n",
    "elif x=='Agra':\n",
    "    print('Taj mahal')#it is the monument of Agra\n",
    "else:\n",
    "    print('WARNING')#if the city otherthan above given is input then it returns a warning"
   ]
  },
  {
   "cell_type": "markdown",
   "id": "c326bb40",
   "metadata": {},
   "source": [
    "# 17.Write a program to check whether a person is eligible for voting or not  (voting age>=18).\n"
   ]
  },
  {
   "cell_type": "code",
   "execution_count": 1,
   "id": "ed87e7b1",
   "metadata": {},
   "outputs": [
    {
     "name": "stdout",
     "output_type": "stream",
     "text": [
      "enter age5\n",
      "not eligible to vote\n"
     ]
    }
   ],
   "source": [
    "x=int(input('enter age'))#age input should be given\n",
    "if x in range(0,19):\n",
    "    print('not eligible to vote')# if the age is in between 0 to 18 then eligible to vote\n",
    "else:\n",
    "    print('eligible to vote')#if age is above 18 then eligible to vote"
   ]
  },
  {
   "cell_type": "code",
   "execution_count": 3,
   "id": "b7cb3ea6",
   "metadata": {},
   "outputs": [
    {
     "name": "stdout",
     "output_type": "stream",
     "text": [
      "enter age56\n",
      "eligible to vote\n"
     ]
    }
   ],
   "source": [
    "x=int(input('enter age'))#age input should be given\n",
    "if x in range(0,19):\n",
    "    print('not eligible to vote')# if the age is in between 0 to 18 then eligible to vote\n",
    "else:\n",
    "    print('eligible to vote')#if age is above 18 then eligible to vote"
   ]
  },
  {
   "cell_type": "markdown",
   "id": "fccf7270",
   "metadata": {},
   "source": [
    "# 18.Accept three sides of the triangle and check whether the triangle is possible or not.(Triangle is possible only when the sum of any two sides is greater than 3 rd side)"
   ]
  },
  {
   "cell_type": "code",
   "execution_count": 5,
   "id": "b6bd1b1a",
   "metadata": {},
   "outputs": [
    {
     "name": "stdout",
     "output_type": "stream",
     "text": [
      "enter side1:2\n",
      "enter side2:3\n",
      "enter side3:4\n",
      "triangle1 is possible \n"
     ]
    }
   ],
   "source": [
    "x=int(input('enter side1:'))#input 1\n",
    "y=int(input('enter side2:'))#input 2\n",
    "z=int(input('enter side3:'))#input 3\n",
    "if (x+y)>z:\n",
    "    print('triangle1 is possible ')# if the sum of x and y are greater than z\n",
    "elif (x+z)>y:\n",
    "    print('triangle2 is possible')# if the sum of x and z are greater than y\n",
    "elif (y+z)>x:\n",
    "    print('triangle3 is possible')# if the sum of y and z are greater than x\n",
    "else:\n",
    "    print('trianle is not possible')# if the sum of x and y are less than or equal to z\n",
    "    \n"
   ]
  },
  {
   "cell_type": "code",
   "execution_count": 8,
   "id": "fce3f5af",
   "metadata": {},
   "outputs": [
    {
     "name": "stdout",
     "output_type": "stream",
     "text": [
      "enter side1:1\n",
      "enter side2:2\n",
      "enter side3:4\n",
      "triangle2 is possible\n"
     ]
    }
   ],
   "source": [
    "x=int(input('enter side1:'))#input 1\n",
    "y=int(input('enter side2:'))#input 2\n",
    "z=int(input('enter side3:'))#input 3\n",
    "if (x+y)>z:\n",
    "    print('triangle1 is possible ')# if the sum of x and y are greater than z\n",
    "elif (x+z)>y:\n",
    "    print('triangle2 is possible')# if the sum of x and z are greater than y\n",
    "elif (y+z)>x:\n",
    "    print('triangle3 is possible')# if the sum of y and z are greater than x\n",
    "else:\n",
    "    print('trianle is not possible')# if the sum of x and y are less than or equal to z\n",
    "  "
   ]
  },
  {
   "cell_type": "code",
   "execution_count": null,
   "id": "43c9b221",
   "metadata": {},
   "outputs": [],
   "source": []
  }
 ],
 "metadata": {
  "kernelspec": {
   "display_name": "Python 3 (ipykernel)",
   "language": "python",
   "name": "python3"
  },
  "language_info": {
   "codemirror_mode": {
    "name": "ipython",
    "version": 3
   },
   "file_extension": ".py",
   "mimetype": "text/x-python",
   "name": "python",
   "nbconvert_exporter": "python",
   "pygments_lexer": "ipython3",
   "version": "3.11.5"
  }
 },
 "nbformat": 4,
 "nbformat_minor": 5
}
