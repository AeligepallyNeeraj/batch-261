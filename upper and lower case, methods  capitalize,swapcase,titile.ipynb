{
 "cells": [
  {
   "cell_type": "markdown",
   "id": "138a09a5",
   "metadata": {},
   "source": [
    "# Ascii value\n",
    "(American Standard Code for Information Interchange) is a standard encoding used in telecommunication.\n",
    "\n",
    "*ascii codes are used to represent the alphanumeric data.                                                                       \n",
    "\n",
    "ascii values lies from 65 to 91(for capital letters)\n",
    "\n",
    "\n"
   ]
  },
  {
   "cell_type": "code",
   "execution_count": 2,
   "id": "0f06266c",
   "metadata": {},
   "outputs": [
    {
     "data": {
      "text/plain": [
       "65"
      ]
     },
     "execution_count": 2,
     "metadata": {},
     "output_type": "execute_result"
    }
   ],
   "source": [
    "x='A'\n",
    "ord(x)#the ascii value of 'A'"
   ]
  },
  {
   "cell_type": "code",
   "execution_count": 4,
   "id": "5d5f19a1",
   "metadata": {},
   "outputs": [
    {
     "data": {
      "text/plain": [
       "97"
      ]
     },
     "execution_count": 4,
     "metadata": {},
     "output_type": "execute_result"
    }
   ],
   "source": [
    "x=('a')#the ascii value of 'a'\n",
    "ord(x)"
   ]
  },
  {
   "cell_type": "markdown",
   "id": "841fe9cd",
   "metadata": {},
   "source": [
    "# class\n",
    "1.A class has methods which acts on objects                                                                                     \n",
    "2.A class is the blueprint of object.\n",
    "\n"
   ]
  },
  {
   "cell_type": "code",
   "execution_count": 22,
   "id": "dd104cd3",
   "metadata": {},
   "outputs": [
    {
     "name": "stdout",
     "output_type": "stream",
     "text": [
      "python <class 'str'>\n"
     ]
    }
   ],
   "source": [
    "x='python'\n",
    "print(x,type(x))# defining a class ,Here the class is str(string)"
   ]
  },
  {
   "cell_type": "code",
   "execution_count": 21,
   "id": "22e8f4d4",
   "metadata": {},
   "outputs": [
    {
     "name": "stdout",
     "output_type": "stream",
     "text": [
      "123 <class 'int'>\n"
     ]
    }
   ],
   "source": [
    "x=123\n",
    "print(x,type(x))#defining a class which is of int data type"
   ]
  },
  {
   "cell_type": "markdown",
   "id": "24d0abfb",
   "metadata": {},
   "source": [
    "# methods \n",
    "In python methods are functions\n"
   ]
  },
  {
   "cell_type": "code",
   "execution_count": 23,
   "id": "2180f72e",
   "metadata": {},
   "outputs": [
    {
     "data": {
      "text/plain": [
       "['__add__',\n",
       " '__class__',\n",
       " '__contains__',\n",
       " '__delattr__',\n",
       " '__dir__',\n",
       " '__doc__',\n",
       " '__eq__',\n",
       " '__format__',\n",
       " '__ge__',\n",
       " '__getattribute__',\n",
       " '__getitem__',\n",
       " '__getnewargs__',\n",
       " '__getstate__',\n",
       " '__gt__',\n",
       " '__hash__',\n",
       " '__init__',\n",
       " '__init_subclass__',\n",
       " '__iter__',\n",
       " '__le__',\n",
       " '__len__',\n",
       " '__lt__',\n",
       " '__mod__',\n",
       " '__mul__',\n",
       " '__ne__',\n",
       " '__new__',\n",
       " '__reduce__',\n",
       " '__reduce_ex__',\n",
       " '__repr__',\n",
       " '__rmod__',\n",
       " '__rmul__',\n",
       " '__setattr__',\n",
       " '__sizeof__',\n",
       " '__str__',\n",
       " '__subclasshook__',\n",
       " 'capitalize',\n",
       " 'casefold',\n",
       " 'center',\n",
       " 'count',\n",
       " 'encode',\n",
       " 'endswith',\n",
       " 'expandtabs',\n",
       " 'find',\n",
       " 'format',\n",
       " 'format_map',\n",
       " 'index',\n",
       " 'isalnum',\n",
       " 'isalpha',\n",
       " 'isascii',\n",
       " 'isdecimal',\n",
       " 'isdigit',\n",
       " 'isidentifier',\n",
       " 'islower',\n",
       " 'isnumeric',\n",
       " 'isprintable',\n",
       " 'isspace',\n",
       " 'istitle',\n",
       " 'isupper',\n",
       " 'join',\n",
       " 'ljust',\n",
       " 'lower',\n",
       " 'lstrip',\n",
       " 'maketrans',\n",
       " 'partition',\n",
       " 'removeprefix',\n",
       " 'removesuffix',\n",
       " 'replace',\n",
       " 'rfind',\n",
       " 'rindex',\n",
       " 'rjust',\n",
       " 'rpartition',\n",
       " 'rsplit',\n",
       " 'rstrip',\n",
       " 'split',\n",
       " 'splitlines',\n",
       " 'startswith',\n",
       " 'strip',\n",
       " 'swapcase',\n",
       " 'title',\n",
       " 'translate',\n",
       " 'upper',\n",
       " 'zfill']"
      ]
     },
     "execution_count": 23,
     "metadata": {},
     "output_type": "execute_result"
    }
   ],
   "source": [
    "x='baby'\n",
    "dir(x)#To know the methods os a string"
   ]
  },
  {
   "cell_type": "markdown",
   "id": "f99e6924",
   "metadata": {},
   "source": [
    "# upper()\n"
   ]
  },
  {
   "cell_type": "markdown",
   "id": "7dc0405c",
   "metadata": {},
   "source": [
    "In this, the strings are convereted from lower lower case letters to upper case"
   ]
  },
  {
   "cell_type": "code",
   "execution_count": 11,
   "id": "3ae23905",
   "metadata": {},
   "outputs": [
    {
     "data": {
      "text/plain": [
       "'RAM'"
      ]
     },
     "execution_count": 11,
     "metadata": {},
     "output_type": "execute_result"
    }
   ],
   "source": [
    "x='ram'\n",
    "x.upper()#converting the string to upper case(method=upper())"
   ]
  },
  {
   "cell_type": "code",
   "execution_count": 13,
   "id": "fd9ff759",
   "metadata": {},
   "outputs": [
    {
     "data": {
      "text/plain": [
       "2387982925296"
      ]
     },
     "execution_count": 13,
     "metadata": {},
     "output_type": "execute_result"
    }
   ],
   "source": [
    "id(x)#finding the memory location of a string"
   ]
  },
  {
   "cell_type": "markdown",
   "id": "0700ce36",
   "metadata": {},
   "source": [
    "# lower()"
   ]
  },
  {
   "cell_type": "markdown",
   "id": "cb7025d5",
   "metadata": {},
   "source": [
    "In this, the strings are converted from upper case to lower case letters"
   ]
  },
  {
   "cell_type": "code",
   "execution_count": 15,
   "id": "14cdc87e",
   "metadata": {},
   "outputs": [
    {
     "data": {
      "text/plain": [
       "'prani'"
      ]
     },
     "execution_count": 15,
     "metadata": {},
     "output_type": "execute_result"
    }
   ],
   "source": [
    "x='PRANI'\n",
    "x.lower()#converting the string to lower case.(method=lower())"
   ]
  },
  {
   "cell_type": "code",
   "execution_count": 16,
   "id": "54175a77",
   "metadata": {},
   "outputs": [
    {
     "data": {
      "text/plain": [
       "'prani'"
      ]
     },
     "execution_count": 16,
     "metadata": {},
     "output_type": "execute_result"
    }
   ],
   "source": [
    "'PRANI'.lower()#we can also represent x as the given string"
   ]
  },
  {
   "cell_type": "markdown",
   "id": "6ac0be11",
   "metadata": {},
   "source": [
    "# strings are `immutable`\n"
   ]
  },
  {
   "cell_type": "code",
   "execution_count": 17,
   "id": "a1c0c24d",
   "metadata": {},
   "outputs": [
    {
     "data": {
      "text/plain": [
       "'PRANI'"
      ]
     },
     "execution_count": 17,
     "metadata": {},
     "output_type": "execute_result"
    }
   ],
   "source": [
    "x='prani'\n",
    "x.upper()#upper() case string"
   ]
  },
  {
   "cell_type": "code",
   "execution_count": 18,
   "id": "26193866",
   "metadata": {},
   "outputs": [
    {
     "data": {
      "text/plain": [
       "2387982925488"
      ]
     },
     "execution_count": 18,
     "metadata": {},
     "output_type": "execute_result"
    }
   ],
   "source": [
    "id(x)#memory location of string"
   ]
  },
  {
   "cell_type": "code",
   "execution_count": 19,
   "id": "9f8d9a46",
   "metadata": {},
   "outputs": [
    {
     "data": {
      "text/plain": [
       "'prani'"
      ]
     },
     "execution_count": 19,
     "metadata": {},
     "output_type": "execute_result"
    }
   ],
   "source": [
    "x='PRANI'\n",
    "x.lower()#lower() case string"
   ]
  },
  {
   "cell_type": "code",
   "execution_count": 20,
   "id": "e4f71d99",
   "metadata": {},
   "outputs": [
    {
     "data": {
      "text/plain": [
       "2387982559920"
      ]
     },
     "execution_count": 20,
     "metadata": {},
     "output_type": "execute_result"
    }
   ],
   "source": [
    "id(x)#memory location of string"
   ]
  },
  {
   "cell_type": "markdown",
   "id": "e14c376e",
   "metadata": {},
   "source": [
    "From the above examples of string of upper case and lower case methods we can say that the memory loaction of the 2 strings are different.                                                     \n",
    "So,strings are`immutable`"
   ]
  },
  {
   "cell_type": "markdown",
   "id": "b187e722",
   "metadata": {},
   "source": [
    "# Capitalize()\n",
    "1.In this,capitalize()method is used for starting/first letter is upper case and the remaining letters are lower case letters of a statement.           \n",
    "\n"
   ]
  },
  {
   "cell_type": "code",
   "execution_count": 26,
   "id": "c6afadfd",
   "metadata": {},
   "outputs": [
    {
     "data": {
      "text/plain": [
       "'I have got a date at a quarter to eight; i’ll see you at the gate, so don’t be late'"
      ]
     },
     "execution_count": 26,
     "metadata": {},
     "output_type": "execute_result"
    }
   ],
   "source": [
    "x='i have got a date at a quarter to eight; I’ll see you at the gate, so don’t be late'\n",
    "x.capitalize()#coverting the first letter of the statement to upper case."
   ]
  },
  {
   "cell_type": "code",
   "execution_count": 27,
   "id": "2e2c1dd4",
   "metadata": {},
   "outputs": [
    {
     "data": {
      "text/plain": [
       "'You are like my morning coffee — you power me through the day'"
      ]
     },
     "execution_count": 27,
     "metadata": {},
     "output_type": "execute_result"
    }
   ],
   "source": [
    "y='you are like my morning coffee — you power me through the day'\n",
    "'you are like my morning coffee — you power me through the day'.capitalize()"
   ]
  },
  {
   "cell_type": "markdown",
   "id": "8097d1e8",
   "metadata": {},
   "source": [
    "# Title()"
   ]
  },
  {
   "cell_type": "markdown",
   "id": "d59ec492",
   "metadata": {},
   "source": [
    " * First alphabet of the every word in a sentence changes to upper case.\n",
    " * the general syntax of the title() method is string.title()"
   ]
  },
  {
   "cell_type": "code",
   "execution_count": 29,
   "id": "05feeba8",
   "metadata": {},
   "outputs": [
    {
     "data": {
      "text/plain": [
       "'You Are Like My Morning Coffee — You Power Me Through The Day'"
      ]
     },
     "execution_count": 29,
     "metadata": {},
     "output_type": "execute_result"
    }
   ],
   "source": [
    "x='You are like my morning coffee — you power me through the day'\n",
    "x.title()#using of title method for converting the first alphabet of every word to upper case."
   ]
  },
  {
   "cell_type": "markdown",
   "id": "785f42c1",
   "metadata": {},
   "source": [
    "# Swapcase()"
   ]
  },
  {
   "cell_type": "markdown",
   "id": "90dc0d72",
   "metadata": {},
   "source": [
    "* lower case letters are converted to upper case letters.\n",
    "* upper case letters are converted to lower case letters."
   ]
  },
  {
   "cell_type": "code",
   "execution_count": 31,
   "id": "a200e0db",
   "metadata": {},
   "outputs": [
    {
     "data": {
      "text/plain": [
       "'yOU ARE LIKE MY MORNING COFFEE — YOU POWER ME THROUGH THE DAY'"
      ]
     },
     "execution_count": 31,
     "metadata": {},
     "output_type": "execute_result"
    }
   ],
   "source": [
    "x='You are like my morning coffee — you power me through the day'\n",
    "x.swapcase()#using of swapcase method"
   ]
  },
  {
   "cell_type": "markdown",
   "id": "a21df548",
   "metadata": {},
   "source": [
    "# Casefold()\n",
    "* it acts on unique code\n",
    "* the casefold() method converts the string charcter to a lower case "
   ]
  },
  {
   "cell_type": "code",
   "execution_count": 33,
   "id": "060e2d94",
   "metadata": {},
   "outputs": [
    {
     "data": {
      "text/plain": [
       "'german is in $'"
      ]
     },
     "execution_count": 33,
     "metadata": {},
     "output_type": "execute_result"
    }
   ],
   "source": [
    "x='German is in $'\n",
    "x.casefold()#using of casefold() method "
   ]
  },
  {
   "cell_type": "markdown",
   "id": "b89cbf4e",
   "metadata": {},
   "source": [
    "# Today's task \n",
    "## Take two strings of your choice\n",
    "### 1.`Reversing a string`"
   ]
  },
  {
   "cell_type": "code",
   "execution_count": 35,
   "id": "9dc43ca2",
   "metadata": {},
   "outputs": [
    {
     "name": "stdout",
     "output_type": "stream",
     "text": [
      "inarp\n"
     ]
    }
   ],
   "source": [
    "x='prani'\n",
    "print(x[::-1])#reversing of a string"
   ]
  },
  {
   "cell_type": "code",
   "execution_count": 42,
   "id": "c88786cf",
   "metadata": {},
   "outputs": [
    {
     "name": "stdout",
     "output_type": "stream",
     "text": [
      "jareen\n"
     ]
    }
   ],
   "source": [
    "y='neeraj'\n",
    "print(y[-1:-7:-1])"
   ]
  },
  {
   "cell_type": "markdown",
   "id": "a43ddb73",
   "metadata": {},
   "source": [
    "   ## 2. `Concatination of two string`\n",
    "   adding of two different strings"
   ]
  },
  {
   "cell_type": "code",
   "execution_count": 46,
   "id": "b7763dad",
   "metadata": {},
   "outputs": [
    {
     "name": "stdout",
     "output_type": "stream",
     "text": [
      "AMMANANNA\n"
     ]
    }
   ],
   "source": [
    "a='AMMA'\n",
    "b='NANNA'\n",
    "c=a+b\n",
    "print(c)#concatination of two strings"
   ]
  },
  {
   "cell_type": "markdown",
   "id": "c55e534d",
   "metadata": {},
   "source": [
    "## 3.`Get the alternate characters of the concatinated strring in reverse order`"
   ]
  },
  {
   "cell_type": "code",
   "execution_count": 47,
   "id": "7f19d4e6",
   "metadata": {},
   "outputs": [
    {
     "name": "stdout",
     "output_type": "stream",
     "text": [
      "ANNMA\n"
     ]
    }
   ],
   "source": [
    "a='AMMA'\n",
    "b='NANNA'\n",
    "c=a+b\n",
    "print(c[::-2])"
   ]
  },
  {
   "cell_type": "code",
   "execution_count": null,
   "id": "16d3b8d6",
   "metadata": {},
   "outputs": [],
   "source": []
  }
 ],
 "metadata": {
  "kernelspec": {
   "display_name": "Python 3 (ipykernel)",
   "language": "python",
   "name": "python3"
  },
  "language_info": {
   "codemirror_mode": {
    "name": "ipython",
    "version": 3
   },
   "file_extension": ".py",
   "mimetype": "text/x-python",
   "name": "python",
   "nbconvert_exporter": "python",
   "pygments_lexer": "ipython3",
   "version": "3.11.5"
  }
 },
 "nbformat": 4,
 "nbformat_minor": 5
}
