{
 "cells": [
  {
   "cell_type": "markdown",
   "id": "62e53c3c",
   "metadata": {},
   "source": [
    "# 1. Write a function, foo_1, that takes a NumPy array `arr` and returns the indices of the elements that are closest to a given target. If target is not in the given array, it should return ‘no item found’\n"
   ]
  },
  {
   "cell_type": "code",
   "execution_count": 5,
   "id": "a2f32040",
   "metadata": {},
   "outputs": [],
   "source": [
    "import numpy as np"
   ]
  },
  {
   "cell_type": "code",
   "execution_count": 20,
   "id": "78c0663d",
   "metadata": {},
   "outputs": [
    {
     "name": "stdout",
     "output_type": "stream",
     "text": [
      "enter a number:7\n"
     ]
    }
   ],
   "source": [
    "arr = np.array([3, 8, 7, 7, 7, 7, 7, 8, 7, 10])#create an array \n",
    "# Find the indices of elements closest to the target\n",
    "target=int(input('enter a number:'))\n",
    "differences = np.abs(arr - target)#The difference between the element and the target\n",
    "indices = np.argsort(differences)#The indices can be obtained by using argsort method\n"
   ]
  },
  {
   "cell_type": "code",
   "execution_count": 21,
   "id": "5616088a",
   "metadata": {},
   "outputs": [],
   "source": [
    "def foo (arr,target):#creating a function with two parameters\n",
    "    if target in arr:\n",
    "        return indices#If the element is in the arr then it returns the indices\n",
    "    else:\n",
    "        return ('item not found')\n"
   ]
  },
  {
   "cell_type": "code",
   "execution_count": 22,
   "id": "c4fbcc78",
   "metadata": {},
   "outputs": [
    {
     "data": {
      "text/plain": [
       "array([2, 3, 4, 5, 6, 8, 1, 7, 9, 0], dtype=int64)"
      ]
     },
     "execution_count": 22,
     "metadata": {},
     "output_type": "execute_result"
    }
   ],
   "source": [
    "foo(arr,7)"
   ]
  },
  {
   "cell_type": "code",
   "execution_count": 23,
   "id": "35741fd3",
   "metadata": {},
   "outputs": [
    {
     "data": {
      "text/plain": [
       "'item not found'"
      ]
     },
     "execution_count": 23,
     "metadata": {},
     "output_type": "execute_result"
    }
   ],
   "source": [
    "foo(arr,22)"
   ]
  },
  {
   "cell_type": "code",
   "execution_count": 24,
   "id": "47804915",
   "metadata": {},
   "outputs": [
    {
     "name": "stdout",
     "output_type": "stream",
     "text": [
      "enter a number:8\n"
     ]
    }
   ],
   "source": [
    "arr = np.array([3, 8, 7, 7, 7, 7, 7, 8, 7, 10])\n",
    "# Find the indices of elements closest to the target\n",
    "target=int(input('enter a number:'))\n",
    "differences = np.abs(arr - target)\n",
    "indices = np.argsort(differences)\n"
   ]
  },
  {
   "cell_type": "code",
   "execution_count": 25,
   "id": "2f019b5c",
   "metadata": {},
   "outputs": [
    {
     "data": {
      "text/plain": [
       "array([1, 7, 2, 3, 4, 5, 6, 8, 9, 0], dtype=int64)"
      ]
     },
     "execution_count": 25,
     "metadata": {},
     "output_type": "execute_result"
    }
   ],
   "source": [
    "foo(arr,8)"
   ]
  },
  {
   "cell_type": "code",
   "execution_count": 26,
   "id": "24a1c92c",
   "metadata": {},
   "outputs": [
    {
     "data": {
      "text/plain": [
       "'item not found'"
      ]
     },
     "execution_count": 26,
     "metadata": {},
     "output_type": "execute_result"
    }
   ],
   "source": [
    "foo(arr,44)"
   ]
  },
  {
   "cell_type": "markdown",
   "id": "2fa21eaa",
   "metadata": {},
   "source": [
    "# 2.Write a user defined function foo_2 that takes a 1 or 2 dim NumPy array arr and returns a new n-1 dim array, where each element is replaced by the count of non-zero elements wrt axis."
   ]
  },
  {
   "cell_type": "code",
   "execution_count": 50,
   "id": "82ebb38e",
   "metadata": {},
   "outputs": [
    {
     "name": "stdout",
     "output_type": "stream",
     "text": [
      "[4 1 2]\n"
     ]
    }
   ],
   "source": [
    "def foo_2(arr, axis):\n",
    "    non_zero = np.count_nonzero(arr, axis)\n",
    "\n",
    "    return non_zero\n",
    "\n",
    "arr = np.array([[1, 2, 3, 4],\n",
    "                [0, 5, 0, 0],\n",
    "                [2, 0, 1, 0]])\n",
    "\n",
    "result = foo_2(arr, axis=1)\n",
    "print(result)"
   ]
  },
  {
   "cell_type": "code",
   "execution_count": 51,
   "id": "f17a2291",
   "metadata": {},
   "outputs": [
    {
     "name": "stdout",
     "output_type": "stream",
     "text": [
      "[2 2 2 1]\n"
     ]
    }
   ],
   "source": [
    "def foo_2(arr, axis):\n",
    "    non_zero = np.count_nonzero(arr, axis)\n",
    "\n",
    "    return non_zero\n",
    "\n",
    "arr = np.array([[1, 2, 3, 4],\n",
    "                [0, 5, 0, 0],\n",
    "                [2, 0, 1, 0]])\n",
    "\n",
    "result = foo_2(arr, axis=0)\n",
    "print(result)"
   ]
  },
  {
   "cell_type": "code",
   "execution_count": 53,
   "id": "7b1273e3",
   "metadata": {},
   "outputs": [
    {
     "name": "stdout",
     "output_type": "stream",
     "text": [
      "[[2 1 2 2]\n",
      " [1 2 1 1]\n",
      " [2 2 2 2]]\n"
     ]
    }
   ],
   "source": [
    "def foo_2(arr, axis):\n",
    "    non_zero = np.count_nonzero(arr, axis=axis)\n",
    "\n",
    "    return non_zero\n",
    "\n",
    "arr1 = np.array([[[1, 2, 3, 4],\n",
    "                  [7, 8, 9, 0],\n",
    "                  [2, 4, 1, 6]],\n",
    "\n",
    "                 [[2, 0, 1, 3],\n",
    "                  [0, 5, 0, 5],\n",
    "                  [1, 2, 3, 4]]])\n",
    "result = foo_2(arr1, axis=0)\n",
    "print(result)"
   ]
  },
  {
   "cell_type": "code",
   "execution_count": 54,
   "id": "8b4e0a83",
   "metadata": {},
   "outputs": [
    {
     "name": "stdout",
     "output_type": "stream",
     "text": [
      "[[2 2 2 1]\n",
      " [2 2 2 1]]\n"
     ]
    }
   ],
   "source": [
    "def foo_2(arr, axis):\n",
    "    non_zero = np.count_nonzero(arr, axis=axis)\n",
    "\n",
    "    return non_zero\n",
    "\n",
    "arr1 = np.array([[[1, 2, 3, 4],\n",
    "                  [0, 5, 0, 0],\n",
    "                  [2, 0, 1, 0]],\n",
    "\n",
    "                 [[2, 0, 1, 0],\n",
    "                  [0, 5, 0, 0],\n",
    "                  [1, 2, 3, 4]]])\n",
    "\n",
    "result = foo_2(arr1, axis=1)\n",
    "print(result)"
   ]
  },
  {
   "cell_type": "code",
   "execution_count": 55,
   "id": "2f38f519",
   "metadata": {},
   "outputs": [
    {
     "name": "stdout",
     "output_type": "stream",
     "text": [
      "[[4 1 2]\n",
      " [2 1 4]]\n"
     ]
    }
   ],
   "source": [
    "def foo_2(arr, axis):\n",
    "    non_zero = np.count_nonzero(arr, axis=axis)\n",
    "\n",
    "    return non_zero\n",
    "\n",
    "arr1 = np.array([[[1, 2, 3, 4],\n",
    "                  [0, 5, 0, 0],\n",
    "                  [2, 0, 1, 0]],\n",
    "\n",
    "                 [[2, 0, 1, 0],\n",
    "                  [0, 5, 0, 0],\n",
    "                  [1, 2, 3, 4]]])\n",
    "\n",
    "result = foo_2(arr1, axis=2)\n",
    "print(result)"
   ]
  },
  {
   "attachments": {
    "image.png": {
     "image/png": "[encoded data removed]"
    }
   },
   "cell_type": "markdown",
   "id": "8cac9fe8",
   "metadata": {},
   "source": [
    "#  3.1 You are given a 2D NumPy array of data representing student scores. Each row represents a student, and each column represents a subject. Extract the scores of all students who scored above 90 in at least one subject. Provide the resulting array.\n",
    "![image.png](attachment:image.png)"
   ]
  },
  {
   "cell_type": "code",
   "execution_count": 29,
   "id": "c1080ce4",
   "metadata": {},
   "outputs": [
    {
     "data": {
      "text/plain": [
       "array([False,  True,  True,  True])"
      ]
     },
     "execution_count": 29,
     "metadata": {},
     "output_type": "execute_result"
    }
   ],
   "source": [
    "data=np.array([[85,89,88],[78,89,94],[91,87,90],[87,95,84]])# Find students who scored above 90 in at least one subject\n",
    "above_90_mask = np.any(data > 90, axis=1)# axis=1 gives the rows\n",
    "above_90_mask# we get the boolean masking values"
   ]
  },
  {
   "cell_type": "code",
   "execution_count": 30,
   "id": "8a24be2c",
   "metadata": {},
   "outputs": [
    {
     "data": {
      "text/plain": [
       "array([[78, 89, 94],\n",
       "       [91, 87, 90],\n",
       "       [87, 95, 84]])"
      ]
     },
     "execution_count": 30,
     "metadata": {},
     "output_type": "execute_result"
    }
   ],
   "source": [
    "data[above_90_mask]"
   ]
  },
  {
   "attachments": {
    "image.png": {
     "image/png": "[encoded data removed]"
    }
   },
   "cell_type": "markdown",
   "id": "ba429179",
   "metadata": {},
   "source": [
    "# 3.2 You are provided with a 2D NumPy array of data representing sales data for different products. Each row corresponds to a product, and each column represents the monthly sales for a specific month. Calculate the following statistics for each product: mean, median, standard deviation, and the month with the highest sales.\n",
    "![image.png](attachment:image.png)"
   ]
  },
  {
   "cell_type": "code",
   "execution_count": 44,
   "id": "088b761b",
   "metadata": {},
   "outputs": [
    {
     "data": {
      "text/plain": [
       "array([[120, 150, 130, 110],\n",
       "       [200, 180, 220, 250],\n",
       "       [ 90, 100,  95, 110],\n",
       "       [300, 280, 320, 340]])"
      ]
     },
     "execution_count": 44,
     "metadata": {},
     "output_type": "execute_result"
    }
   ],
   "source": [
    "sales_data=np.array([[120,150,130,110],\n",
    "              [200,180,220,250],\n",
    "              [90,100,95,110],[300,280,320,340]])\n",
    "sales_data"
   ]
  },
  {
   "cell_type": "code",
   "execution_count": 45,
   "id": "94533b9d",
   "metadata": {},
   "outputs": [
    {
     "name": "stdout",
     "output_type": "stream",
     "text": [
      "Product 1:\n",
      "Mean: 127.5\n",
      "Median: 125.0\n",
      "Standard Deviation: 14.79019945774904\n",
      "Month with the highest sales: Month 2\n",
      "\n",
      "Product 2:\n",
      "Mean: 212.5\n",
      "Median: 210.0\n",
      "Standard Deviation: 25.8602010819715\n",
      "Month with the highest sales: Month 4\n",
      "\n",
      "Product 3:\n",
      "Mean: 98.75\n",
      "Median: 97.5\n",
      "Standard Deviation: 7.39509972887452\n",
      "Month with the highest sales: Month 4\n",
      "\n",
      "Product 4:\n",
      "Mean: 310.0\n",
      "Median: 310.0\n",
      "Standard Deviation: 22.360679774997898\n",
      "Month with the highest sales: Month 4\n",
      "\n"
     ]
    }
   ],
   "source": [
    "\n",
    "\n",
    "mean_values = np.mean(sales_data, axis=1)\n",
    "\n",
    "median_values = np.median(sales_data, axis=1)\n",
    "\n",
    "standard_deviation_values = np.std(sales_data, axis=1)\n",
    "\n",
    "best_month_sales = np.argmax(sales_data, axis=1)\n",
    "\n",
    "for i in range(len(mean_values)):\n",
    "    print(f\"Product {i+1}:\")\n",
    "    print(f\"Mean: {mean_values[i]}\")\n",
    "    print(f\"Median: {median_values[i]}\")\n",
    "    print(f\"Standard Deviation: {standard_deviation_values[i]}\")\n",
    "    print(f\"Month with the highest sales: Month {best_month_sales[i] + 1}\")\n",
    "    print()"
   ]
  },
  {
   "cell_type": "markdown",
   "id": "edd7da1a",
   "metadata": {},
   "source": [
    "# 3.3 Create a NumPy array of size 1000 with random integers between 1 and 100. Then, use NumPy functions to find the top 10 most frequently occurring values in the array."
   ]
  },
  {
   "cell_type": "code",
   "execution_count": 49,
   "id": "a757bacd",
   "metadata": {},
   "outputs": [
    {
     "name": "stdout",
     "output_type": "stream",
     "text": [
      "[  6   6  52  87  86  27  82 100  13  92  64  89  23  66   3  68  63  73\n",
      "  92  31  69  85  83  24  43  52   6  64  20  21  89  85  79  14  59  89\n",
      "  53  22  73  37  59  35  52  78  70  52  34  26  86  40  52  61  89  31\n",
      "  55  44  27  30  61  10  93  50  23  74  56  54  71  13  82  69  31  76\n",
      "  27  56  32  99  18  16  97  23  67  29  83  36  83  58  14  91  27  51\n",
      "  37  91   6  45  61  63  24  69  38  24  83  70  22  99  88  60  69  69\n",
      "  85  53  46  31  64  43  82  28  58   4  83  39  89  76  78  54  52  14\n",
      "  69  22  17  62  13  55   8  11  92  71  95  93  37  49  62  99  41  56\n",
      "  46  80  86  97  94  78  60  69  57  73  69  76  58  47  57  38  31  41\n",
      "  74  31  52  60  96  32   7  80  23  42  71  39  93  53  43  45  26  36\n",
      " 100  10  25  76  62  18  28   6  53  96  80  90  92  73  32  56  72  12\n",
      "  12  55  53   6  94  41   4  36  26  21  77 100  75  64  60  75  13  44\n",
      "  57  56   6  17  99  92  58  20  33   4  48  11  60  93  17  74  68  18\n",
      "  94  99  33  73  80  78  29  17  37  43  83  69   3  98  58  49  74  76\n",
      "  64  86  95  77  33  38  71  86  40  90  75  21  78  66  96  37  46  91\n",
      "  20  80  22  35  92  44  94  88  78  32   3   9  25  32  97  13  89  55\n",
      "  44  17   9  97  42  21  16  33  97  70  25  26  55  75  33  25  44  25\n",
      "  48   6  75  66  83  79  88  75  68  93  55  61  20  81  41  54  51  77\n",
      "  41  69  45  65   7  26  16  63  34  19  10  49  93  55  13  88  95  77\n",
      "  91   6  19  56   8  44  35  91  60  30   3  15  58  28   3  71  87  53\n",
      "  76  24  17  34  81  10  83  71   2  16   9  96  79  72  35  70  34  26\n",
      "  15  42  62  66  15  74  21  86  63  34  42  57   5  98  20  59   7  67\n",
      "  47  48  21  25  58  54  75  63  70  41  25  39  70  39  55  82  72  46\n",
      "  53  14  46  42  32  81  40  11  31   8  87   9  48  38  61  67  87  49\n",
      "  23  46  68  91  45  39  38  14  14  14  68  85  12  69  16  60  53  46\n",
      "  14  26  96   3  85   8  76 100  31  37  85  26  42  97  11  13  68  78\n",
      "  61  92  10  16   2  50  38  49  53  18  65  39  15  31  23  47  71  38\n",
      "  31  65  27  21  42  71  84  37  97  37  73  45  43   8   4  71  93  29\n",
      "  53  68   5  15  67  77  16  51  56  41   2   1  12  64 100  86  88  67\n",
      "  25  10   5  57  71  22  69   6   8  61   4  79  19  97  71  89  56  89\n",
      "   1  65  69  95  56  86  81  97  53  36  69  79  25  53  63  68  15   7\n",
      "  55  19  90  66  25  61  68  58  91  23   9  74  53 100  23  65  65   2\n",
      "  49  19  92  25  35  86  28  41  18  92  53  89  31  47   1  76  24   8\n",
      "   9  41  41  15  91  72  91   5  58  34  61   9  68  18  36  64  50  75\n",
      "  58  70  79   7  24  87   7  44  91  97  63   1   8  14  31  22  40  77\n",
      "  73  93  19  64   5  13  97   9  81  43  37  79  82  90  78  31  89  77\n",
      "  16  65  32   1  42  48  27  54  96  11  12 100  64  83  78  48  90  45\n",
      "  89  52  17  26  85  36  32  33  73  60  46  21   2  17   9  99  18  32\n",
      "  63   9  86  56   8  63   2  90   3  15  91  60   3  46  49  53  89  51\n",
      "  22  83  96  44  61  12  53  64  17  74  45  69  47  85  78  81  60  26\n",
      "  59  25  35   9  35  34  99  62  79  24  56  26  65  54  45  90  27  32\n",
      "  77 100  40  77  13  49  74  62  30  15  17  36  56  71   8  22   3  66\n",
      "  29  42  99  76   2  65  89  24  59  79  34   4  98  39  78   2  14   6\n",
      "   4  75  70  44  39  32  26  42  40  76  73  75  59  64  58  71  83  45\n",
      "  22  32  48  15  95  87  96  21  63  83  58  65  67  97  65  23  20  50\n",
      "  50  68  50  27  66   1  89  79  45  63   6  52  41  56  71  56  33   1\n",
      "  80  82   7  34  75  46  23  67  98  78  18  85  26  60  39   7  62  91\n",
      "  74   8  14  59  35  22  40  92  15  20   6  84  35  85  80   5  68   5\n",
      "   9  40  38   5  54  87  38   7  35  15  23  75  29  19  29  84  54  26\n",
      "  55  70  18  27  56  73  58  58  72  32  79  64  17  88  46   2  23  34\n",
      "  21  21   5  58  35  43  63  25  20  15  94  31  56  30  51  41  17  11\n",
      "  69  74  49  51  19  45  99   4  55  91  92  82  73  21  66  54  92  67\n",
      "  79  90  75  57  14   1  20  52  11  87  55  59  11  70  54 100  24  16\n",
      "  92  96  50  28  87  27  94   5  64  56   7  53  86  67  84  84  59  14\n",
      "  20  18  18  32  41   3  18  48  89  73  99  77  72  68  21   2  23  86\n",
      "  34  37  17  21  19   2  21  71  95  20]\n",
      "Top 10 most frequently occurring values:\n",
      "56: 17 occurrences\n",
      "53: 17 occurrences\n",
      "69: 16 occurrences\n",
      "21: 15 occurrences\n",
      "71: 15 occurrences\n",
      "58: 15 occurrences\n",
      "89: 15 occurrences\n",
      "26: 14 occurrences\n",
      "32: 14 occurrences\n",
      "31: 14 occurrences\n"
     ]
    }
   ],
   "source": [
    "random_array = np.random.randint(1, 101, size=1000)\n",
    "print(random_array)\n",
    "\n",
    "unique_values, counts = np.unique(random_array, return_counts=1)\n",
    "sorted_indices = np.argsort(counts)[::-1]\n",
    "\n",
    "top_values = unique_values[sorted_indices[:10]]\n",
    "top_counts = counts[sorted_indices[:10]]\n",
    "\n",
    "print(\"Top 10 most frequently occurring values:\")\n",
    "for value, count in zip(top_values, top_counts):\n",
    "    print(f\"{value}: {count} occurrences\")"
   ]
  },
  {
   "cell_type": "code",
   "execution_count": null,
   "id": "fc8b19d1",
   "metadata": {},
   "outputs": [],
   "source": []
  }
 ],
 "metadata": {
  "kernelspec": {
   "display_name": "Python 3 (ipykernel)",
   "language": "python",
   "name": "python3"
  },
  "language_info": {
   "codemirror_mode": {
    "name": "ipython",
    "version": 3
   },
   "file_extension": ".py",
   "mimetype": "text/x-python",
   "name": "python",
   "nbconvert_exporter": "python",
   "pygments_lexer": "ipython3",
   "version": "3.11.5"
  }
 },
 "nbformat": 4,
 "nbformat_minor": 5
}
