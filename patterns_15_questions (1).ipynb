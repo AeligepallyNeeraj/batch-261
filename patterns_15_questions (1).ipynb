{
 "cells": [
  {
   "cell_type": "markdown",
   "id": "e1bd51b9",
   "metadata": {},
   "source": [
    "# reduce function\n",
    "* It is similar to map and filter but it doesn't require any typecast.\n",
    "* Syntax : \n",
    " `reduce(function,iterator)`\n",
    "* It follows cummulative sum.\n",
    "* It takes exactly only two arguments not more than that"
   ]
  },
  {
   "cell_type": "code",
   "execution_count": 4,
   "id": "a85cd041",
   "metadata": {},
   "outputs": [],
   "source": [
    "import functools\n",
    "from functools import reduce"
   ]
  },
  {
   "cell_type": "code",
   "execution_count": 5,
   "id": "02b97884",
   "metadata": {},
   "outputs": [
    {
     "data": {
      "text/plain": [
       "6"
      ]
     },
     "execution_count": 5,
     "metadata": {},
     "output_type": "execute_result"
    }
   ],
   "source": [
    "reduce(lambda x,y:x+y,[1,2,3])"
   ]
  },
  {
   "cell_type": "code",
   "execution_count": 3,
   "id": "2707b51d",
   "metadata": {},
   "outputs": [],
   "source": [
    "import functools\n",
    "from functools import reduce"
   ]
  },
  {
   "cell_type": "code",
   "execution_count": 7,
   "id": "1fae26d2",
   "metadata": {},
   "outputs": [
    {
     "data": {
      "text/plain": [
       "[3, 4, 3, 4, 3, 4, 3, 4]"
      ]
     },
     "execution_count": 7,
     "metadata": {},
     "output_type": "execute_result"
    }
   ],
   "source": [
    "reduce(lambda x,y:x*y,[2,2],[3,4])"
   ]
  },
  {
   "cell_type": "code",
   "execution_count": null,
   "id": "d385c3cc",
   "metadata": {},
   "outputs": [],
   "source": [
    "import functools\n",
    "from functools import reduce"
   ]
  },
  {
   "cell_type": "code",
   "execution_count": 9,
   "id": "d86e0c84",
   "metadata": {},
   "outputs": [
    {
     "data": {
      "text/plain": [
       "' prani prani prani prani'"
      ]
     },
     "execution_count": 9,
     "metadata": {},
     "output_type": "execute_result"
    }
   ],
   "source": [
    "reduce(lambda x,y:x*y,[2,2],' prani')"
   ]
  },
  {
   "cell_type": "markdown",
   "id": "e12eb2ee",
   "metadata": {},
   "source": [
    "# patterns "
   ]
  },
  {
   "cell_type": "code",
   "execution_count": 24,
   "id": "fab9cba4",
   "metadata": {},
   "outputs": [],
   "source": [
    "def foo_pattern(x,y):\n",
    "    for i in range(1,6):\n",
    "        for j in range(i):\n",
    "            print('$',end= ' ')\n",
    "        print()\n"
   ]
  },
  {
   "cell_type": "code",
   "execution_count": 25,
   "id": "7d269a76",
   "metadata": {},
   "outputs": [
    {
     "name": "stdout",
     "output_type": "stream",
     "text": [
      "$ \n",
      "$ $ \n",
      "$ $ $ \n",
      "$ $ $ $ \n",
      "$ $ $ $ $ \n"
     ]
    }
   ],
   "source": [
    "foo_pattern(6,'$')"
   ]
  },
  {
   "cell_type": "code",
   "execution_count": 39,
   "id": "3eedd11d",
   "metadata": {},
   "outputs": [],
   "source": [
    "def foo_pattern(x,y):\n",
    "    for i in range(5,0,-1):\n",
    "        for j in range(i):\n",
    "            print('$',end= ' ')\n",
    "        print()\n"
   ]
  },
  {
   "cell_type": "code",
   "execution_count": 40,
   "id": "5125f418",
   "metadata": {},
   "outputs": [
    {
     "name": "stdout",
     "output_type": "stream",
     "text": [
      "$ $ $ $ $ \n",
      "$ $ $ $ \n",
      "$ $ $ \n",
      "$ $ \n",
      "$ \n"
     ]
    }
   ],
   "source": [
    "foo_pattern(5,'#')"
   ]
  },
  {
   "cell_type": "code",
   "execution_count": 42,
   "id": "21fbd531",
   "metadata": {},
   "outputs": [],
   "source": [
    "def foo_pattern(x):\n",
    "    for i in range(0,x):\n",
    "        for j in range(i):\n",
    "            print('$',end= ' ')\n",
    "        print()\n"
   ]
  },
  {
   "cell_type": "code",
   "execution_count": 43,
   "id": "14462cbd",
   "metadata": {},
   "outputs": [
    {
     "name": "stdout",
     "output_type": "stream",
     "text": [
      "\n",
      "$ \n",
      "$ $ \n",
      "$ $ $ \n",
      "$ $ $ $ \n"
     ]
    }
   ],
   "source": [
    "foo_pattern(5)"
   ]
  },
  {
   "cell_type": "code",
   "execution_count": 44,
   "id": "db0bb135",
   "metadata": {},
   "outputs": [],
   "source": [
    "def foo_pattern(x):\n",
    "    for i in range(1,x+1):\n",
    "        for j in range(i):\n",
    "            print('$',end= ' ')\n",
    "        print()\n"
   ]
  },
  {
   "cell_type": "code",
   "execution_count": 45,
   "id": "0c2f430c",
   "metadata": {},
   "outputs": [
    {
     "name": "stdout",
     "output_type": "stream",
     "text": [
      "$ \n",
      "$ $ \n",
      "$ $ $ \n",
      "$ $ $ $ \n",
      "$ $ $ $ $ \n"
     ]
    }
   ],
   "source": [
    "foo_pattern(5)"
   ]
  },
  {
   "cell_type": "code",
   "execution_count": 54,
   "id": "10ba684c",
   "metadata": {},
   "outputs": [],
   "source": [
    "def foo_pattern(x):\n",
    "    for i in range(x+1,0,-1):\n",
    "        for j in range(i):\n",
    "            print('$',end= ' ')\n",
    "        print()\n"
   ]
  },
  {
   "cell_type": "code",
   "execution_count": 55,
   "id": "698e9564",
   "metadata": {},
   "outputs": [
    {
     "name": "stdout",
     "output_type": "stream",
     "text": [
      "$ $ $ $ $ $ \n",
      "$ $ $ $ $ \n",
      "$ $ $ $ \n",
      "$ $ $ \n",
      "$ $ \n",
      "$ \n"
     ]
    }
   ],
   "source": [
    "foo_pattern(5)"
   ]
  },
  {
   "cell_type": "code",
   "execution_count": 56,
   "id": "b55ed7dd",
   "metadata": {},
   "outputs": [],
   "source": [
    "def foo_pattern(x):\n",
    "    for i in range(x+1,0,-1):\n",
    "        for j in range(i):\n",
    "            print(j,end= ' ')\n",
    "        print()\n"
   ]
  },
  {
   "cell_type": "code",
   "execution_count": 57,
   "id": "115063f1",
   "metadata": {},
   "outputs": [
    {
     "name": "stdout",
     "output_type": "stream",
     "text": [
      "0 1 2 3 4 5 \n",
      "0 1 2 3 4 \n",
      "0 1 2 3 \n",
      "0 1 2 \n",
      "0 1 \n",
      "0 \n"
     ]
    }
   ],
   "source": [
    "foo_pattern(5)"
   ]
  },
  {
   "cell_type": "code",
   "execution_count": 72,
   "id": "5035509b",
   "metadata": {},
   "outputs": [],
   "source": [
    "def foo_pattern(x):\n",
    "    for i in range(1,x+1,2):\n",
    "        for j in range(i):\n",
    "            print('$',end=' ')\n",
    "        print()\n"
   ]
  },
  {
   "cell_type": "code",
   "execution_count": 73,
   "id": "a25bcbef",
   "metadata": {},
   "outputs": [
    {
     "name": "stdout",
     "output_type": "stream",
     "text": [
      "$ \n",
      "$ $ $ \n",
      "$ $ $ $ $ \n"
     ]
    }
   ],
   "source": [
    "foo_pattern(5)"
   ]
  },
  {
   "cell_type": "code",
   "execution_count": 31,
   "id": "a3eb34c8",
   "metadata": {},
   "outputs": [],
   "source": [
    "def foo_pattern(x):\n",
    "    for i in range(x):\n",
    "        for j in range(i,x):\n",
    "            print(' ',end=' ')\n",
    "        for j in range(i+1):\n",
    "            print('*',end=' ')\n",
    "        print()"
   ]
  },
  {
   "cell_type": "code",
   "execution_count": 32,
   "id": "539334a8",
   "metadata": {},
   "outputs": [
    {
     "name": "stdout",
     "output_type": "stream",
     "text": [
      "          * \n",
      "        * * \n",
      "      * * * \n",
      "    * * * * \n",
      "  * * * * * \n"
     ]
    }
   ],
   "source": [
    "foo_pattern(5)"
   ]
  },
  {
   "cell_type": "code",
   "execution_count": 16,
   "id": "e5856ad7",
   "metadata": {},
   "outputs": [],
   "source": [
    "def foo_pattern(x):\n",
    "    for i in range(x,-1,-1):\n",
    "        for j in range(i,x):\n",
    "            print(' ',end=' ')\n",
    "        for j in range(i+1):\n",
    "            print('*',end=' ')\n",
    "        print()"
   ]
  },
  {
   "cell_type": "code",
   "execution_count": 17,
   "id": "f6b76a7f",
   "metadata": {},
   "outputs": [
    {
     "name": "stdout",
     "output_type": "stream",
     "text": [
      "* * * * * \n",
      "  * * * * \n",
      "    * * * \n",
      "      * * \n",
      "        * \n"
     ]
    }
   ],
   "source": [
    "foo_pattern(4)"
   ]
  },
  {
   "cell_type": "code",
   "execution_count": 35,
   "id": "71f51bde",
   "metadata": {},
   "outputs": [],
   "source": [
    "def foo_pattern(x):\n",
    "    for i in range(x):\n",
    "        for j in range(i,x):\n",
    "            print(' ',end=' ')\n",
    "        for j in range(x+1):\n",
    "            print('*',end=' ')\n",
    "        print()"
   ]
  },
  {
   "cell_type": "code",
   "execution_count": 36,
   "id": "55041dd9",
   "metadata": {},
   "outputs": [
    {
     "name": "stdout",
     "output_type": "stream",
     "text": [
      "          * * * * * * \n",
      "        * * * * * * \n",
      "      * * * * * * \n",
      "    * * * * * * \n",
      "  * * * * * * \n"
     ]
    }
   ],
   "source": [
    "foo_pattern(5)"
   ]
  },
  {
   "cell_type": "code",
   "execution_count": 9,
   "id": "55e72b3f",
   "metadata": {},
   "outputs": [],
   "source": [
    "def func_pattern3(x):\n",
    "    for i in range(x):\n",
    "        for j in range(i,x):\n",
    "            print(' ',end=' ')\n",
    "        for j in range(i):\n",
    "                print('*',end=' ')\n",
    "        for j in range(i+1):\n",
    "            print('*',end=' ')\n",
    "        print()"
   ]
  },
  {
   "cell_type": "code",
   "execution_count": 18,
   "id": "5db10656",
   "metadata": {},
   "outputs": [
    {
     "name": "stdout",
     "output_type": "stream",
     "text": [
      "  * * * * * * * \n",
      "    * * * * * \n",
      "      * * * \n",
      "        * \n",
      "        * \n",
      "      * * * \n",
      "    * * * * * \n",
      "  * * * * * * * \n"
     ]
    }
   ],
   "source": [
    "func_pattern(4)"
   ]
  },
  {
   "cell_type": "code",
   "execution_count": 25,
   "id": "c5639691",
   "metadata": {},
   "outputs": [],
   "source": [
    "def func_patternz(x):\n",
    "    for i in range(x):\n",
    "        for j in range(i,x):\n",
    "            print(' ',end=' ')\n",
    "        for j in range(i):\n",
    "            print('*',end=' ')\n",
    "        for j in range(i+1):\n",
    "            print('*',end=' ')\n",
    "        print()    "
   ]
  },
  {
   "cell_type": "code",
   "execution_count": 26,
   "id": "725e3d63",
   "metadata": {},
   "outputs": [
    {
     "name": "stdout",
     "output_type": "stream",
     "text": [
      "          * \n",
      "        * * * \n",
      "      * * * * * \n",
      "    * * * * * * * \n",
      "  * * * * * * * * * \n"
     ]
    }
   ],
   "source": [
    "func_patternz(5)"
   ]
  },
  {
   "cell_type": "code",
   "execution_count": 7,
   "id": "43d1cbd8",
   "metadata": {},
   "outputs": [],
   "source": [
    "def func_pattern2(x):\n",
    "    for i in range(x,-1,-1):\n",
    "        for j in range(i,x):\n",
    "            print(' ',end=' ')\n",
    "        for j in range(i):\n",
    "            print('*',end=' ')\n",
    "        for j in range(i+1):\n",
    "            print('*',end=' ')\n",
    "        print()"
   ]
  },
  {
   "cell_type": "code",
   "execution_count": 8,
   "id": "a7b0cc12",
   "metadata": {},
   "outputs": [
    {
     "name": "stdout",
     "output_type": "stream",
     "text": [
      "* * * * * * * * * \n",
      "  * * * * * * * \n",
      "    * * * * * \n",
      "      * * * \n",
      "        * \n"
     ]
    }
   ],
   "source": [
    "func_pattern2(4)"
   ]
  },
  {
   "cell_type": "code",
   "execution_count": 5,
   "id": "429c0fde",
   "metadata": {},
   "outputs": [],
   "source": [
    "def func_pattern1(x):\n",
    "    for i in range(x):\n",
    "        for j in range(i,x):\n",
    "            print(' ',end=' ')\n",
    "        for j in range(i):\n",
    "                print('*',end=' ')\n",
    "        for j in range(i+1):\n",
    "            print('*',end=' ')\n",
    "        print()\n",
    "    for i in range(x,-1,-1):\n",
    "        for j in range(i,x):\n",
    "            print(' ',end=' ')\n",
    "        for j in range(i):\n",
    "            print('*',end=' ')\n",
    "        for j in range(i+1):\n",
    "            print('*',end=' ')\n",
    "        print()"
   ]
  },
  {
   "cell_type": "code",
   "execution_count": 6,
   "id": "809a352d",
   "metadata": {},
   "outputs": [
    {
     "name": "stdout",
     "output_type": "stream",
     "text": [
      "      * \n",
      "    * * * \n",
      "  * * * * * \n",
      "* * * * * * * \n",
      "  * * * * * \n",
      "    * * * \n",
      "      * \n"
     ]
    }
   ],
   "source": [
    "func_pattern1(3)"
   ]
  },
  {
   "cell_type": "code",
   "execution_count": 3,
   "id": "44d19252",
   "metadata": {},
   "outputs": [],
   "source": [
    "def func_pattern(x):\n",
    "    for i in range(x-1,-1,-1):\n",
    "        for j in range(i,x):\n",
    "            print(' ',end=' ')\n",
    "        for j in range(i):\n",
    "            print('*',end=' ')\n",
    "        for j in range(i+1):\n",
    "            print('*',end=' ')\n",
    "        print()\n",
    "    for i in range(x):\n",
    "        for j in range(i,x):\n",
    "            print(' ',end=' ')\n",
    "        for j in range(i):\n",
    "                print('*',end=' ')\n",
    "        for j in range(i+1):\n",
    "            print('*',end=' ')\n",
    "        print()        "
   ]
  },
  {
   "cell_type": "code",
   "execution_count": 4,
   "id": "0fc32e24",
   "metadata": {},
   "outputs": [
    {
     "name": "stdout",
     "output_type": "stream",
     "text": [
      "  * * * * * * * * * \n",
      "    * * * * * * * \n",
      "      * * * * * \n",
      "        * * * \n",
      "          * \n",
      "          * \n",
      "        * * * \n",
      "      * * * * * \n",
      "    * * * * * * * \n",
      "  * * * * * * * * * \n"
     ]
    }
   ],
   "source": [
    "func_pattern(5)"
   ]
  },
  {
   "cell_type": "code",
   "execution_count": 36,
   "id": "7c836ccd",
   "metadata": {},
   "outputs": [],
   "source": [
    "def foo_pattern(x):\n",
    "    for i in range(x+1,0,-1):\n",
    "        for j in range(i):\n",
    "            print(j,end= ' ')\n",
    "        print()\n"
   ]
  },
  {
   "cell_type": "code",
   "execution_count": 37,
   "id": "443d1788",
   "metadata": {},
   "outputs": [
    {
     "name": "stdout",
     "output_type": "stream",
     "text": [
      "0 1 2 3 4 \n",
      "0 1 2 3 \n",
      "0 1 2 \n",
      "0 1 \n",
      "0 \n"
     ]
    }
   ],
   "source": [
    "foo_pattern(4)"
   ]
  },
  {
   "cell_type": "code",
   "execution_count": 53,
   "id": "e87f1756",
   "metadata": {},
   "outputs": [],
   "source": []
  },
  {
   "cell_type": "code",
   "execution_count": 77,
   "id": "19242ea2",
   "metadata": {},
   "outputs": [],
   "source": [
    "def foo_pattern(x):\n",
    "    for i in range(x,-1,-1):\n",
    "        for j in range(i,x):\n",
    "            print(' ',end=' ')\n",
    "        for j in range(i+1):\n",
    "            print(j,end=' ')\n",
    "        print()"
   ]
  },
  {
   "cell_type": "code",
   "execution_count": 78,
   "id": "d656f00e",
   "metadata": {},
   "outputs": [
    {
     "name": "stdout",
     "output_type": "stream",
     "text": [
      "0 1 2 3 4 5 \n",
      "  0 1 2 3 4 \n",
      "    0 1 2 3 \n",
      "      0 1 2 \n",
      "        0 1 \n",
      "          0 \n"
     ]
    }
   ],
   "source": [
    "foo_pattern(5)"
   ]
  },
  {
   "cell_type": "code",
   "execution_count": 61,
   "id": "2eaa28ab",
   "metadata": {},
   "outputs": [],
   "source": [
    "def foo_pattern(x):\n",
    "    for i in range(x):\n",
    "        for j in range(i,x):\n",
    "            print(' ',end=' ')\n",
    "        for j in range(i+1):\n",
    "            print(j,end=' ')\n",
    "        print()"
   ]
  },
  {
   "cell_type": "code",
   "execution_count": 79,
   "id": "33438f88",
   "metadata": {},
   "outputs": [
    {
     "name": "stdout",
     "output_type": "stream",
     "text": [
      "0 1 2 3 4 5 \n",
      "  0 1 2 3 4 \n",
      "    0 1 2 3 \n",
      "      0 1 2 \n",
      "        0 1 \n",
      "          0 \n"
     ]
    }
   ],
   "source": [
    "foo_pattern(5)"
   ]
  },
  {
   "cell_type": "code",
   "execution_count": 80,
   "id": "890110b0",
   "metadata": {},
   "outputs": [],
   "source": [
    "def func_pattern(x):\n",
    "    for i in range(x-1,-1,-1):\n",
    "        for j in range(i,x):\n",
    "            print(' ',end=' ')\n",
    "        for j in range(i):\n",
    "            print(j,end=' ')\n",
    "        for j in range(i+1):\n",
    "            print(j,end=' ')\n",
    "        print()\n",
    "    for i in range(x):\n",
    "        for j in range(i,x):\n",
    "            print(' ',end=' ')\n",
    "        for j in range(i):\n",
    "                print(j,end=' ')\n",
    "        for j in range(i+1):\n",
    "            print(j,end=' ')\n",
    "        print()        "
   ]
  },
  {
   "cell_type": "code",
   "execution_count": 81,
   "id": "418183db",
   "metadata": {},
   "outputs": [
    {
     "name": "stdout",
     "output_type": "stream",
     "text": [
      "  0 1 2 3 0 1 2 3 4 \n",
      "    0 1 2 0 1 2 3 \n",
      "      0 1 0 1 2 \n",
      "        0 0 1 \n",
      "          0 \n",
      "          0 \n",
      "        0 0 1 \n",
      "      0 1 0 1 2 \n",
      "    0 1 2 0 1 2 3 \n",
      "  0 1 2 3 0 1 2 3 4 \n"
     ]
    }
   ],
   "source": [
    "func_pattern(5)"
   ]
  },
  {
   "cell_type": "code",
   "execution_count": 88,
   "id": "65721c4a",
   "metadata": {},
   "outputs": [
    {
     "name": "stdout",
     "output_type": "stream",
     "text": [
      "* \n",
      "* * \n",
      "* * * \n",
      "* * * * \n",
      "* * * * * \n",
      "* * * * * \n",
      "* * * * \n",
      "* * * \n",
      "* * \n",
      "* \n"
     ]
    }
   ],
   "source": [
    "x=5\n",
    "for i in range(1,x+1):\n",
    "    for j in range(i):\n",
    "        print('*',end=' ')\n",
    "    print()\n",
    "for i in range(x):\n",
    "    for j in range(i,x):\n",
    "        print('*',end=' ')\n",
    "    print()"
   ]
  },
  {
   "cell_type": "code",
   "execution_count": null,
   "id": "4c8bfa22",
   "metadata": {},
   "outputs": [],
   "source": []
  }
 ],
 "metadata": {
  "kernelspec": {
   "display_name": "Python 3 (ipykernel)",
   "language": "python",
   "name": "python3"
  },
  "language_info": {
   "codemirror_mode": {
    "name": "ipython",
    "version": 3
   },
   "file_extension": ".py",
   "mimetype": "text/x-python",
   "name": "python",
   "nbconvert_exporter": "python",
   "pygments_lexer": "ipython3",
   "version": "3.11.5"
  }
 },
 "nbformat": 4,
 "nbformat_minor": 5
}
