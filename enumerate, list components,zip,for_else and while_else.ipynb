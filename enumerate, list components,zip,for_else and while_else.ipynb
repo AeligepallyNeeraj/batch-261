{
 "cells": [
  {
   "cell_type": "markdown",
   "id": "933fafae",
   "metadata": {},
   "source": [
    "# for_else and while_else\n",
    "* else will execute when the loop ended naturally without break\n",
    "* if we use break in for and while the else statement doesn't execute.\n"
   ]
  },
  {
   "cell_type": "code",
   "execution_count": 8,
   "id": "0b69e823",
   "metadata": {},
   "outputs": [
    {
     "name": "stdout",
     "output_type": "stream",
     "text": [
      "2\n"
     ]
    }
   ],
   "source": [
    "#example for_else \n",
    "for ele in range(10):\n",
    "    if ele == 2:\n",
    "        print(ele)\n",
    "        break\n",
    "else:\n",
    "    print('execution completed')"
   ]
  },
  {
   "cell_type": "code",
   "execution_count": 1,
   "id": "94b5b1ce",
   "metadata": {},
   "outputs": [
    {
     "name": "stdout",
     "output_type": "stream",
     "text": [
      "0\n",
      "1\n",
      "2\n",
      "3\n",
      "4\n",
      "execution completed\n"
     ]
    }
   ],
   "source": [
    "ele=0\n",
    "while ele in range(5):          # using while_else\n",
    "    print(ele)\n",
    "    ele+=1\n",
    "else:\n",
    "    print('execution completed')"
   ]
  },
  {
   "cell_type": "markdown",
   "id": "1fee9d55",
   "metadata": {},
   "source": [
    "# prime number\n",
    "syntax is`(2,num/2+1)`\n",
    "* A number which is divisible by itself and 1"
   ]
  },
  {
   "cell_type": "code",
   "execution_count": 15,
   "id": "75b94d3a",
   "metadata": {},
   "outputs": [
    {
     "name": "stdout",
     "output_type": "stream",
     "text": [
      "enter a num a:1\n",
      "enter a num b:26\n",
      "1 ,2 ,3 ,5 ,7 ,11 ,13 ,17 ,19 ,23 ,"
     ]
    }
   ],
   "source": [
    "a,b=int(input('enter a num a:')),int(input('enter a num b:'))#prime numbers\n",
    "s,e=min(a,b),max(a,b)\n",
    "e=e+1\n",
    "for num in range(s,e):\n",
    "    for div in range(2,int(num/2)+1):\n",
    "        if  num % div == 0 :\n",
    "            break\n",
    "    else:\n",
    "        print(num, end =' ,')"
   ]
  },
  {
   "cell_type": "markdown",
   "id": "4842fb11",
   "metadata": {},
   "source": [
    "# if the number is in the list or not"
   ]
  },
  {
   "cell_type": "code",
   "execution_count": 22,
   "id": "798e95b9",
   "metadata": {},
   "outputs": [
    {
     "name": "stdout",
     "output_type": "stream",
     "text": [
      "enter a number:5\n",
      "yes,the value entered in the list is in the container\n"
     ]
    }
   ],
   "source": [
    "x=['a',4,5,'prani']\n",
    "y=float(input('enter a number:'))\n",
    "\n",
    "for ele in x:\n",
    "    if ele==y:\n",
    "        print('yes,the value entered in the list is in the container')\n",
    "        break\n",
    "else:\n",
    "        print('no')"
   ]
  },
  {
   "cell_type": "markdown",
   "id": "2c52be86",
   "metadata": {},
   "source": [
    "# enumerate\n",
    "\n",
    "<u> it gives the index and value </u>"
   ]
  },
  {
   "cell_type": "code",
   "execution_count": 23,
   "id": "75664c51",
   "metadata": {},
   "outputs": [
    {
     "name": "stdout",
     "output_type": "stream",
     "text": [
      "0 s\n",
      "1 t\n",
      "2 r\n",
      "3 i\n",
      "4 n\n",
      "5 g\n"
     ]
    }
   ],
   "source": [
    "x='string'\n",
    "\n",
    "for ind,val in enumerate(x):\n",
    "    print(ind,val)"
   ]
  },
  {
   "cell_type": "code",
   "execution_count": 35,
   "id": "8e6a64bf",
   "metadata": {},
   "outputs": [
    {
     "name": "stdout",
     "output_type": "stream",
     "text": [
      "enter a number:15\n",
      "value15 entered is in container at index2\n"
     ]
    }
   ],
   "source": [
    "x=[1,2,15,99]\n",
    "y=int(input('enter a number:'))\n",
    "for i,ele  in enumerate(x):\n",
    "    if ele == y:\n",
    "        print(f'value{y} entered is in container at index{i}')\n",
    "        break\n",
    "else:\n",
    "    print('no it is not there')"
   ]
  },
  {
   "cell_type": "markdown",
   "id": "09749853",
   "metadata": {},
   "source": [
    "x=[1,2,15,99]\n",
    "y=int(input('enter a number:'))# here if we use both the ind,val then we need to print in the next line\n",
    "for i,ele  in enumerate(x):\n",
    "    print(i,ele)\n",
    "    if ele == y:\n",
    "        print(f'value{y} entered is in container at index{i}')\n",
    "        break\n",
    "else:\n",
    "    print('no it is not there')"
   ]
  },
  {
   "cell_type": "markdown",
   "id": "d456e073",
   "metadata": {},
   "source": [
    "#  adding values to an empty list\n"
   ]
  },
  {
   "cell_type": "code",
   "execution_count": 40,
   "id": "8b9aa98d",
   "metadata": {},
   "outputs": [
    {
     "data": {
      "text/plain": [
       "[0, 1, 2, 3, 4, 5, 6, 7, 8, 9]"
      ]
     },
     "execution_count": 40,
     "metadata": {},
     "output_type": "execute_result"
    }
   ],
   "source": [
    "x=[]\n",
    "for i in range(0,10):\n",
    "    x.append(i)\n",
    "x    "
   ]
  },
  {
   "cell_type": "markdown",
   "id": "b1be09f3",
   "metadata": {},
   "source": [
    "# list components"
   ]
  },
  {
   "cell_type": "code",
   "execution_count": 42,
   "id": "6b23a852",
   "metadata": {},
   "outputs": [
    {
     "data": {
      "text/plain": [
       "[0, 1, 2, 3, 4, 5, 6, 7, 8, 9]"
      ]
     },
     "execution_count": 42,
     "metadata": {},
     "output_type": "execute_result"
    }
   ],
   "source": [
    "x=[ele for ele in range(0,10)]\n",
    "x"
   ]
  },
  {
   "cell_type": "code",
   "execution_count": 44,
   "id": "80274d4c",
   "metadata": {},
   "outputs": [
    {
     "data": {
      "text/plain": [
       "[0, 2, 4, 6, 8, 10, 12, 14, 16, 18]"
      ]
     },
     "execution_count": 44,
     "metadata": {},
     "output_type": "execute_result"
    }
   ],
   "source": [
    "x=[2*ele for ele in range(0,10)]\n",
    "x"
   ]
  },
  {
   "cell_type": "code",
   "execution_count": 45,
   "id": "617170eb",
   "metadata": {},
   "outputs": [
    {
     "data": {
      "text/plain": [
       "[0, 4, 8, 12, 16]"
      ]
     },
     "execution_count": 45,
     "metadata": {},
     "output_type": "execute_result"
    }
   ],
   "source": [
    "x=[2*ele for ele in range(0,10) if ele%2==0]# if num divisible by 2\n",
    "x"
   ]
  },
  {
   "cell_type": "code",
   "execution_count": 51,
   "id": "40cd658d",
   "metadata": {},
   "outputs": [
    {
     "name": "stdout",
     "output_type": "stream",
     "text": [
      "enter a string with upper and lower alphabets:prAnI\n"
     ]
    },
    {
     "data": {
      "text/plain": [
       "'prAnI'"
      ]
     },
     "execution_count": 51,
     "metadata": {},
     "output_type": "execute_result"
    }
   ],
   "source": [
    "x=input('enter a string with upper and lower alphabets:')\n",
    "x\n",
    "      "
   ]
  },
  {
   "cell_type": "code",
   "execution_count": 53,
   "id": "e292b039",
   "metadata": {},
   "outputs": [
    {
     "name": "stdout",
     "output_type": "stream",
     "text": [
      "enter a string with upper and lower alphabets:prAnIlU\n"
     ]
    },
    {
     "data": {
      "text/plain": [
       "['A', 'I', 'U']"
      ]
     },
     "execution_count": 53,
     "metadata": {},
     "output_type": "execute_result"
    }
   ],
   "source": [
    "x=input('enter a string with upper and lower alphabets:')# using list components for strings for upper and lower cases\n",
    "y=[var for var in x if var.isupper()]\n",
    "y\n"
   ]
  },
  {
   "cell_type": "code",
   "execution_count": 54,
   "id": "2be70305",
   "metadata": {},
   "outputs": [
    {
     "name": "stdout",
     "output_type": "stream",
     "text": [
      "enter a string with upper and lower alphabets:prani\n"
     ]
    },
    {
     "data": {
      "text/plain": [
       "[]"
      ]
     },
     "execution_count": 54,
     "metadata": {},
     "output_type": "execute_result"
    }
   ],
   "source": [
    "x=input('enter a string with upper and lower alphabets:')# if the variables are in lower cases only\n",
    "y=[var for var in x if var.isupper()]\n",
    "y"
   ]
  },
  {
   "cell_type": "code",
   "execution_count": 55,
   "id": "4e80b5d6",
   "metadata": {},
   "outputs": [
    {
     "name": "stdout",
     "output_type": "stream",
     "text": [
      "enter a string with upper and lower alphabets:mALaYAlAM\n"
     ]
    },
    {
     "data": {
      "text/plain": [
       "{'A', 'L', 'M', 'Y'}"
      ]
     },
     "execution_count": 55,
     "metadata": {},
     "output_type": "execute_result"
    }
   ],
   "source": [
    "x=input('enter a string with upper and lower alphabets:')\n",
    "y={var for var in x if var.isupper()}\n",
    "y"
   ]
  },
  {
   "cell_type": "markdown",
   "id": "06d789af",
   "metadata": {},
   "source": [
    "# ZIP\n",
    "* It joins the values from first list and combines with the second list first value"
   ]
  },
  {
   "cell_type": "code",
   "execution_count": 56,
   "id": "75c54107",
   "metadata": {},
   "outputs": [
    {
     "data": {
      "text/plain": [
       "[(1, 11), (2, 22), (3, 33)]"
      ]
     },
     "execution_count": 56,
     "metadata": {},
     "output_type": "execute_result"
    }
   ],
   "source": [
    "list(zip([1,2,3,4],[11,22,33]))"
   ]
  },
  {
   "cell_type": "code",
   "execution_count": 58,
   "id": "aa6b5a35",
   "metadata": {},
   "outputs": [
    {
     "name": "stdout",
     "output_type": "stream",
     "text": [
      "(1, 11)\n",
      "(2, 22)\n",
      "(3, 33)\n"
     ]
    }
   ],
   "source": [
    "for ele in (zip([1,2,3,4],[11,22,33])):\n",
    "            print(ele)"
   ]
  },
  {
   "cell_type": "code",
   "execution_count": 62,
   "id": "81a7dea3",
   "metadata": {},
   "outputs": [
    {
     "name": "stdout",
     "output_type": "stream",
     "text": [
      "enter a string:prani\n"
     ]
    },
    {
     "data": {
      "text/plain": [
       "{0: 'm', 1: 'A', 2: 'L', 3: 'a', 4: 'Y', 5: 'A', 6: 'l', 7: 'A', 8: 'M'}"
      ]
     },
     "execution_count": 62,
     "metadata": {},
     "output_type": "execute_result"
    }
   ],
   "source": [
    "l=input('enter a string:')#giving the dictionary using enumerate \n",
    "y={key:value for key,value in enumerate(x)}\n",
    "y"
   ]
  },
  {
   "cell_type": "code",
   "execution_count": null,
   "id": "ce08864c",
   "metadata": {},
   "outputs": [],
   "source": []
  }
 ],
 "metadata": {
  "kernelspec": {
   "display_name": "Python 3 (ipykernel)",
   "language": "python",
   "name": "python3"
  },
  "language_info": {
   "codemirror_mode": {
    "name": "ipython",
    "version": 3
   },
   "file_extension": ".py",
   "mimetype": "text/x-python",
   "name": "python",
   "nbconvert_exporter": "python",
   "pygments_lexer": "ipython3",
   "version": "3.11.5"
  }
 },
 "nbformat": 4,
 "nbformat_minor": 5
}
