{
 "cells": [
  {
   "cell_type": "markdown",
   "id": "779b5abb",
   "metadata": {},
   "source": [
    "# find() method\n",
    "* The first occurance a specified value from left to right                  \n",
    "* we move from left to right.                                                 \n",
    "* The general syntax is `string.find('')`"
   ]
  },
  {
   "cell_type": "code",
   "execution_count": 4,
   "id": "16de7d3f",
   "metadata": {},
   "outputs": [
    {
     "data": {
      "text/plain": [
       "5"
      ]
     },
     "execution_count": 4,
     "metadata": {},
     "output_type": "execute_result"
    }
   ],
   "source": [
    "x='You need to be real enough to be believable, but you don’t necessarily have to be real enough to be real. There is a distinction'\n",
    "x.find('e')# the first occurance of 'e' from left to right"
   ]
  },
  {
   "cell_type": "markdown",
   "id": "42261b06",
   "metadata": {},
   "source": [
    "* the genearal syntax for finding the first occurance of specified value from start to end index is`string.find(sub,[start],[end])`"
   ]
  },
  {
   "cell_type": "code",
   "execution_count": 5,
   "id": "5b054743",
   "metadata": {},
   "outputs": [
    {
     "data": {
      "text/plain": [
       "5"
      ]
     },
     "execution_count": 5,
     "metadata": {},
     "output_type": "execute_result"
    }
   ],
   "source": [
    "x='You need to be real enough to be believable, but you don’t necessarily have to be real enough to be real. There is a distinction'\n",
    "x.find('e',5,45)"
   ]
  },
  {
   "cell_type": "markdown",
   "id": "2519a783",
   "metadata": {},
   "source": [
    "In this find() method if it returns -1 as output then it means its on failure\n",
    "\n"
   ]
  },
  {
   "cell_type": "markdown",
   "id": "3b2eb7e0",
   "metadata": {},
   "source": [
    "# count() method\n",
    "* This method counts the number of occurances of a specified value                   \n",
    "* The general syntax is`string.count('')`"
   ]
  },
  {
   "cell_type": "code",
   "execution_count": 7,
   "id": "e6f8777d",
   "metadata": {},
   "outputs": [
    {
     "data": {
      "text/plain": [
       "14"
      ]
     },
     "execution_count": 7,
     "metadata": {},
     "output_type": "execute_result"
    }
   ],
   "source": [
    "x='Fuzzy Wuzzy was a bear. Fuzzy Wuzzy had no hair. Fuzzy Wuzzy wasn’t fuzzy, was he?'\n",
    "x.count('z')#counting the no of occurances of 'z'"
   ]
  },
  {
   "cell_type": "markdown",
   "id": "199e13f7",
   "metadata": {},
   "source": [
    "Syntax for counting the number of occurances from start to end indexes is`string.count('',[start],[end])`"
   ]
  },
  {
   "cell_type": "code",
   "execution_count": 11,
   "id": "3efa39b8",
   "metadata": {},
   "outputs": [
    {
     "data": {
      "text/plain": [
       "3"
      ]
     },
     "execution_count": 11,
     "metadata": {},
     "output_type": "execute_result"
    }
   ],
   "source": [
    "x='Fuzzy Wuzzy was a bear. Fuzzy Wuzzy had no hair. Fuzzy Wuzzy wasn’t fuzzy, was he?'\n",
    "x.count('z',3,18)#counting of number of occurances of z from indexes 3 to 18"
   ]
  },
  {
   "cell_type": "markdown",
   "id": "5d94d05c",
   "metadata": {},
   "source": [
    "# rfind() method"
   ]
  },
  {
   "cell_type": "markdown",
   "id": "105782e2",
   "metadata": {},
   "source": [
    "* in this we find the indexes from right to left\n",
    "* the first occurance of specified value is consudered from right side to left side\n",
    "* the geneal syntax is`string.rfind('')`"
   ]
  },
  {
   "cell_type": "code",
   "execution_count": 12,
   "id": "37a5904d",
   "metadata": {},
   "outputs": [
    {
     "data": {
      "text/plain": [
       "72"
      ]
     },
     "execution_count": 12,
     "metadata": {},
     "output_type": "execute_result"
    }
   ],
   "source": [
    "x='Fuzzy Wuzzy was a bear. Fuzzy Wuzzy had no hair. Fuzzy Wuzzy wasn’t fuzzy, was he?'\n",
    "x.rfind('y')"
   ]
  },
  {
   "cell_type": "markdown",
   "id": "e32a95ef",
   "metadata": {},
   "source": [
    "* the syntax for finding the first occurances from right to left side is`string.rfind('',[start],[end])`"
   ]
  },
  {
   "cell_type": "code",
   "execution_count": 17,
   "id": "f896ab1d",
   "metadata": {},
   "outputs": [
    {
     "data": {
      "text/plain": [
       "28"
      ]
     },
     "execution_count": 17,
     "metadata": {},
     "output_type": "execute_result"
    }
   ],
   "source": [
    "x.rfind('y',20,34)#the first occurance of 'y' from index 20 to 34"
   ]
  },
  {
   "cell_type": "markdown",
   "id": "49967aa4",
   "metadata": {},
   "source": [
    "# index() method\n",
    "* find() and index() method does the same job for first occurance\n",
    "* The difference is find() method displays the ouput as-1 whereas index() method displays the output as error on their failures\n",
    "* the syntax is`string.index('')`"
   ]
  },
  {
   "cell_type": "code",
   "execution_count": 20,
   "id": "65bae594",
   "metadata": {},
   "outputs": [
    {
     "data": {
      "text/plain": [
       "13"
      ]
     },
     "execution_count": 20,
     "metadata": {},
     "output_type": "execute_result"
    }
   ],
   "source": [
    "x='Fuzzy Wuzzy was a bear. Fuzzy Wuzzy had no hair. Fuzzy Wuzzy wasn’t fuzzy, was he?'\n",
    "x.index('a')# index of 'a' from left to right"
   ]
  },
  {
   "cell_type": "code",
   "execution_count": 22,
   "id": "efa51362",
   "metadata": {},
   "outputs": [
    {
     "data": {
      "text/plain": [
       "9"
      ]
     },
     "execution_count": 22,
     "metadata": {},
     "output_type": "execute_result"
    }
   ],
   "source": [
    "x='where is my friend?'\n",
    "x.index('m')"
   ]
  },
  {
   "cell_type": "markdown",
   "id": "dd4ec655",
   "metadata": {},
   "source": [
    "# rindex() method\n",
    "* the indexes are considered from right to left\n",
    "* The general syntax is`string.rindex('')`\n"
   ]
  },
  {
   "cell_type": "code",
   "execution_count": 24,
   "id": "c56a69a0",
   "metadata": {},
   "outputs": [
    {
     "data": {
      "text/plain": [
       "71"
      ]
     },
     "execution_count": 24,
     "metadata": {},
     "output_type": "execute_result"
    }
   ],
   "source": [
    "x='Fuzzy Wuzzy was a bear. Fuzzy Wuzzy had no hair. Fuzzy Wuzzy wasn’t fuzzy, was he?'\n",
    "x.rindex('z')# index of 'z' from right to left"
   ]
  },
  {
   "cell_type": "markdown",
   "id": "63edbca1",
   "metadata": {},
   "source": [
    "# replace() method\n",
    "* This method is used for replacing the characters of a string within itself\n",
    "* The syntax is`string.replace(old,new,count=-1)`                            \n",
    "    here the old  refers to the old character                                                       \n",
    "    new refers to the new character\n",
    "    "
   ]
  },
  {
   "cell_type": "code",
   "execution_count": 26,
   "id": "88d8a639",
   "metadata": {},
   "outputs": [
    {
     "data": {
      "text/plain": [
       "'mAdAm'"
      ]
     },
     "execution_count": 26,
     "metadata": {},
     "output_type": "execute_result"
    }
   ],
   "source": [
    "m='madam'\n",
    "m.replace('a','A')#the old characters of 'a' are replaced by 'A'"
   ]
  },
  {
   "cell_type": "code",
   "execution_count": 28,
   "id": "3825b865",
   "metadata": {},
   "outputs": [
    {
     "data": {
      "text/plain": [
       "'$rav$$'"
      ]
     },
     "execution_count": 28,
     "metadata": {},
     "output_type": "execute_result"
    }
   ],
   "source": [
    "m='sravss'\n",
    "m.replace('s','$',3)# the 3 occurances of 's' are replaced by'$'"
   ]
  },
  {
   "cell_type": "markdown",
   "id": "ee3e90ca",
   "metadata": {},
   "source": [
    "# split() method"
   ]
  },
  {
   "cell_type": "markdown",
   "id": "16652fc4",
   "metadata": {},
   "source": [
    "* It splits the string as a list\n",
    "* the output we get as tokens\n",
    "* maxsplit changes the string as for some particular lists.\n",
    "* The general syntax is`string.split('')`\n",
    "for maxsplit the syntax is `string.maxsplit('')`"
   ]
  },
  {
   "cell_type": "code",
   "execution_count": 30,
   "id": "3e0badca",
   "metadata": {},
   "outputs": [
    {
     "data": {
      "text/plain": [
       "['Fuzzy Wuzzy ',\n",
       " 'as a bear. Fuzzy Wuzzy had no hair. Fuzzy Wuzzy ',\n",
       " 'asn’t fuzzy, ',\n",
       " 'as he?']"
      ]
     },
     "execution_count": 30,
     "metadata": {},
     "output_type": "execute_result"
    }
   ],
   "source": [
    "x='Fuzzy Wuzzy was a bear. Fuzzy Wuzzy had no hair. Fuzzy Wuzzy wasn’t fuzzy, was he?'\n",
    "x.split('w')# the 'w' is removed and space is taken as the output for displaying"
   ]
  },
  {
   "cell_type": "code",
   "execution_count": 31,
   "id": "f8b4a912",
   "metadata": {},
   "outputs": [
    {
     "data": {
      "text/plain": [
       "['m', 'l', 'y', 'l', 'm']"
      ]
     },
     "execution_count": 31,
     "metadata": {},
     "output_type": "execute_result"
    }
   ],
   "source": [
    "x='malayalam'\n",
    "x.split('a')"
   ]
  },
  {
   "cell_type": "markdown",
   "id": "53453860",
   "metadata": {},
   "source": [
    "# rsplit() method\n",
    "* this splits the string from right to left manner\n",
    "* the general syntax is`string.rsplit('')`"
   ]
  },
  {
   "cell_type": "code",
   "execution_count": 32,
   "id": "8006bce2",
   "metadata": {},
   "outputs": [
    {
     "data": {
      "text/plain": [
       "['Fuzzy Wuzzy was a bear. Fuzzy Wuzzy ',\n",
       " 'ad no ',\n",
       " 'air. Fuzzy Wuzzy wasn’t fuzzy, was ',\n",
       " 'e?']"
      ]
     },
     "execution_count": 32,
     "metadata": {},
     "output_type": "execute_result"
    }
   ],
   "source": [
    "x='Fuzzy Wuzzy was a bear. Fuzzy Wuzzy had no hair. Fuzzy Wuzzy wasn’t fuzzy, was he?'\n",
    "x.rsplit('h')"
   ]
  },
  {
   "cell_type": "code",
   "execution_count": 39,
   "id": "758ffb9c",
   "metadata": {},
   "outputs": [
    {
     "data": {
      "text/plain": [
       "['Fuzzy Wuzzy was a bear. Fuzzy Wuzzy had no hair. Fuzzy Wuzzy wasn’t',\n",
       " 'fuzzy,',\n",
       " 'was',\n",
       " 'he?']"
      ]
     },
     "execution_count": 39,
     "metadata": {},
     "output_type": "execute_result"
    }
   ],
   "source": [
    "x.rsplit(maxsplit=3)# splitting of string into 3 tokens"
   ]
  },
  {
   "cell_type": "markdown",
   "id": "7a12aa90",
   "metadata": {},
   "source": [
    "#### rsplit() and split() are similar"
   ]
  },
  {
   "cell_type": "code",
   "execution_count": 36,
   "id": "41668471",
   "metadata": {},
   "outputs": [
    {
     "data": {
      "text/plain": [
       "True"
      ]
     },
     "execution_count": 36,
     "metadata": {},
     "output_type": "execute_result"
    }
   ],
   "source": [
    "r=x.rsplit()\n",
    "l=x.split()# Both the rsplit and split gives the same output \n",
    "r==l"
   ]
  },
  {
   "cell_type": "code",
   "execution_count": 38,
   "id": "fdb0dae6",
   "metadata": {},
   "outputs": [
    {
     "data": {
      "text/plain": [
       "['who', 'are', 'you?']"
      ]
     },
     "execution_count": 38,
     "metadata": {},
     "output_type": "execute_result"
    }
   ],
   "source": [
    "p='who are you?'\n",
    "p.rsplit(maxsplit=2)#we split the string at 2 points so we get the output of 3 tokens\n"
   ]
  },
  {
   "cell_type": "code",
   "execution_count": 40,
   "id": "03e0dd6f",
   "metadata": {},
   "outputs": [
    {
     "data": {
      "text/plain": [
       "['who', 'are you?']"
      ]
     },
     "execution_count": 40,
     "metadata": {},
     "output_type": "execute_result"
    }
   ],
   "source": [
    "p='who are you?'\n",
    "p.split(maxsplit=1)#we are splitting at only 1 point so we get 2 tokens"
   ]
  },
  {
   "cell_type": "markdown",
   "id": "072f9a8c",
   "metadata": {},
   "source": [
    "* we can also say that<u> the no of splits(n)=(n+1) tokens<\\u> "
   ]
  },
  {
   "cell_type": "markdown",
   "id": "5466fb7b",
   "metadata": {},
   "source": [
    "# partition() method\n",
    "* In this method parts the string into `3` parts\n",
    "* The syntax is`string.partition('')`\n"
   ]
  },
  {
   "cell_type": "code",
   "execution_count": 44,
   "id": "fb9d087e",
   "metadata": {},
   "outputs": [
    {
     "data": {
      "text/plain": [
       "('', 'V', 'IRAT')"
      ]
     },
     "execution_count": 44,
     "metadata": {},
     "output_type": "execute_result"
    }
   ],
   "source": [
    "y='VIRAT'# partition method \n",
    "y.partition('V')"
   ]
  },
  {
   "cell_type": "code",
   "execution_count": 45,
   "id": "9720cf12",
   "metadata": {},
   "outputs": [
    {
     "data": {
      "text/plain": [
       "('east or ', 'w', 'est virat is the best')"
      ]
     },
     "execution_count": 45,
     "metadata": {},
     "output_type": "execute_result"
    }
   ],
   "source": [
    "y='east or west virat is the best'\n",
    "y.partition('w')"
   ]
  },
  {
   "cell_type": "markdown",
   "id": "c82b9f12",
   "metadata": {},
   "source": [
    "* Here the character mentioned in the input is considered as the second token .                        \n",
    "                    The first token is lconsidered as the left of the specified character.                                                         The third character is considered as the right of the specified character"
   ]
  },
  {
   "cell_type": "code",
   "execution_count": 48,
   "id": "d00665df",
   "metadata": {},
   "outputs": [
    {
     "data": {
      "text/plain": [
       "('god bless you', '', '')"
      ]
     },
     "execution_count": 48,
     "metadata": {},
     "output_type": "execute_result"
    }
   ],
   "source": [
    "p='god bless you'# if the specified character is not in the string then by default it gives empty strings\n",
    "p.partition('a')"
   ]
  },
  {
   "cell_type": "markdown",
   "id": "d6439fb4",
   "metadata": {},
   "source": [
    "<i> The output in partition() method always gives a tuple()<i\\>"
   ]
  },
  {
   "cell_type": "markdown",
   "id": "cd76c57c",
   "metadata": {},
   "source": [
    "<i> when we concatinate two strings of the output in partition it results in original state of a string<i\\>"
   ]
  },
  {
   "cell_type": "markdown",
   "id": "5c877248",
   "metadata": {},
   "source": [
    "# rpartition() method\n",
    "* this also parts the string into 3 parts from right to left.\n",
    "* The syntax is`string.rpartition('')`"
   ]
  },
  {
   "cell_type": "code",
   "execution_count": 50,
   "id": "28998144",
   "metadata": {},
   "outputs": [
    {
     "data": {
      "text/plain": [
       "('god bles', 's', ' you')"
      ]
     },
     "execution_count": 50,
     "metadata": {},
     "output_type": "execute_result"
    }
   ],
   "source": [
    "p='god bless you'\n",
    "p.rpartition('s')"
   ]
  },
  {
   "cell_type": "code",
   "execution_count": 52,
   "id": "18c371ac",
   "metadata": {},
   "outputs": [
    {
     "data": {
      "text/plain": [
       "('bab', 'y', '')"
      ]
     },
     "execution_count": 52,
     "metadata": {},
     "output_type": "execute_result"
    }
   ],
   "source": [
    "i='baby'\n",
    "i.rpartition('y')# the default string is an empty string"
   ]
  },
  {
   "cell_type": "code",
   "execution_count": null,
   "id": "d08a7f54",
   "metadata": {},
   "outputs": [],
   "source": []
  }
 ],
 "metadata": {
  "kernelspec": {
   "display_name": "Python 3 (ipykernel)",
   "language": "python",
   "name": "python3"
  },
  "language_info": {
   "codemirror_mode": {
    "name": "ipython",
    "version": 3
   },
   "file_extension": ".py",
   "mimetype": "text/x-python",
   "name": "python",
   "nbconvert_exporter": "python",
   "pygments_lexer": "ipython3",
   "version": "3.11.5"
  }
 },
 "nbformat": 4,
 "nbformat_minor": 5
}
